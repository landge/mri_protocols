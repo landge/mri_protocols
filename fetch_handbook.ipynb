{
 "cells": [
  {
   "cell_type": "code",
   "execution_count": 3,
   "metadata": {
    "collapsed": true,
    "jupyter": {
     "outputs_hidden": true
    }
   },
   "outputs": [],
   "source": [
    "import pandas as pd\n",
    "import requests\n",
    "import numpy as np\n",
    "from bs4 import BeautifulSoup as bs"
   ]
  },
  {
   "cell_type": "code",
   "execution_count": 4,
   "metadata": {
    "collapsed": false,
    "jupyter": {
     "outputs_hidden": false
    },
    "pycharm": {
     "name": "#%%\n"
    }
   },
   "outputs": [],
   "source": [
    "print_url = 'https://ehandboken.ous-hf.no/Printing/PrintDocument?documentId='"
   ]
  },
  {
   "cell_type": "code",
   "execution_count": 5,
   "metadata": {
    "collapsed": false,
    "jupyter": {
     "outputs_hidden": false
    },
    "pycharm": {
     "name": "#%%\n"
    }
   },
   "outputs": [],
   "source": [
    "url = \"https://ehandboken.ous-hf.no/Printing/PrintDocument?documentId=84546\""
   ]
  },
  {
   "cell_type": "code",
   "execution_count": 6,
   "metadata": {
    "collapsed": false,
    "jupyter": {
     "outputs_hidden": false
    },
    "pycharm": {
     "name": "#%%\n"
    }
   },
   "outputs": [],
   "source": [
    "response = requests.get(url)"
   ]
  },
  {
   "cell_type": "code",
   "execution_count": 7,
   "metadata": {
    "collapsed": false,
    "jupyter": {
     "outputs_hidden": false
    },
    "pycharm": {
     "name": "#%%\n"
    }
   },
   "outputs": [],
   "source": [
    "soup = bs(response.text, 'lxml')"
   ]
  },
  {
   "cell_type": "code",
   "execution_count": 8,
   "metadata": {
    "collapsed": false,
    "jupyter": {
     "outputs_hidden": false
    },
    "pycharm": {
     "name": "#%%\n"
    }
   },
   "outputs": [],
   "source": [
    "links = soup.find_all('a')"
   ]
  },
  {
   "cell_type": "code",
   "execution_count": 9,
   "metadata": {
    "collapsed": false,
    "jupyter": {
     "outputs_hidden": false
    },
    "pycharm": {
     "name": "#%%\n"
    }
   },
   "outputs": [],
   "source": [
    "print_links = []\n",
    "for a in links:\n",
    "    names_and_numbers = {}\n",
    "    document_id = a['href'].split('/')[-1]\n",
    "    names_and_numbers['Title'] = a.text.replace(u'\\xa0', u' ')\n",
    "    names_and_numbers['Document_id'] = document_id\n",
    "    names_and_numbers['print_url'] = print_url+document_id\n",
    "    print_links.append(names_and_numbers)"
   ]
  },
  {
   "cell_type": "code",
   "execution_count": 10,
   "metadata": {
    "collapsed": false,
    "jupyter": {
     "outputs_hidden": false
    },
    "pycharm": {
     "name": "#%%\n"
    }
   },
   "outputs": [
    {
     "data": {
      "text/plain": [
       "[{'Title': 'MR KC1: Caput standard utredning (MRKC)',\n",
       "  'Document_id': '14633',\n",
       "  'print_url': 'https://ehandboken.ous-hf.no/Printing/PrintDocument?documentId=14633'},\n",
       " {'Title': 'MR KC2: Caput m/kontrast (MRKCK)',\n",
       "  'Document_id': '14629',\n",
       "  'print_url': 'https://ehandboken.ous-hf.no/Printing/PrintDocument?documentId=14629'},\n",
       " {'Title': 'MR KC3: Caput Cerebralt infarkt(MRKCINF)',\n",
       "  'Document_id': '14706',\n",
       "  'print_url': 'https://ehandboken.ous-hf.no/Printing/PrintDocument?documentId=14706'},\n",
       " {'Title': 'MR KC4: Caput demyeliniserende sykdom (MRKCMS)',\n",
       "  'Document_id': '14708',\n",
       "  'print_url': 'https://ehandboken.ous-hf.no/Printing/PrintDocument?documentId=14708'},\n",
       " {'Title': 'MR KC5: Caput Traume (MRKCTR)',\n",
       "  'Document_id': '109137',\n",
       "  'print_url': 'https://ehandboken.ous-hf.no/Printing/PrintDocument?documentId=109137'},\n",
       " {'Title': 'MR KC6: Vaskulitt (MRKCVAS)',\n",
       "  'Document_id': '127840',\n",
       "  'print_url': 'https://ehandboken.ous-hf.no/Printing/PrintDocument?documentId=127840'},\n",
       " {'Title': 'MR KC7: Caput Epilepsi (MRKCEPI)',\n",
       "  'Document_id': '14676',\n",
       "  'print_url': 'https://ehandboken.ous-hf.no/Printing/PrintDocument?documentId=14676'},\n",
       " {'Title': 'MR KC8: Caput Ikke-kontrastladende tumor (MRKCGLIOP)',\n",
       "  'Document_id': '127839',\n",
       "  'print_url': 'https://ehandboken.ous-hf.no/Printing/PrintDocument?documentId=127839'},\n",
       " {'Title': 'MR KC9: Caput Cerebral infeksjon (MRKCI)',\n",
       "  'Document_id': '14685',\n",
       "  'print_url': 'https://ehandboken.ous-hf.no/Printing/PrintDocument?documentId=14685'},\n",
       " {'Title': 'MR KC10: Caput Postoperativ benign tumor (MRKCOPBEN)',\n",
       "  'Document_id': '14715',\n",
       "  'print_url': 'https://ehandboken.ous-hf.no/Printing/PrintDocument?documentId=14715'},\n",
       " {'Title': 'MR KC11: Caput Trombektomi (RH) (MRKC11)',\n",
       "  'Document_id': '142195',\n",
       "  'print_url': 'https://ehandboken.ous-hf.no/Printing/PrintDocument?documentId=142195'},\n",
       " {'Title': 'MR KC12: Caput Akutt cerebralt infarkt(MRKCINF+)',\n",
       "  'Document_id': '14693',\n",
       "  'print_url': 'https://ehandboken.ous-hf.no/Printing/PrintDocument?documentId=14693'},\n",
       " {'Title': 'MR KC13: Caput Skallebasis (MRKCBASISEP)',\n",
       "  'Document_id': '14739',\n",
       "  'print_url': 'https://ehandboken.ous-hf.no/Printing/PrintDocument?documentId=14739'},\n",
       " {'Title': 'MR KC15: Caput Nevrodegenerative sykdommer',\n",
       "  'Document_id': '14671',\n",
       "  'print_url': 'https://ehandboken.ous-hf.no/Printing/PrintDocument?documentId=14671'},\n",
       " {'Title': 'MR KC16: Caput Demyeliniserende sykdom uten iv kontrast (MRKCMSUTEN)',\n",
       "  'Document_id': '135370',\n",
       "  'print_url': 'https://ehandboken.ous-hf.no/Printing/PrintDocument?documentId=135370'},\n",
       " {'Title': 'MR KC17: Caput Hydrocephalus. (MRKCFLOW)',\n",
       "  'Document_id': '14678',\n",
       "  'print_url': 'https://ehandboken.ous-hf.no/Printing/PrintDocument?documentId=14678'},\n",
       " {'Title': 'MR KC18: Caput Disseksjon (MRKCDIS)',\n",
       "  'Document_id': '14737',\n",
       "  'print_url': 'https://ehandboken.ous-hf.no/Printing/PrintDocument?documentId=14737'},\n",
       " {'Title': 'MR KC21: Caput Navigasjon (MRKCNAV)',\n",
       "  'Document_id': '14710',\n",
       "  'print_url': 'https://ehandboken.ous-hf.no/Printing/PrintDocument?documentId=14710'},\n",
       " {'Title': 'MR KC25: Caput Venesinus (MRKCVGR)',\n",
       "  'Document_id': '14718',\n",
       "  'print_url': 'https://ehandboken.ous-hf.no/Printing/PrintDocument?documentId=14718'},\n",
       " {'Title': 'MR KC25A: Caput SVT hos gravide (MRKCSVTGRA)',\n",
       "  'Document_id': '127841',\n",
       "  'print_url': 'https://ehandboken.ous-hf.no/Printing/PrintDocument?documentId=127841'},\n",
       " {'Title': 'MR KC26: Caput Sinus/venetrombose (MRKCSVT)',\n",
       "  'Document_id': '14719',\n",
       "  'print_url': 'https://ehandboken.ous-hf.no/Printing/PrintDocument?documentId=14719'},\n",
       " {'Title': 'MR KC28: Caput AVM (MRKCAVM)',\n",
       "  'Document_id': '14636',\n",
       "  'print_url': 'https://ehandboken.ous-hf.no/Printing/PrintDocument?documentId=14636'},\n",
       " {'Title': 'MR KC29: Caput Aneurysme (MRKCANEUR)',\n",
       "  'Document_id': '14632',\n",
       "  'print_url': 'https://ehandboken.ous-hf.no/Printing/PrintDocument?documentId=14632'},\n",
       " {'Title': 'MR KC30: Caput Nasopharynx/ansikt (MRFA)',\n",
       "  'Document_id': '109194',\n",
       "  'print_url': 'https://ehandboken.ous-hf.no/Printing/PrintDocument?documentId=109194'},\n",
       " {'Title': 'MR KC33: Caput NVK (MRKCNVK)',\n",
       "  'Document_id': '14930',\n",
       "  'print_url': 'https://ehandboken.ous-hf.no/Printing/PrintDocument?documentId=14930'},\n",
       " {'Title': 'MR KC39: Caput PO 48/72 timer kontrastladende tumor (MRKC39)',\n",
       "  'Document_id': '142067',\n",
       "  'print_url': 'https://ehandboken.ous-hf.no/Printing/PrintDocument?documentId=142067'},\n",
       " {'Title': 'MR KCP1: Caput Brain tumor prosjekt preoperativ',\n",
       "  'Document_id': '14733',\n",
       "  'print_url': 'https://ehandboken.ous-hf.no/Printing/PrintDocument?documentId=14733'},\n",
       " {'Title': 'MRKCANG1: Cerebral angiografi uten iv-kontrast (MRKCANG)',\n",
       "  'Document_id': '14634',\n",
       "  'print_url': 'https://ehandboken.ous-hf.no/Printing/PrintDocument?documentId=14634'},\n",
       " {'Title': 'MRKCANG2: Cerebral angiografi med iv-kontrast (US MR NMR3: Tricks hode/rygg)',\n",
       "  'Document_id': '15540',\n",
       "  'print_url': 'https://ehandboken.ous-hf.no/Printing/PrintDocument?documentId=15540'},\n",
       " {'Title': 'MRCMANG1: Halsarterier med iv-kontrast (MRCMANG1)',\n",
       "  'Document_id': '47085',\n",
       "  'print_url': 'https://ehandboken.ous-hf.no/Printing/PrintDocument?documentId=47085'},\n",
       " {'Title': 'MRCCANG: Cervicale angio med iv-kontrast (US MR NMR3: Tricks hode/rygg)',\n",
       "  'Document_id': '15540',\n",
       "  'print_url': 'https://ehandboken.ous-hf.no/Printing/PrintDocument?documentId=15540'},\n",
       " {'Title': 'MRCDANG: Thorachale angio med iv-kontrast (US MR NMR3: Tricks hode/rygg)',\n",
       "  'Document_id': '15540',\n",
       "  'print_url': 'https://ehandboken.ous-hf.no/Printing/PrintDocument?documentId=15540'},\n",
       " {'Title': 'MRCLANG: Lumbal angio med iv-kontrast (US MR NMR3: Tricks hode/rygg)',\n",
       "  'Document_id': '15540',\n",
       "  'print_url': 'https://ehandboken.ous-hf.no/Printing/PrintDocument?documentId=15540'},\n",
       " {'Title': 'MR SE1: Hypofyse lesjon',\n",
       "  'Document_id': '15608',\n",
       "  'print_url': 'https://ehandboken.ous-hf.no/Printing/PrintDocument?documentId=15608'},\n",
       " {'Title': 'MR ORB1 MR: Orbita Standard (MRORB)',\n",
       "  'Document_id': '16069',\n",
       "  'print_url': 'https://ehandboken.ous-hf.no/Printing/PrintDocument?documentId=16069'},\n",
       " {'Title': 'MR ORB2 MR: Orbita m/kontrast (MRORBK)',\n",
       "  'Document_id': '16082',\n",
       "  'print_url': 'https://ehandboken.ous-hf.no/Printing/PrintDocument?documentId=16082'},\n",
       " {'Title': 'MR ORB3 MR: Orbita. Opticus nevritt (MRORBMS)',\n",
       "  'Document_id': '16072',\n",
       "  'print_url': 'https://ehandboken.ous-hf.no/Printing/PrintDocument?documentId=16072'},\n",
       " {'Title': 'MR KVAR: Kjeveledd (MRKVAR)',\n",
       "  'Document_id': '15779',\n",
       "  'print_url': 'https://ehandboken.ous-hf.no/Printing/PrintDocument?documentId=15779'},\n",
       " {'Title': 'MR CPV 1: Tinningben,  CPV lesjoner',\n",
       "  'Document_id': '15786',\n",
       "  'print_url': 'https://ehandboken.ous-hf.no/Printing/PrintDocument?documentId=15786'},\n",
       " {'Title': 'MR CPV 2: Tinningben, labyrintlesjoner',\n",
       "  'Document_id': '15789',\n",
       "  'print_url': 'https://ehandboken.ous-hf.no/Printing/PrintDocument?documentId=15789'},\n",
       " {'Title': 'MRCMK',\n",
       "  'Document_id': '112528',\n",
       "  'print_url': 'https://ehandboken.ous-hf.no/Printing/PrintDocument?documentId=112528'},\n",
       " {'Title': 'MR CCCDCL1: Prolaps',\n",
       "  'Document_id': '16307',\n",
       "  'print_url': 'https://ehandboken.ous-hf.no/Printing/PrintDocument?documentId=16307'},\n",
       " {'Title': 'MR CCCDCL2: Traume',\n",
       "  'Document_id': '17180',\n",
       "  'print_url': 'https://ehandboken.ous-hf.no/Printing/PrintDocument?documentId=17180'},\n",
       " {'Title': 'MR CCCD3: Demyeliniserende sykdom',\n",
       "  'Document_id': '17187',\n",
       "  'print_url': 'https://ehandboken.ous-hf.no/Printing/PrintDocument?documentId=17187'},\n",
       " {'Title': 'MR CCCD4: Syrinx',\n",
       "  'Document_id': '17204',\n",
       "  'print_url': 'https://ehandboken.ous-hf.no/Printing/PrintDocument?documentId=17204'},\n",
       " {'Title': 'MR CCCDCL5: Tumor ',\n",
       "  'Document_id': '19408',\n",
       "  'print_url': 'https://ehandboken.ous-hf.no/Printing/PrintDocument?documentId=19408'},\n",
       " {'Title': 'MR CCCDCL6: Postoperativ arrvev/prolaps',\n",
       "  'Document_id': '17103',\n",
       "  'print_url': 'https://ehandboken.ous-hf.no/Printing/PrintDocument?documentId=17103'},\n",
       " {'Title': 'MR CCCDCL7: Infeksjon/abscess',\n",
       "  'Document_id': '19444',\n",
       "  'print_url': 'https://ehandboken.ous-hf.no/Printing/PrintDocument?documentId=19444'},\n",
       " {'Title': 'MR CCCDCL8: Primær bentumor',\n",
       "  'Document_id': '19429',\n",
       "  'print_url': 'https://ehandboken.ous-hf.no/Printing/PrintDocument?documentId=19429'},\n",
       " {'Title': 'MR CCCD9: Columna/medulla infarkt',\n",
       "  'Document_id': '137201',\n",
       "  'print_url': 'https://ehandboken.ous-hf.no/Printing/PrintDocument?documentId=137201'},\n",
       " {'Title': 'MR CCCDCL10: Intramedullær/vaskulær malformasjon',\n",
       "  'Document_id': '17284',\n",
       "  'print_url': 'https://ehandboken.ous-hf.no/Printing/PrintDocument?documentId=17284'},\n",
       " {'Title': 'MR CCCDCL11: Columna drop',\n",
       "  'Document_id': '19402',\n",
       "  'print_url': 'https://ehandboken.ous-hf.no/Printing/PrintDocument?documentId=19402'},\n",
       " {'Title': 'MR CCCDCL12: Metastase/ Medullakompresjon ',\n",
       "  'Document_id': '102282',\n",
       "  'print_url': 'https://ehandboken.ous-hf.no/Printing/PrintDocument?documentId=102282'},\n",
       " {'Title': 'MR CCCDCL13: Screening',\n",
       "  'Document_id': '19446',\n",
       "  'print_url': 'https://ehandboken.ous-hf.no/Printing/PrintDocument?documentId=19446'},\n",
       " {'Title': 'MR CCCDCL14: Araknoiditt',\n",
       "  'Document_id': '17278',\n",
       "  'print_url': 'https://ehandboken.ous-hf.no/Printing/PrintDocument?documentId=17278'},\n",
       " {'Title': 'MR CCCD15: Epidural lipomatose',\n",
       "  'Document_id': '17202',\n",
       "  'print_url': 'https://ehandboken.ous-hf.no/Printing/PrintDocument?documentId=17202'},\n",
       " {'Title': 'MR CCCDCL16: Myelografi',\n",
       "  'Document_id': '135575',\n",
       "  'print_url': 'https://ehandboken.ous-hf.no/Printing/PrintDocument?documentId=135575'},\n",
       " {'Title': 'MR CCCDCL17: Før vertebroplastikk ',\n",
       "  'Document_id': '98755',\n",
       "  'print_url': 'https://ehandboken.ous-hf.no/Printing/PrintDocument?documentId=98755'},\n",
       " {'Title': 'MR CCCDCL 18: Myelitt.Polyradiculitt',\n",
       "  'Document_id': '130925',\n",
       "  'print_url': 'https://ehandboken.ous-hf.no/Printing/PrintDocument?documentId=130925'},\n",
       " {'Title': 'MR CCD19: Demyeliniserende sykdom uten iv kontrast',\n",
       "  'Document_id': '142204',\n",
       "  'print_url': 'https://ehandboken.ous-hf.no/Printing/PrintDocument?documentId=142204'},\n",
       " {'Title': 'MR CC21: Cervicalcolumna Neuroswing ',\n",
       "  'Document_id': '15428',\n",
       "  'print_url': 'https://ehandboken.ous-hf.no/Printing/PrintDocument?documentId=15428'},\n",
       " {'Title': 'MR CC 22: Craniocervikal overgang. Alare ligament (MRCCALARELIGAMENT)',\n",
       "  'Document_id': '134694',\n",
       "  'print_url': 'https://ehandboken.ous-hf.no/Printing/PrintDocument?documentId=134694'},\n",
       " {'Title': 'MR CLP: MODIC-studien Lumbalcolumna (MRCLMODIC)',\n",
       "  'Document_id': '140701',\n",
       "  'print_url': 'https://ehandboken.ous-hf.no/Printing/PrintDocument?documentId=140701'},\n",
       " {'Title': 'MR PB1: Plexus brachialis. Standard',\n",
       "  'Document_id': '16101',\n",
       "  'print_url': 'https://ehandboken.ous-hf.no/Printing/PrintDocument?documentId=16101'},\n",
       " {'Title': 'MR PB2: Plexus brachialis traume',\n",
       "  'Document_id': '46747',\n",
       "  'print_url': 'https://ehandboken.ous-hf.no/Printing/PrintDocument?documentId=46747'},\n",
       " {'Title': 'MR PB3: Plexus brachialis tumor',\n",
       "  'Document_id': '47033',\n",
       "  'print_url': 'https://ehandboken.ous-hf.no/Printing/PrintDocument?documentId=47033'},\n",
       " {'Title': 'MR PL1: Plexus lumbosacralis standard',\n",
       "  'Document_id': '16106',\n",
       "  'print_url': 'https://ehandboken.ous-hf.no/Printing/PrintDocument?documentId=16106'},\n",
       " {'Title': 'MR PL2: Plexus lumbosacralis traume',\n",
       "  'Document_id': '45399',\n",
       "  'print_url': 'https://ehandboken.ous-hf.no/Printing/PrintDocument?documentId=45399'},\n",
       " {'Title': 'MR PL3: Plexus lumbosacralis tumor',\n",
       "  'Document_id': '16108',\n",
       "  'print_url': 'https://ehandboken.ous-hf.no/Printing/PrintDocument?documentId=16108'},\n",
       " {'Title': 'MR NMR3: Cerebral Angio MIP',\n",
       "  'Document_id': '15484',\n",
       "  'print_url': 'https://ehandboken.ous-hf.no/Printing/PrintDocument?documentId=15484'},\n",
       " {'Title': 'MR NMR3: Perfusjon',\n",
       "  'Document_id': '15513',\n",
       "  'print_url': 'https://ehandboken.ous-hf.no/Printing/PrintDocument?documentId=15513'},\n",
       " {'Title': 'MR NMR3: Post pros. DWI-scan',\n",
       "  'Document_id': '15519',\n",
       "  'print_url': 'https://ehandboken.ous-hf.no/Printing/PrintDocument?documentId=15519'},\n",
       " {'Title': 'MR NMR3: Post pros. Myelo',\n",
       "  'Document_id': '15521',\n",
       "  'print_url': 'https://ehandboken.ous-hf.no/Printing/PrintDocument?documentId=15521'},\n",
       " {'Title': 'MR NMR3: Spectroskopi',\n",
       "  'Document_id': '15523',\n",
       "  'print_url': 'https://ehandboken.ous-hf.no/Printing/PrintDocument?documentId=15523'},\n",
       " {'Title': 'MR NMR3: Spectroskopi med Hi Order Shim',\n",
       "  'Document_id': '15527',\n",
       "  'print_url': 'https://ehandboken.ous-hf.no/Printing/PrintDocument?documentId=15527'},\n",
       " {'Title': 'MR NMR3: SWI post pros',\n",
       "  'Document_id': '15537',\n",
       "  'print_url': 'https://ehandboken.ous-hf.no/Printing/PrintDocument?documentId=15537'},\n",
       " {'Title': 'MR NMR3: Tensor(DTI)',\n",
       "  'Document_id': '15539',\n",
       "  'print_url': 'https://ehandboken.ous-hf.no/Printing/PrintDocument?documentId=15539'},\n",
       " {'Title': 'MR NMR3: Tricks hode/rygg',\n",
       "  'Document_id': '15540',\n",
       "  'print_url': 'https://ehandboken.ous-hf.no/Printing/PrintDocument?documentId=15540'},\n",
       " {'Title': 'MR BKC1: Caput Asfyksi',\n",
       "  'Document_id': '18135',\n",
       "  'print_url': 'https://ehandboken.ous-hf.no/Printing/PrintDocument?documentId=18135'},\n",
       " {'Title': 'MR BKC3: Caput Infarkt akutt',\n",
       "  'Document_id': '18139',\n",
       "  'print_url': 'https://ehandboken.ous-hf.no/Printing/PrintDocument?documentId=18139'},\n",
       " {'Title': ' 0-2 år',\n",
       "  'Document_id': '18139',\n",
       "  'print_url': 'https://ehandboken.ous-hf.no/Printing/PrintDocument?documentId=18139'},\n",
       " {'Title': 'MR BKC4: Caput Infarkt kronisk',\n",
       "  'Document_id': '18141',\n",
       "  'print_url': 'https://ehandboken.ous-hf.no/Printing/PrintDocument?documentId=18141'},\n",
       " {'Title': ' Spebarn og barn 0-2 år',\n",
       "  'Document_id': '18141',\n",
       "  'print_url': 'https://ehandboken.ous-hf.no/Printing/PrintDocument?documentId=18141'},\n",
       " {'Title': 'MR BKC5: Caput Blødning 0-2 år',\n",
       "  'Document_id': '18143',\n",
       "  'print_url': 'https://ehandboken.ous-hf.no/Printing/PrintDocument?documentId=18143'},\n",
       " {'Title': 'MR BKC6: Caput Kramper',\n",
       "  'Document_id': '18145',\n",
       "  'print_url': 'https://ehandboken.ous-hf.no/Printing/PrintDocument?documentId=18145'},\n",
       " {'Title': ' Spebarn og barn 0-2 år',\n",
       "  'Document_id': '18145',\n",
       "  'print_url': 'https://ehandboken.ous-hf.no/Printing/PrintDocument?documentId=18145'},\n",
       " {'Title': 'MR BKC7: Caput Infeksjon',\n",
       "  'Document_id': '18146',\n",
       "  'print_url': 'https://ehandboken.ous-hf.no/Printing/PrintDocument?documentId=18146'},\n",
       " {'Title': ' Spebarn og barn 0-2 år',\n",
       "  'Document_id': '18146',\n",
       "  'print_url': 'https://ehandboken.ous-hf.no/Printing/PrintDocument?documentId=18146'},\n",
       " {'Title': 'MR BKC8: Caput Metabolske sykdommer',\n",
       "  'Document_id': '18147',\n",
       "  'print_url': 'https://ehandboken.ous-hf.no/Printing/PrintDocument?documentId=18147'},\n",
       " {'Title': 'MR BKC9: Caput Hydrocephalus',\n",
       "  'Document_id': '18149',\n",
       "  'print_url': 'https://ehandboken.ous-hf.no/Printing/PrintDocument?documentId=18149'},\n",
       " {'Title': ' Spebarn og barn 0-2 år',\n",
       "  'Document_id': '18149',\n",
       "  'print_url': 'https://ehandboken.ous-hf.no/Printing/PrintDocument?documentId=18149'},\n",
       " {'Title': 'MR BKC9A: Caput Hydrocephalus. Barn over 2 år',\n",
       "  'Document_id': '128169',\n",
       "  'print_url': 'https://ehandboken.ous-hf.no/Printing/PrintDocument?documentId=128169'},\n",
       " {'Title': 'MR BKC10: Caput Hodetraume akutt, inkl. non-accidental',\n",
       "  'Document_id': '18150',\n",
       "  'print_url': 'https://ehandboken.ous-hf.no/Printing/PrintDocument?documentId=18150'},\n",
       " {'Title': ' trauma',\n",
       "  'Document_id': '18150',\n",
       "  'print_url': 'https://ehandboken.ous-hf.no/Printing/PrintDocument?documentId=18150'},\n",
       " {'Title': 'MR BKC10A: Caput Barnetraume, kun NMR2',\n",
       "  'Document_id': '131197',\n",
       "  'print_url': 'https://ehandboken.ous-hf.no/Printing/PrintDocument?documentId=131197'},\n",
       " {'Title': 'MR BKC11: Caput Sturge Weber Syndrom. Spebarn og barn 0-2 år',\n",
       "  'Document_id': '128500',\n",
       "  'print_url': 'https://ehandboken.ous-hf.no/Printing/PrintDocument?documentId=128500'},\n",
       " {'Title': 'MR BKC12: Caput Infeksjon.',\n",
       "  'Document_id': '18165',\n",
       "  'print_url': 'https://ehandboken.ous-hf.no/Printing/PrintDocument?documentId=18165'},\n",
       " {'Title': ' Barn iover 2 år',\n",
       "  'Document_id': '18165',\n",
       "  'print_url': 'https://ehandboken.ous-hf.no/Printing/PrintDocument?documentId=18165'},\n",
       " {'Title': 'MR BKC13: Caput Endokrin hypofyseproblematikk',\n",
       "  'Document_id': '18166',\n",
       "  'print_url': 'https://ehandboken.ous-hf.no/Printing/PrintDocument?documentId=18166'},\n",
       " {'Title': 'MR BKC14: Caput Epilepsi.',\n",
       "  'Document_id': '18169',\n",
       "  'print_url': 'https://ehandboken.ous-hf.no/Printing/PrintDocument?documentId=18169'},\n",
       " {'Title': ' Barn over 2 år',\n",
       "  'Document_id': '18169',\n",
       "  'print_url': 'https://ehandboken.ous-hf.no/Printing/PrintDocument?documentId=18169'},\n",
       " {'Title': 'MR BKC15: Caput Tumor cerebri.',\n",
       "  'Document_id': '18170',\n",
       "  'print_url': 'https://ehandboken.ous-hf.no/Printing/PrintDocument?documentId=18170'},\n",
       " {'Title': 'MR BKC17: Caput Blødning Barn over 2 år',\n",
       "  'Document_id': '18174',\n",
       "  'print_url': 'https://ehandboken.ous-hf.no/Printing/PrintDocument?documentId=18174'},\n",
       " {'Title': 'MR BKC18: Caput Infarkt.',\n",
       "  'Document_id': '18179',\n",
       "  'print_url': 'https://ehandboken.ous-hf.no/Printing/PrintDocument?documentId=18179'},\n",
       " {'Title': 'MR BKC19: Caput Utredning forsinket motorikk, mm Barn og spebarn 0-2 år',\n",
       "  'Document_id': '18180',\n",
       "  'print_url': 'https://ehandboken.ous-hf.no/Printing/PrintDocument?documentId=18180'},\n",
       " {'Title': 'MR BKC20: Caput Utredning lærevansker, anoreksi. Barn/ungdom over 2 år',\n",
       "  'Document_id': '18181',\n",
       "  'print_url': 'https://ehandboken.ous-hf.no/Printing/PrintDocument?documentId=18181'},\n",
       " {'Title': 'MR BKC21: Caput Sturge Weber Syndrom. Barn over 2 år',\n",
       "  'Document_id': '128171',\n",
       "  'print_url': 'https://ehandboken.ous-hf.no/Printing/PrintDocument?documentId=128171'},\n",
       " {'Title': 'MR BKC22: Caput Neurocutaneous Melanose. Barn over 3 måneder',\n",
       "  'Document_id': '128522',\n",
       "  'print_url': 'https://ehandboken.ous-hf.no/Printing/PrintDocument?documentId=128522'},\n",
       " {'Title': 'MR BKC23: Caput Cephalocele/ Meningocele/ Meningoencephalocele',\n",
       "  'Document_id': '131199',\n",
       "  'print_url': 'https://ehandboken.ous-hf.no/Printing/PrintDocument?documentId=131199'},\n",
       " {'Title': 'MR BKCF1: Caput Fosterdiagnostikk',\n",
       "  'Document_id': '18184',\n",
       "  'print_url': 'https://ehandboken.ous-hf.no/Printing/PrintDocument?documentId=18184'},\n",
       " {'Title': 'MR Barn BCTOT1: (+BCC1/BCD1/BCL1) Columna, kongenitale malformasjoner',\n",
       "  'Document_id': '18196',\n",
       "  'print_url': 'https://ehandboken.ous-hf.no/Printing/PrintDocument?documentId=18196'},\n",
       " {'Title': 'MR Barn BCTOT2: Columna, drop-metastaser',\n",
       "  'Document_id': '18210',\n",
       "  'print_url': 'https://ehandboken.ous-hf.no/Printing/PrintDocument?documentId=18210'},\n",
       " {'Title': 'MR Barn BCTOT3: (+BCC3/BCD3/BCL3) Columna, tumor',\n",
       "  'Document_id': '18200',\n",
       "  'print_url': 'https://ehandboken.ous-hf.no/Printing/PrintDocument?documentId=18200'},\n",
       " {'Title': 'MR Barn BCTOT4: (+BCC4/BCD4/BCL4) Columna, infeksjon/ spondylodiscitt',\n",
       "  'Document_id': '18207',\n",
       "  'print_url': 'https://ehandboken.ous-hf.no/Printing/PrintDocument?documentId=18207'},\n",
       " {'Title': 'MR Barn BCTOT5: (+BCC5/BCD5/BCL5) Columna skjelettmetastaser',\n",
       "  'Document_id': '18208',\n",
       "  'print_url': 'https://ehandboken.ous-hf.no/Printing/PrintDocument?documentId=18208'},\n",
       " {'Title': 'MR Barn BCTOT7: (+BCC7/BCD7/BCL7) Columna Smerter Stressfraktur',\n",
       "  'Document_id': '136394',\n",
       "  'print_url': 'https://ehandboken.ous-hf.no/Printing/PrintDocument?documentId=136394'},\n",
       " {'Title': 'MR Barn BCTOT8: (+BCC8/BCD8/BCL8) Columna Paravertebral/epidural tumor',\n",
       "  'Document_id': '136398',\n",
       "  'print_url': 'https://ehandboken.ous-hf.no/Printing/PrintDocument?documentId=136398'},\n",
       " {'Title': 'MR Barn BCTOT9: (+BCC9/BCD9/BSL9) Columna Guillain Barre Syndrom',\n",
       "  'Document_id': '136402',\n",
       "  'print_url': 'https://ehandboken.ous-hf.no/Printing/PrintDocument?documentId=136402'},\n",
       " {'Title': 'MR Barn BCC10 Columna Torticollis',\n",
       "  'Document_id': '136401',\n",
       "  'print_url': 'https://ehandboken.ous-hf.no/Printing/PrintDocument?documentId=136401'},\n",
       " {'Title': 'MR Barn BCTOT11: (+BCC11/BCD11/BCL11) Columna Myelitt',\n",
       "  'Document_id': '136403',\n",
       "  'print_url': 'https://ehandboken.ous-hf.no/Printing/PrintDocument?documentId=136403'},\n",
       " {'Title': 'MR Barn BCTOT12: (+BCC12/BCD12/BCL12) Columna Inflammasjon',\n",
       "  'Document_id': '136403',\n",
       "  'print_url': 'https://ehandboken.ous-hf.no/Printing/PrintDocument?documentId=136403'},\n",
       " {'Title': 'MR BCTOT13: Spinalvæske lekkasje',\n",
       "  'Document_id': '136406',\n",
       "  'print_url': 'https://ehandboken.ous-hf.no/Printing/PrintDocument?documentId=136406'},\n",
       " {'Title': 'MR BORB1: Malformasjon',\n",
       "  'Document_id': '18189',\n",
       "  'print_url': 'https://ehandboken.ous-hf.no/Printing/PrintDocument?documentId=18189'},\n",
       " {'Title': 'MR BORB2: Tumor/Infeksjon',\n",
       "  'Document_id': '18191',\n",
       "  'print_url': 'https://ehandboken.ous-hf.no/Printing/PrintDocument?documentId=18191'},\n",
       " {'Title': 'MR BORB3: Orbita, traume',\n",
       "  'Document_id': '128989',\n",
       "  'print_url': 'https://ehandboken.ous-hf.no/Printing/PrintDocument?documentId=128989'},\n",
       " {'Title': 'MR BORB4: Orbita, dermoid cyste/ hemangiom/ lymphatisk malformasjon',\n",
       "  'Document_id': '128983',\n",
       "  'print_url': 'https://ehandboken.ous-hf.no/Printing/PrintDocument?documentId=128983'},\n",
       " {'Title': 'MR BORB5: Orbita, pseudotumor/ inflammasjon',\n",
       "  'Document_id': '128990',\n",
       "  'print_url': 'https://ehandboken.ous-hf.no/Printing/PrintDocument?documentId=128990'},\n",
       " {'Title': 'MR BORB6: Dacrocystografi',\n",
       "  'Document_id': '136450',\n",
       "  'print_url': 'https://ehandboken.ous-hf.no/Printing/PrintDocument?documentId=136450'},\n",
       " {'Title': 'MR BORB7: Retinoblastom',\n",
       "  'Document_id': '134627',\n",
       "  'print_url': 'https://ehandboken.ous-hf.no/Printing/PrintDocument?documentId=134627'},\n",
       " {'Title': 'MR BØNH1: Collum. Tumor. Nevrofibromatose',\n",
       "  'Document_id': '18186',\n",
       "  'print_url': 'https://ehandboken.ous-hf.no/Printing/PrintDocument?documentId=18186'},\n",
       " {'Title': 'MR BØNH2: Ansikt/svelg, tumor/annen patologi',\n",
       "  'Document_id': '18187',\n",
       "  'print_url': 'https://ehandboken.ous-hf.no/Printing/PrintDocument?documentId=18187'},\n",
       " {'Title': 'MR Barn BØNH3: Bihuler',\n",
       "  'Document_id': '18188',\n",
       "  'print_url': 'https://ehandboken.ous-hf.no/Printing/PrintDocument?documentId=18188'},\n",
       " {'Title': 'MR Barn BØNH4: Tinningben/ Skallebasis',\n",
       "  'Document_id': '135661',\n",
       "  'print_url': 'https://ehandboken.ous-hf.no/Printing/PrintDocument?documentId=135661'},\n",
       " {'Title': 'MR Barn BØNH5: Tinningben, cholesteatom',\n",
       "  'Document_id': '135669',\n",
       "  'print_url': 'https://ehandboken.ous-hf.no/Printing/PrintDocument?documentId=135669'},\n",
       " {'Title': 'MR BARN BØNH6: Frontonasal mass',\n",
       "  'Document_id': '135671',\n",
       "  'print_url': 'https://ehandboken.ous-hf.no/Printing/PrintDocument?documentId=135671'},\n",
       " {'Title': ' P rosedyrehjelpen',\n",
       "  'Document_id': '105181',\n",
       "  'print_url': 'https://ehandboken.ous-hf.no/Printing/PrintDocument?documentId=105181'}]"
      ]
     },
     "execution_count": 10,
     "metadata": {},
     "output_type": "execute_result"
    }
   ],
   "source": [
    "print_links"
   ]
  },
  {
   "cell_type": "code",
   "execution_count": 11,
   "metadata": {
    "collapsed": false,
    "jupyter": {
     "outputs_hidden": false
    },
    "pycharm": {
     "name": "#%%\n"
    }
   },
   "outputs": [],
   "source": [
    "def make_table_data(tables):\n",
    "    number_of_items = range(0,3)\n",
    "    rows = tables[5].find_all('tr')\n",
    "    row_data = []\n",
    "    for n in number_of_items:\n",
    "        row_n = []\n",
    "        for element in rows[1].select('td')[n]:\n",
    "            row_data = element.get_text(strip=True, separator=',').replace(u'\\xa0', u' ')\n",
    "            row_n.append(row_data)\n",
    "        clean_list = list(filter(None, row_n))[1:]\n",
    "        data.append(*clean_list)\n",
    "    return row_data\n"
   ]
  },
  {
   "cell_type": "code",
   "execution_count": 12,
   "metadata": {
    "collapsed": false,
    "jupyter": {
     "outputs_hidden": false
    },
    "pycharm": {
     "name": "#%%\n"
    }
   },
   "outputs": [
    {
     "name": "stdout",
     "output_type": "stream",
     "text": [
      "14633\n",
      "['']\n"
     ]
    },
    {
     "ename": "IndexError",
     "evalue": "list index out of range",
     "output_type": "error",
     "traceback": [
      "\u001b[0;31m---------------------------------------------------------------------------\u001b[0m",
      "\u001b[0;31mIndexError\u001b[0m                                Traceback (most recent call last)",
      "Input \u001b[0;32mIn [12]\u001b[0m, in \u001b[0;36m<cell line: 9>\u001b[0;34m()\u001b[0m\n\u001b[1;32m      9\u001b[0m \u001b[38;5;28;01mfor\u001b[39;00m n \u001b[38;5;129;01min\u001b[39;00m number_of_items:\n\u001b[1;32m     10\u001b[0m         row_n \u001b[38;5;241m=\u001b[39m []\n\u001b[0;32m---> 11\u001b[0m         \u001b[38;5;28;01mfor\u001b[39;00m element \u001b[38;5;129;01min\u001b[39;00m \u001b[43mrows\u001b[49m\u001b[43m[\u001b[49m\u001b[38;5;241;43m1\u001b[39;49m\u001b[43m]\u001b[49m\u001b[38;5;241;43m.\u001b[39;49m\u001b[43mselect\u001b[49m\u001b[43m(\u001b[49m\u001b[38;5;124;43m'\u001b[39;49m\u001b[38;5;124;43mtd\u001b[39;49m\u001b[38;5;124;43m'\u001b[39;49m\u001b[43m)\u001b[49m\u001b[43m[\u001b[49m\u001b[43mn\u001b[49m\u001b[43m]\u001b[49m:\n\u001b[1;32m     12\u001b[0m             row_data \u001b[38;5;241m=\u001b[39m element\u001b[38;5;241m.\u001b[39mget_text(strip\u001b[38;5;241m=\u001b[39m\u001b[38;5;28;01mTrue\u001b[39;00m, separator\u001b[38;5;241m=\u001b[39m\u001b[38;5;124m'\u001b[39m\u001b[38;5;124m,\u001b[39m\u001b[38;5;124m'\u001b[39m)\u001b[38;5;241m.\u001b[39mreplace(\u001b[38;5;124mu\u001b[39m\u001b[38;5;124m'\u001b[39m\u001b[38;5;130;01m\\xa0\u001b[39;00m\u001b[38;5;124m'\u001b[39m, \u001b[38;5;124mu\u001b[39m\u001b[38;5;124m'\u001b[39m\u001b[38;5;124m \u001b[39m\u001b[38;5;124m'\u001b[39m)\n\u001b[1;32m     13\u001b[0m             row_n\u001b[38;5;241m.\u001b[39mappend(row_data)\n",
      "\u001b[0;31mIndexError\u001b[0m: list index out of range"
     ]
    }
   ],
   "source": [
    "link = print_links[0]\n",
    "print(link['Document_id'])\n",
    "print_response = requests.get(link['print_url'])\n",
    "print_soup = bs(print_response.text, 'lxml')\n",
    "tables = print_soup.find_all('table')\n",
    "number_of_items = range(0,3)\n",
    "rows = tables[0].find_all('tr')\n",
    "row_data = []\n",
    "for n in number_of_items:\n",
    "        row_n = []\n",
    "        for element in rows[1].select('td')[n]:\n",
    "            row_data = element.get_text(strip=True, separator=',').replace(u'\\xa0', u' ')\n",
    "            row_n.append(row_data)\n",
    "            print(row_n)\n",
    "        #clean_list = list(filter(None, row_n))[1:]\n",
    "        #data.append(*clean_list)\n"
   ]
  },
  {
   "cell_type": "code",
   "execution_count": 13,
   "metadata": {
    "collapsed": false,
    "jupyter": {
     "outputs_hidden": false
    },
    "pycharm": {
     "name": "#%%\n"
    }
   },
   "outputs": [],
   "source": [
    "def make_table(print_link):\n",
    "    print_response = requests.get(print_link['print_url'])\n",
    "    print_soup = bs(print_response.text, 'lxml')\n",
    "    tables = print_soup.find_all('table')\n",
    "    rows = tables[2].select('table tr:nth-of-type(9) tr')\n",
    "    table_row = []\n",
    "    for row in rows[1:]:\n",
    "        protocol_row = []\n",
    "        for value in row.select('td'):\n",
    "            one_protocol = value.get_text(strip=True, separator=',').replace(u'\\xa0', u' ')\n",
    "            protocol_row.append(one_protocol)\n",
    "        table_row.append(','.join(protocol_row))\n",
    "    return table_row"
   ]
  },
  {
   "cell_type": "code",
   "execution_count": 24,
   "metadata": {
    "collapsed": false,
    "jupyter": {
     "outputs_hidden": false
    },
    "pycharm": {
     "name": "#%%\n"
    }
   },
   "outputs": [],
   "source": [
    "def make_table_test(print_link):\n",
    "    print_response = requests.get(print_link['print_url'])\n",
    "    if print_response.ok:\n",
    "        print_soup = bs(print_response.text, 'lxml')\n",
    "        tables = print_soup.find_all('table')\n",
    "        rows = tables[2].select('table tr:nth-of-type(9) tr')\n",
    "        table_row = []\n",
    "        if len(rows) > 2:\n",
    "            for row in rows[1:]:\n",
    "                protocol_row = []\n",
    "                for value in row.select('td'):\n",
    "                    one_protocol = value.get_text(strip=True, separator=',').replace(u'\\xa0', u' ')\n",
    "                    protocol_row.append(one_protocol)\n",
    "                #table_row.append(','.join(protocol_row))\n",
    "                while len(protocol_row) < 4:\n",
    "                    protocol_row.append(' ')\n",
    "                for item in protocol_row:\n",
    "                    table_row.append(item)\n",
    "            return table_row\n",
    "        else:\n",
    "            for row in rows[1:]:\n",
    "                protocol_row = []\n",
    "                for value in row.select('td'):\n",
    "                    one_protocol = value.get_text(strip=True, separator=',').replace(u'\\xa0', u' ')\n",
    "                    protocol_row.append(one_protocol)\n",
    "                if not protocol_row[0] == 'Prekontrast':\n",
    "                    protocol_row.insert(0, 'Nativ')\n",
    "                while len(protocol_row) < 4:\n",
    "                    protocol_row.append(' ')\n",
    "            return protocol_row"
   ]
  },
  {
   "cell_type": "code",
   "execution_count": 15,
   "metadata": {
    "collapsed": false,
    "jupyter": {
     "outputs_hidden": false
    },
    "pycharm": {
     "name": "#%%\n"
    }
   },
   "outputs": [
    {
     "data": {
      "text/plain": [
       "0"
      ]
     },
     "execution_count": 15,
     "metadata": {},
     "output_type": "execute_result"
    }
   ],
   "source": [
    "print_response = requests.get(print_links[7]['print_url'])\n",
    "print_soup = bs(print_response.text, 'lxml')\n",
    "tables = print_soup.find_all('table td table')\n",
    "len(tables)"
   ]
  },
  {
   "cell_type": "code",
   "execution_count": 485,
   "metadata": {
    "collapsed": false,
    "jupyter": {
     "outputs_hidden": false
    },
    "pycharm": {
     "name": "#%%\n"
    }
   },
   "outputs": [
    {
     "data": {
      "text/plain": [
       "['Nativ',\n",
       " 'Loc,Sag T1 TSE,Tra T2 4mm,Tra Flair  4mm,Tra SWI,Tra DWI resolve 4mm',\n",
       " 'Loc,Sag T1 3D mprage,Tra T2 Propeller 4mm,Tra Flair 4mm,Tra SWAN,Tra DWI 4mm',\n",
       " 'Loc,Sag T1 TSE,Tra T2 4mm,Tra Flair 4mm,Tra SWI/VenBold,Tra DWI 4mm',\n",
       " '',\n",
       " '',\n",
       " '',\n",
       " '',\n",
       " '',\n",
       " '',\n",
       " '',\n",
       " '']"
      ]
     },
     "execution_count": 485,
     "metadata": {},
     "output_type": "execute_result"
    }
   ],
   "source": [
    "make_table_test(print_links[2])"
   ]
  },
  {
   "cell_type": "code",
   "execution_count": 468,
   "metadata": {
    "collapsed": false,
    "jupyter": {
     "outputs_hidden": false
    },
    "pycharm": {
     "name": "#%%\n"
    }
   },
   "outputs": [
    {
     "data": {
      "text/plain": [
       "['Prekontrast',\n",
       " 'Loc,Sag T1 3D Space,Tra DWI',\n",
       " 'Loc,Sag T1 3D Cube,Tra DWI',\n",
       " 'Loc,Sag T1 3D BrainView,Tra DWI',\n",
       " 'IV kontrast',\n",
       " '',\n",
       " '',\n",
       " '',\n",
       " 'Postkontrast',\n",
       " 'Sag 3D Flair,Tra T2 TSE,Sag T1 3D Space K+',\n",
       " 'Sag 3D Flair,Tra T2 TSE,Sag T1 3D Cube K+',\n",
       " 'Sag 3D Flair,Tra T2 TSE,Sag T1 3D BrainView K+']"
      ]
     },
     "execution_count": 468,
     "metadata": {},
     "output_type": "execute_result"
    }
   ],
   "source": [
    "make_table_test(print_links[1])"
   ]
  },
  {
   "cell_type": "code",
   "execution_count": 456,
   "metadata": {
    "collapsed": false,
    "jupyter": {
     "outputs_hidden": false
    },
    "pycharm": {
     "name": "#%%\n"
    }
   },
   "outputs": [
    {
     "data": {
      "text/plain": [
       "['Prekontrast,Loc,Sag T1 3D Space,Tra DWI,Loc,Sag T1 3D Cube,Tra DWI,Loc,Sag T1 3D BrainView,Tra DWI',\n",
       " 'IV kontrast,,,',\n",
       " 'Postkontrast,Tra T2 TSE,Sag 3D Flair FS,Sag T1 3D Space K+,Tra T2 TSE,Sag 3D Flair FS,Sag T1 3D Cube K+,Tra T2 TSE,Sag 3D Flair FS,Sag T1 3D BrainView K+']"
      ]
     },
     "execution_count": 456,
     "metadata": {},
     "output_type": "execute_result"
    }
   ],
   "source": [
    "make_table(print_links[3])"
   ]
  },
  {
   "cell_type": "code",
   "execution_count": 29,
   "metadata": {
    "collapsed": false,
    "jupyter": {
     "outputs_hidden": false
    },
    "pycharm": {
     "name": "#%%\n"
    }
   },
   "outputs": [
    {
     "name": "stdout",
     "output_type": "stream",
     "text": [
      "MR KC1: Caput standard utredning (MRKC) https://ehandboken.ous-hf.no/Printing/PrintDocument?documentId=14633\n",
      "['MR KC1: Caput standard utredning (MRKC)', 'https://ehandboken.ous-hf.no/Printing/PrintDocument?documentId=14633', 'Nativ', 'Loc,Sag T1 3D mprage,Tra DWI,Sag 3D Flair FS,Tra T2 TSE', 'Loc,Sag 3D T1 mprage,Tra DWI,Sag 3D Flair FS,Tra T2 Propeller', 'Loc,Sag T1 3D  TFE,Tra DWI,Sag 3D Flair FS,Tra T2 TSE']\n",
      "MR KC2: Caput m/kontrast (MRKCK) https://ehandboken.ous-hf.no/Printing/PrintDocument?documentId=14629\n",
      "['MR KC2: Caput m/kontrast (MRKCK)', 'https://ehandboken.ous-hf.no/Printing/PrintDocument?documentId=14629', 'Prekontrast', 'Loc,Sag T1 3D Space,Tra DWI', 'Loc,Sag T1 3D Cube,Tra DWI', 'Loc,Sag T1 3D BrainView,Tra DWI', 'IV kontrast', '', '', '', 'Postkontrast', 'Sag 3D Flair,Tra T2 TSE,Sag T1 3D Space K+', 'Sag 3D Flair,Tra T2 TSE,Sag T1 3D Cube K+', 'Sag 3D Flair,Tra T2 TSE,Sag T1 3D BrainView K+']\n",
      "MR KC3: Caput Cerebralt infarkt(MRKCINF) https://ehandboken.ous-hf.no/Printing/PrintDocument?documentId=14706\n",
      "['MR KC3: Caput Cerebralt infarkt(MRKCINF)', 'https://ehandboken.ous-hf.no/Printing/PrintDocument?documentId=14706', 'Nativ', 'Loc,Sag T1 TSE,Tra T2 4mm,Tra Flair  4mm,Tra SWI,Tra DWI resolve 4mm', 'Loc,Sag T1 3D mprage,Tra T2 Propeller 4mm,Tra Flair 4mm,Tra SWAN,Tra DWI 4mm', 'Loc,Sag T1 TSE,Tra T2 4mm,Tra Flair 4mm,Tra SWI/VenBold,Tra DWI 4mm']\n",
      "MR KC4: Caput demyeliniserende sykdom (MRKCMS) https://ehandboken.ous-hf.no/Printing/PrintDocument?documentId=14708\n",
      "['MR KC4: Caput demyeliniserende sykdom (MRKCMS)', 'https://ehandboken.ous-hf.no/Printing/PrintDocument?documentId=14708', 'Prekontrast', 'Loc,Sag T1 3D Space,Tra DWI', 'Loc,Sag T1 3D Cube,Tra DWI', 'Loc,Sag T1 3D BrainView,Tra DWI', 'IV kontrast', '', '', '', 'Postkontrast', 'Tra T2 TSE,Sag 3D Flair FS,Sag T1 3D Space K+', 'Tra T2 TSE,Sag 3D Flair FS,Sag T1 3D Cube K+', 'Tra T2 TSE,Sag 3D Flair FS,Sag T1 3D BrainView K+']\n",
      "MR KC5: Caput Traume (MRKCTR) https://ehandboken.ous-hf.no/Printing/PrintDocument?documentId=109137\n",
      "['MR KC5: Caput Traume (MRKCTR)', 'https://ehandboken.ous-hf.no/Printing/PrintDocument?documentId=109137', 'Nativ', 'Loc,Sag T1 3D mprage,Sag 3D Flair,Tra T2 TSE,Tra SWI,Tra DWI', 'Loc,Sag T1 3D mprage,Sag 3D Flair,Tra T2 FSE,Tra SWAN,Tra DWI', 'Loc,Sag T1 3D TFE,Sag 3D Flair,Tra T2 TSE,Tra SWI/VenBold,Tra DWI']\n",
      "MR KC6: Vaskulitt (MRKCVAS) https://ehandboken.ous-hf.no/Printing/PrintDocument?documentId=127840\n",
      "['MR KC6: Vaskulitt (MRKCVAS)', 'https://ehandboken.ous-hf.no/Printing/PrintDocument?documentId=127840', 'Prekontrast', 'Loc,Sag T1 3D Space Black Blood,Tra DWI,Tra SWI,Sag 3D Flair,Tra 3D TOF intracerebrale arterier,(evnt. se,KCang1,),Ev. CM ang Halskar med kontrast,(evnt. se,CMang1,) (Konf. radiolog)', 'Loc,Sag T1 3D Cube Black Blood,Tra DWI,Tra SWAN,Sag 3D Flair,Tra 3D TOF intracerebrale arterier,(evnt. se,KCang1,),Ev. CM ang Halskar med kontrast,(evnt. se,CMang1,) (Konf. radiolog)', 'Loc,Sag T1 3D Black Blood,Tra DWI,Tra SWI/VenBold,Sag 3D Flair,Tra 3D TOF intracerebrale arterier,(evnt. se,KCang1,),Ev. CM ang Halskar med kontrast,(evnt. se,CMang1,)  (Konf. radiolog)', 'IV kontrast', 'Kun caput: 0,2 ml pr kg kroppsvekt', 'Kun caput: 0,2 ml pr kg kroppsvekt', 'Kun caput: 0,2 ml pr kg kroppsvekt', 'Postkontrast', 'Tra T2 Blade,Sag T1 3D Space Black Blood K+', 'Tra T2 Propeller,Sag T1 3D Cube Black Blood K+', 'Tra T2 TSE (MV),Sag T1 3D Black Blood K+']\n",
      "MR KC7: Caput Epilepsi (MRKCEPI) https://ehandboken.ous-hf.no/Printing/PrintDocument?documentId=14676\n",
      "['MR KC7: Caput Epilepsi (MRKCEPI)', 'https://ehandboken.ous-hf.no/Printing/PrintDocument?documentId=14676', 'Nativ', 'Loc,Sag T1 3D mprage,Sag T2 3D Flair,Tra T2 TSE 2mm (AC-PC vinkling),Tra DWI (AC-PC vinkling),Tra SWI (hvis ikke tatt før),Cor T2 TSE 2mm (vinkelrett på temporallappen)', 'Loc,Sag T1 3D mprage,Sag T2 3D  Flair,Tra T2 FSE 2mm (AC-PC vinkling),Tra DWI (AC-PC vinkling),Tra SWAN (hvis ikke tatt før),Cor T2 FSE 2mm (vinkelrett på temporallappen),Sag T2 3D DIR iso,Tra 3D ASL', 'Loc,Sag T1 3D TFE,Sag T2 3D Flair,Tra T2 TSE 2mm (AC-PC vinkling),Tra DWI (AC-PC vinkling),Tra SWI/VenBold (hvis ikke tatt før),Cor T2 TSE 2mm (vinkelrett på temporallappen)']\n",
      "MR KC8: Caput Ikke-kontrastladende tumor (MRKCGLIOP) https://ehandboken.ous-hf.no/Printing/PrintDocument?documentId=127839\n",
      "['MR KC8: Caput Ikke-kontrastladende tumor (MRKCGLIOP)', 'https://ehandboken.ous-hf.no/Printing/PrintDocument?documentId=127839', 'Prekontrast', 'Loc,Sag T1 3D mprage,Tra DWI', 'Loc,Sag T1 3D mprage,Tra DWI', 'Loc,Sag T1 3D TFE,Tra DWI', 'IV kontrast', '', '', '', 'Postkontrast', 'Sag T2 3D Flair,Tra T2 TSE,Sag T1 3D mprage K+,Sag T2 3D Space', 'Sag T2 3D Flair Cube,Tra T2 Propeller,Sag T1 3D mprage K+,Sag T2 3D', 'Sag T2 3D Flair,Tra T2 MV,Sag T1 3D TFE K+,Sag T2 3D BrainView']\n",
      "MR KC9: Caput Cerebral infeksjon (MRKCI) https://ehandboken.ous-hf.no/Printing/PrintDocument?documentId=14685\n",
      "['MR KC9: Caput Cerebral infeksjon (MRKCI)', 'https://ehandboken.ous-hf.no/Printing/PrintDocument?documentId=14685', 'Prekontrast', 'Loc,Sag T1 3D Space,Tra  DWI,Tra SWI', 'Loc,Sag T1 3D Cube,Tra DWI,Tra SWAN', 'Loc,Sag T1 3D BrainView,Tra DWI,Tra SWI/VenBold', 'IV kontrast', '', '', '', 'Postkontrast', 'Sag 3D Flair,Tra T2 TSE,Sag T1 3D Space K+,Cor T2 Flair,2D,K+', 'Sag 3D Flair,Tra T2 Propeller,Sag T1 3D Cube K+,Cor T2 Flair,2D,K+', 'Sag 3D Flair,Tra T2 MV,Sag T1 3D BrainView K+,Cor T2 Flair,2D,K+']\n",
      "MR KC10: Caput Postoperativ benign tumor (MRKCOPBEN) https://ehandboken.ous-hf.no/Printing/PrintDocument?documentId=14715\n",
      "['MR KC10: Caput Postoperativ benign tumor (MRKCOPBEN)', 'https://ehandboken.ous-hf.no/Printing/PrintDocument?documentId=14715', '', '', '', '', 'IV kontrast', '', '', '', 'Postkontrast', 'Loc,Tra T2 TSE,Sag T1 3D Space K+', 'Loc,Tra T2 Propeller,Sag T1 3D Cube K+', 'Loc,Tra T2 TSE,Sag T1 3D BrainView K+']\n",
      "MR KC11: Caput Trombektomi (RH) (MRKC11) https://ehandboken.ous-hf.no/Printing/PrintDocument?documentId=142195\n",
      "['MR KC11: Caput Trombektomi (RH) (MRKC11)', 'https://ehandboken.ous-hf.no/Printing/PrintDocument?documentId=142195', 'Prekontrast', 'Loc,Tra DWI 5 mm,Tra Flair blade 5 mm,Tra TOF angio - dekke aktuelt område', 'Loc,Tra DWI 5 mm,Tra Flair propeller 5 mm,Tra TOF angio - dekke aktuelt område', ' ', 'IV kontrast', 'Eventuelt', 'Eventuelt', ' ', 'Postkontrast', 'Perfusjon,starte kontrasten etter 7 målinger,SWI 3 mm', 'Perfusjon,SWAN 3 mm', ' ']\n",
      "MR KC12: Caput Akutt cerebralt infarkt(MRKCINF+) https://ehandboken.ous-hf.no/Printing/PrintDocument?documentId=14693\n",
      "['MR KC12: Caput Akutt cerebralt infarkt(MRKCINF+)', 'https://ehandboken.ous-hf.no/Printing/PrintDocument?documentId=14693', 'Prekontrast', 'Loc,Tra DWI (b0 og b1000),Tra T2 Flair,Tra SWI,Tra T2 Blade,Sag T1 TSE', 'Loc,Tra DWI (b0 og b1000),Tra T2 Flair,Tra SWAN,Tra T2 Propeller,Sag T1 TSE', 'Loc,Tra DWI  (b0 og b1000),Tra T2 Flair,Tra SWI,Tra T2 MV,Sag T1 TSE', 'IV kontrast', 'Eventuelt', 'Eventuelt', 'Eventuelt', 'Postkontrast', 'Perfusjon,Starte kontrast etter 10 målinger ( 10/75 )', 'Perfusjon,Starte kontrast etter 7 sekunder ( Tiden teller ned til 1:17 )', 'Perfusjon']\n",
      "MR KC13: Caput Skallebasis (MRKCBASISEP) https://ehandboken.ous-hf.no/Printing/PrintDocument?documentId=14739\n",
      "['MR KC13: Caput Skallebasis (MRKCBASISEP)', 'https://ehandboken.ous-hf.no/Printing/PrintDocument?documentId=14739', 'Prekontrast', 'Loc,Sag T1 TSE 4 mm,Tra T1 4mm. Figur 1,Tra T2 TSE Dixon 4mm. Figur 1,Tra T2 3D Space. Figur 2 Konferer,radiolog  om plassering.,(evnt angio/veno,konf radiolog)', 'Loc,Sag T1 3D Cube,Tra T1 4mm. Figur 1,Tra T2 TSE FS 4mm. Figur 1,Tra T2 3D Cube Figur 2 Konf.,radiolog om plassering,(evnt angio/veno,konf radiolog)', 'Loc,Sag T1 TSE 4 mm,Tra T1 4mm. Figur 1,Tra T2 TSE Dixon 4mm. Figur 1,Tra T2 3D BrainView. Figur 2 Konferer,radiolog  om plassering.,(evnt angio/veno,konf radiolog)', 'IV kontrast', '', '', '', 'Postkontrast', 'Kontrast- vent 5 minutter,Sag T1 3D Space K+ (hele caput),Tra T1 3D Dixon K+ . Figur 1', 'Kontrast - vent 5 minutter,Sag T1 3D Cube K+ (hele caput),Tra T1 3D Ideal K+ . Figur1', 'Kontrast- vent 5 minutter,Sag T1 3D BrainView K+ (hele caput),Tra T1 3D Dixon K+ . Figur 1']\n",
      "MR KC15: Caput Nevrodegenerative sykdommer https://ehandboken.ous-hf.no/Printing/PrintDocument?documentId=14671\n",
      "['MR KC15: Caput Nevrodegenerative sykdommer', 'https://ehandboken.ous-hf.no/Printing/PrintDocument?documentId=14671', 'Nativ', 'Loc,Sag T1 3D mprage,Tra T2,Sag 3D Flair,Tra SWI,Tra DWI', 'Loc,Sag T1 3D mprage,Tra T2,Sag 3D Flair,Tra SWAN,Tra DWI', 'Loc,Sag T1 3D T1 TFE,Tra T2,Sag 3D Flair,Tra  VenBold/SWI,Tra DWI']\n",
      "MR KC16: Caput Demyeliniserende sykdom uten iv kontrast (MRKCMSUTEN) https://ehandboken.ous-hf.no/Printing/PrintDocument?documentId=135370\n",
      "['MR KC16: Caput Demyeliniserende sykdom uten iv kontrast (MRKCMSUTEN)', 'https://ehandboken.ous-hf.no/Printing/PrintDocument?documentId=135370', 'Nativ', 'Loc,Sag T1 3D mprage,Tra DWI,Tra T2 TSE,Sag 3D Flair FS', 'Loc,Sag T1 3D mprage,Tra DWI,Tra T2 TSE,Sag 3D Flair FS', 'Loc,Sag T1 3D TFE,Tra DWI,Tra T2 TSE,Sag 3D Flair FS']\n",
      "MR KC17: Caput Hydrocephalus. (MRKCFLOW) https://ehandboken.ous-hf.no/Printing/PrintDocument?documentId=14678\n",
      "['MR KC17: Caput Hydrocephalus. (MRKCFLOW)', 'https://ehandboken.ous-hf.no/Printing/PrintDocument?documentId=14678', 'Nativ', 'Loc,Sag T1 3D mprage,Sag T2 3D Space (hele hodet),Tra T2 Blade,Cor T2 Flair,Flash 6 inplane=flowsekvensen (PPU),Tra DWI', 'Loc,Sag T1 3D mprage,Sag T2 3D Cube (hele hodet),Tra T2 Propeller,Cor T2 Flair,Sag SF Flow PC (PPU),Tra DWI', 'Loc,Sag T1 3D TFE,Sag T2 3D BrainView (hele hodet),Tra T2 TSE (MV),Cor T2 Flair,Sag Flow drive (PPU),Tra DWI']\n",
      "MR KC18: Caput Disseksjon (MRKCDIS) https://ehandboken.ous-hf.no/Printing/PrintDocument?documentId=14737\n",
      "['MR KC18: Caput Disseksjon (MRKCDIS)', 'https://ehandboken.ous-hf.no/Printing/PrintDocument?documentId=14737', 'Prekontrast', 'Loc,Sag T1 TSE,Tra T2 4mm,Tra Flair  4mm,Tra SWI,Tra DWI resolve 4mm,Tra TOF fi3D multislab,Sag T1 3D FS Space,(evnt Tra T2 flair 3mm,se tekst,)', 'Loc,Sag T1 3D mprage,Tra T2 Propeller 4mm,Tra Flair 4mm,Tra SWAN,Tra DWI 4mm,Tra 3D TOF Asset,Evnt Sag 3D InHance,Sag T1 3D FS Cube,(evnt Tra T2 flair 3mm,se tekst,)', 'Loc,Sag T1 TSE,Tra T2 4mm,Tra Flair 4mm,Tra SWI/VenBold,Tra DWI 4mm,Tra TOF 3D,Sag T1 3D FS BrainView,(evnt Tra T2 Flair 3mm,se tekst,)', 'IV kontrast', '', '', '', 'Postkontrast', 'MRCMANG,Sag T1 3D Space K+,(hele hodet)', 'MRCMANG,Sag T1 3D Cube K+,(hele hodet)', 'MRCMANG,Sag T1 3D BrainView K+,(hele hodet)']\n",
      "MR KC21: Caput Navigasjon (MRKCNAV) https://ehandboken.ous-hf.no/Printing/PrintDocument?documentId=14710\n",
      "['MR KC21: Caput Navigasjon (MRKCNAV)', 'https://ehandboken.ous-hf.no/Printing/PrintDocument?documentId=14710', 'Prekontrast', '', '', ' ', 'IV kontrast', '', '', ' ', 'Postkontrast', 'Vent 5 min,Tra 3D T1 mprage K+,Hvis ikke lader kontrast:,Sag T2 3D Space', 'Vent 5 min,Tra 3D T1 mprage K+,Hvis ikke lader kontrast:,Sag T2 3D Space', ' ']\n",
      "MR KC25: Caput Venesinus (MRKCVGR) https://ehandboken.ous-hf.no/Printing/PrintDocument?documentId=14718\n",
      "['MR KC25: Caput Venesinus (MRKCVGR)', 'https://ehandboken.ous-hf.no/Printing/PrintDocument?documentId=14718', 'Nativ', 'Loc,Cor 2D TOF,Sag 3D PC', 'Loc / Asset cal,Cor2D TOF,Sag 3D InHance PC,(viser både arterier og vener)', 'Loc,Cor2D TOF,Sag 3D PC']\n",
      "MR KC25A: Caput SVT hos gravide (MRKCSVTGRA) https://ehandboken.ous-hf.no/Printing/PrintDocument?documentId=127841\n",
      "['MR KC25A: Caput SVT hos gravide (MRKCSVTGRA)', 'https://ehandboken.ous-hf.no/Printing/PrintDocument?documentId=127841', 'Nativ', 'Loc,Sag T1 3D mprage,Tra T2 TSE,Sag 3D Flair,Tra SWI,Tra DWI,Cor2D TOF vener,Sag 3D PC fl', 'Loc,Sag T1 3D mprage,Tra T2 TSE,Sag 3D Flair,Tra SWAN,Tra DWI,Cor 2D TOF vener,Sag 3D PC inhance', 'Loc,Sag T1 3D TFE,Tra T2 TSE,Sag 3D Flair,Tra SWI/VenBold,Tra DWI,Cor 2D TOF vener,Sag 3D PCA']\n",
      "MR KC26: Caput Sinus/venetrombose (MRKCSVT) https://ehandboken.ous-hf.no/Printing/PrintDocument?documentId=14719\n",
      "['MR KC26: Caput Sinus/venetrombose (MRKCSVT)', 'https://ehandboken.ous-hf.no/Printing/PrintDocument?documentId=14719', 'Prekontrast', 'Loc,Sag T1 3D mprage,Tra DWI,Tra SWI,Cor 2D TOF,Sag 3D PC', 'Loc,Sag T1 3D mprage,Tra DWI,Tra SWAN,Cor 2D TOF,Sag 3D InHance PC,(viser både arterier og vener)', 'Loc,Sag T1 3D TFE,Tra DWI,Tra SWI/VenBold,Cor 2D TOF,Sag 3D PC', 'IV kontrast', '', '', '', 'Postkontrast', 'TWIST,(ikke NMR1),Sag T2 3D Flair,Tra T2 TSE,Sag T1 3D mprage K+', 'TRICKS,Sag T2 3D Flair,Tra T2 Propeller,Sag T1 3D mprage K+', '4D-TRAK,Sag T2 3D Flair BrainView,Tra T2 TSE (MV),Sag T1 3D TFE K+']\n",
      "MR KC28: Caput AVM (MRKCAVM) https://ehandboken.ous-hf.no/Printing/PrintDocument?documentId=14636\n",
      "['MR KC28: Caput AVM (MRKCAVM)', 'https://ehandboken.ous-hf.no/Printing/PrintDocument?documentId=14636', 'Nativ', 'Loc,Sag T1 3D mprage,Sag T2 3D Flair,Tra T2 TSE,Tra DWI,Tra SWI,Tra 3D TOF', 'Loc,Sag T1 3D mprage,Sag T2 3D Flair,T2 Propeller,Tra DWI,Tra SWAN,Tra 3D TOF Asset,Evnt,Sag 3D InHance', 'Loc,Sag T1 3D TFE,Sag T2 3D Flair,Tra T2 TSE (MV),Tra DWI,Tra SWI/ VenBold,Tra 3D TOF']\n",
      "MR KC29: Caput Aneurysme (MRKCANEUR) https://ehandboken.ous-hf.no/Printing/PrintDocument?documentId=14632\n",
      "['MR KC29: Caput Aneurysme (MRKCANEUR)', 'https://ehandboken.ous-hf.no/Printing/PrintDocument?documentId=14632', 'Nativ', 'Loc.,Sag T1 3D mprage,Tra DWI,Sag T2 3D Flair FS,Tra T2 TSE,Tra TOF fi3D multislab', 'Loc.,Sag T1 3D mprage,Tra DWI,Sag T2 3D Flair FS,Tra T2 Propeller,Tra 3D TOF Asset,Evnt Sag 3D InHance', 'Loc.,Sag T1 3D TFE,Tra DWI,Sag T2 3D Flair FS BrainView,Tra T2 TSE (MV),Tra 3D TOF']\n",
      "MR KC30: Caput Nasopharynx/ansikt (MRFA) https://ehandboken.ous-hf.no/Printing/PrintDocument?documentId=109194\n",
      "['MR KC30: Caput Nasopharynx/ansikt (MRFA)', 'https://ehandboken.ous-hf.no/Printing/PrintDocument?documentId=109194', 'Prekontrast', 'Cor T2 TSE Dixon 3mm (IP + W),Cor T1 TSE Dixon 3mm (IP + W),Tra T2 TSE Dixon 3mm (IP + W),Tra T1 TSE Dixon 3mm (IP + W),Tra DWI,Radiolog se på bilder.,Evt angio ved behov.', 'Cor T2 TSE Ideal 3mm (IP + W),Cor T1 TSE Ideal 3mm (IP + W),Tra T2 TSE Ideal 3mm (IP + W),Tra T1 TSE Ideal 3mm (IP + W),Tra DWI,Radiolog se på bilder.,Evt angio ved behov.', 'Cor T2 TSE Dixon 3mm (IP + W),Cor T1 TSE Dixon 3mm (IP + W),Tra T2 TSE Dixon 3mm (IP + W),Tra T1 TSE Dixon 3mm (IP + W),Tra DWI,Radiolog se på bilder.,Evt angio ved behov.', 'IV kontrast', '', '', '', 'Postkontrast', 'Tra T1 TSE Dixon 3mm (W) K+,Cor T1 TSE Dixon 3mm (W) K+,Sag T1 TSE Dixon 3mm (W) K+ ved behov,Ved Nervus Opticus patologi (NF/OPG);,Tra T1 3D Dixon 1mm over orbita K+,Ved Nervus Facialis patologi (perineural spredning);,Tra T1 3D Dixon  1mm over akt. område K+', 'Tra T1 TSE Ideal 3mm (W) K+,Cor T1 TSE Ideal 3mm (W) K+,Sag T1 TSE Ideal 3mm (W) K+ ved behov,Ved Nervus Opticus patologi (NF/OPG);,Tra T1 3D Ideal 1mm over orbita K+,Ved Nervus Facialis patologi (perineural spredning);,Tra T1 3D Ideal 1mm over akt. område K+', 'Tra T1 TSE Dixon 3mm (W) K+,Cor T1 TSE Dixon 3mm (W) K+,Sag T1 TSE Dixon 3mm (W) K+ ved behov,Ved Nervus Opticus patologi (NF/OPG);,Tra T1 3D Dixon 1mm over orbita K+,Ved Nervus Facialis patologi (perineural spredning);,Tra T1 3D Dixon  1mm over akt. område K+']\n",
      "MR KC33: Caput NVK (MRKCNVK) https://ehandboken.ous-hf.no/Printing/PrintDocument?documentId=14930\n",
      "['MR KC33: Caput NVK (MRKCNVK)', 'https://ehandboken.ous-hf.no/Printing/PrintDocument?documentId=14930', 'Nativ', 'Loc,Tra 3D TOF,(se,KCang1,for skanning og rekontruksjoner),Tra 3D T2 Space', 'Loc/asset cal,Tra 3D TOF,(se,KCang1,for skanning og rekontruksjoner),Tra 3D T2 Cube', 'loc,Tra 3D TOF,(se,KCang1,for skanning og rekontruksjoner),Tra 3D T2 Brain View']\n",
      "MR KC39: Caput PO 48/72 timer kontrastladende tumor (MRKC39) https://ehandboken.ous-hf.no/Printing/PrintDocument?documentId=142067\n",
      "['MR KC39: Caput PO 48/72 timer kontrastladende tumor (MRKC39)', 'https://ehandboken.ous-hf.no/Printing/PrintDocument?documentId=142067', 'Prekontrast', 'Loc,Sag T1 3D mprage,Tra DWI', 'Loc,Sag T1 3D mprage,Tra DWI', 'Loc,Sag T1 3D TFE,Tra DWI', 'IV kontrast', '', '', '', 'Postkontrast', 'Sag T2 3D Flair Space,Tra T2 TSE,Sag T1 3D mprage K+,Lag subtraksjonsserie av T1 3D,før og etter kontrast.', 'Sag T2 3D Flair Cube,Tra T2 Propeller,Sag T1 3D mprage K+,Lag subtraksjonsserie av T1 3D,før og etter kontrast.', 'Sag T2 3D Flair BrainView,Tra T2 TSE (MV),Sag T1 3D TFE K+,Lag subtraksjonsserie av T1 3D,før og etter kontrast.']\n",
      "MR KCP1: Caput Brain tumor prosjekt preoperativ https://ehandboken.ous-hf.no/Printing/PrintDocument?documentId=14733\n",
      "['MR KCP1: Caput Brain tumor prosjekt preoperativ', 'https://ehandboken.ous-hf.no/Printing/PrintDocument?documentId=14733', 'Prekontrast', 'Loc,Sag T1 3D SPACE,Tra T2,Tra DTI,Sag T2 SPACE Flair', 'Loc,Sag T1 3D CUBE,Tra T2 Propeller,Tra DTI,Sag T2 CUBE Flair,Tra 3D ASL prosjekt, fysiker', ' ', 'IV kontrast', '', '', ' ', 'Postkontrast', 'Tra Perfusjon (T2*),Tra SWI 3D,Sag T1 3D SPACE K+ (kopiert fra serie 2),------,CSI se 135,SVS se 135,SVS se 35,Spektroskopi,enten,multivoxel (CSI),og/eller,singelvoxel (SVS) som bestemmes av radiolog,Radiolog avgjør valg av ekkotid,-------,Kjør pasienten ut, fjern øreklokker.,Pasienten skal tilbake i samme posisjon uten ny localizer.,NavigasjonTra T13D MPRAGE K+  uvinklet dersom tumor lader kontrast,Navigasjon Sag T2 Space  dersom tumor,ikke,lader kontrast', 'Tra Perfusjon (T2*),Tra SWAN 3D,Sag T1 CUBE K+ (kopiert fra serie 2),-----,PROBE 2D CSI,PROBE-SV 35 (28),PROBE-SV 144,Spektroskopi,enten,multivoxel (CSI),og/eller,singelvoxel (SVS) som bestemmes av radiolog,Radiolog avgjør valg av ekkotid,-----,Kjør pasienten ut, fjern øreklokker.,Pasienten skal tilbake i samme posisjon uten ny localizer.,NavigasjonTra T13D MPRAGE K+  uvinklet dersom tumor lader kontrast,Navigasjon Sag T2 Space  dersom tumor,ikke,lader kontrast', ' ']\n",
      "MRKCANG1: Cerebral angiografi uten iv-kontrast (MRKCANG) https://ehandboken.ous-hf.no/Printing/PrintDocument?documentId=14634\n",
      "MRKCANG2: Cerebral angiografi med iv-kontrast (US MR NMR3: Tricks hode/rygg) https://ehandboken.ous-hf.no/Printing/PrintDocument?documentId=15540\n",
      "MRCMANG1: Halsarterier med iv-kontrast (MRCMANG1) https://ehandboken.ous-hf.no/Printing/PrintDocument?documentId=47085\n",
      "MRCCANG: Cervicale angio med iv-kontrast (US MR NMR3: Tricks hode/rygg) https://ehandboken.ous-hf.no/Printing/PrintDocument?documentId=15540\n",
      "MRCDANG: Thorachale angio med iv-kontrast (US MR NMR3: Tricks hode/rygg) https://ehandboken.ous-hf.no/Printing/PrintDocument?documentId=15540\n",
      "MRCLANG: Lumbal angio med iv-kontrast (US MR NMR3: Tricks hode/rygg) https://ehandboken.ous-hf.no/Printing/PrintDocument?documentId=15540\n",
      "MR SE1: Hypofyse lesjon https://ehandboken.ous-hf.no/Printing/PrintDocument?documentId=15608\n",
      "['MR SE1: Hypofyse lesjon', 'https://ehandboken.ous-hf.no/Printing/PrintDocument?documentId=15608', 'Prekontrast', 'Sag T1 3mm,Cor T1 3mm,Cor T2 3mm', 'Sag T1 3mm,Cor T1 3mm,Cor T2 3mm', 'Sag T1 3mm,Cor T1 3mm,Cor T2 3mm', 'IV Kontrast', '', '', '', 'Postkontrast', 'Sag T1 3mm K+,Cor T1 3mm K+', 'Sag T1 3mm K+,Cor T1 3mm K+', 'Sag T1 3mm K+,Cor T1 3mm K+']\n",
      "MR ORB1 MR: Orbita Standard (MRORB) https://ehandboken.ous-hf.no/Printing/PrintDocument?documentId=16069\n",
      "['MR ORB1 MR: Orbita Standard (MRORB)', 'https://ehandboken.ous-hf.no/Printing/PrintDocument?documentId=16069', 'Nativ', 'Tra / Sag loc,Tra T1 3D Vibe Dixon,TraT2 TSE  3 mm,Cor T2 Dixon 3 mm', 'Loc/ Asset cal,Tra T1 3D IDEAL,Tra T2 TSE propeller  3 mm,Cor T2 IDEAL 3 mm', 'Loc,Tra T1 3D Dixon TFE,Tra T2 TSE 3 mm,Cor T2 Dixon 3 mm']\n",
      "MR ORB2 MR: Orbita m/kontrast (MRORBK) https://ehandboken.ous-hf.no/Printing/PrintDocument?documentId=16082\n",
      "['MR ORB2 MR: Orbita m/kontrast (MRORBK)', 'https://ehandboken.ous-hf.no/Printing/PrintDocument?documentId=16082', 'Prekontrast', 'Tra / Sag loc,Tra T1 vibe dixon,TraT2 TSE  3 mm,Cor T2  Dixon 3 mm,Tra DWI', 'Tra/ sag loc,Tra T1 IDEAL 3 mm,Tra T2 TSE propeller  3 mm,Cor T2 IDEAL 3 mm,Tra DWI', 'Loc,Tra T1 3D Dixon (TFE),Tra T2 TSE 3mm,Cor T2 Dixon 3mm,Tra DWI', 'IV Kontrast', '', '', '', 'Postkontrast', 'Tra T1 VIBE Dixon 1mm K+', 'Tra 3D IDEAL K+', 'Tra T1 3D Dixon (TFE) K+']\n",
      "MR ORB3 MR: Orbita. Opticus nevritt (MRORBMS) https://ehandboken.ous-hf.no/Printing/PrintDocument?documentId=16072\n",
      "['MR ORB3 MR: Orbita. Opticus nevritt (MRORBMS)', 'https://ehandboken.ous-hf.no/Printing/PrintDocument?documentId=16072', 'Prekontrast', 'Loc.,Cor T2 STIR', 'Loc.,Cor T2 FS propeller', 'Loc.,Cor T2 STIR', 'IV kontrast', '', '', '', 'Postkontrast', 'Tra T1 3D Vibe Dixon K+', 'Tra 3D T1 IDEAL K+', 'Tra T1 3D Dixon TFE K+']\n",
      "MR KVAR: Kjeveledd (MRKVAR) https://ehandboken.ous-hf.no/Printing/PrintDocument?documentId=15779\n",
      "MR CPV 1: Tinningben,  CPV lesjoner https://ehandboken.ous-hf.no/Printing/PrintDocument?documentId=15786\n",
      "['MR CPV 1: Tinningben,  CPV lesjoner', 'https://ehandboken.ous-hf.no/Printing/PrintDocument?documentId=15786', '', '', '', '', 'IV Kontrast', '', '', '', 'Postkontrast', 'Loc,Tra T1 3D Vibe,Dixon K+', 'Loc,Tra T1 FS 3D,(Dixon) K+', 'Loc,Tra T1 FS 3D TFE,(Dixon) K+']\n",
      "MR CPV 2: Tinningben, labyrintlesjoner https://ehandboken.ous-hf.no/Printing/PrintDocument?documentId=15789\n",
      "['MR CPV 2: Tinningben, labyrintlesjoner', 'https://ehandboken.ous-hf.no/Printing/PrintDocument?documentId=15789', '', '', '', '', 'IV Kontrast', '', '', '', 'Postkontrast', 'Loc,Tra T1 FS 3D K+,Tra T2 space', 'Loc,Tra T1 FS 3D K+,Tra  FIESTA-C', 'Loc,Tra T1 FS 3D K+,Tra  VISTA']\n",
      "MRCMK https://ehandboken.ous-hf.no/Printing/PrintDocument?documentId=112528\n",
      "['MRCMK', 'https://ehandboken.ous-hf.no/Printing/PrintDocument?documentId=112528', 'Prekontrast', 'Loc,Cor T2 TSE Dixon 3mm (IP + W),Cor T1 TSE Dixon 3mm (IP + W),Tra T2 TSE Dixon 3mm (IP + W),Tra T1 TSE Dixon 3mm (IP + W),Radiolog se på!,Evt Tra DWI ved behov (ved tumor, dermoid/epidermoid cyste, retropharyngeal abscess),Angio ved behov.', 'Loc,Cor T2 TSE Ideal 3mm (IP + W),Cor T1 TSE Ideal 3mm (IP + W),Tra T2 TSE Ideal 3mm (IP + W),Tra T1 TSE Ideal 3mm (IP + W),Radiolog se på!,Evt Tra DWI ved behov (ved tumor, dermoid/epidermoid cyste, retropharyngeal abscess),Angio ved behov.', 'Loc,Cor T2 TSE Dixon 3mm (IP + W),Cor T1 TSE Dixon 3mm (IP + W),Tra T2 TSE Dixon 3mm (IP + W),Tra T1 TSE Dixon 3mm (IP + W),Radiolog se på!,Evt Tra DWI ved behov (ved tumor, dermoid/epidermoid cyste, retropharyngeal abscess),Angio ved behov.', 'IV kontrast', '', '', '', 'Postkontrast', 'Tra T1 TSE Dixon 3mm (W) K+,Cor T1 TSE Dixon 3mm (W) K+,Sag T1 TSE Dixon 3mm (W) K+ ved perineural spredning.,Ved Nervus Opticus patologi (NF1/OPG) taes T1 3D Dixon over orbita.,Ved Nervus Facialis patologi (perineural spredning) taes,T1 3D Dixon over aktuelt område.', 'Tra T1 TSE Ideal 3mm (W) K+,Cor T1 TSE Ideal 3mm (W) K+,Sag T1 TSE Ideal 3mm (W) K+ ved perineural spredning.,Ved Nervus Opticus patologi (NF1/OPG) taes T1 3D Dixon over orbita.,Ved Nervus Facialis patologi (perineural spredning) taes,T1 3D Dixon over aktuelt område.', 'Tra T1 TSE Dixon 3mm (W) K+,Cor T1 TSE Dixon 3mm (W) K+,Sag T1 TSE Dixon 3mm (W) K+ ved perineural spredning.,Ved Nervus Opticus patologi (NF1/OPG) taes T1 3D Dixon over orbita.,Ved Nervus Facialis patologi (perineural spredning) taes,T1 3D Dixon over aktuelt område.', 'Ekstra', 'Evt CT Ansiktskjelett', '', '']\n",
      "MR CCCDCL1: Prolaps https://ehandboken.ous-hf.no/Printing/PrintDocument?documentId=16307\n",
      "['MR CCCDCL1: Prolaps', 'https://ehandboken.ous-hf.no/Printing/PrintDocument?documentId=16307', 'Nativ', 'Loc.,Sag T2 TSE,Sag T1 TSE,Sag T2 3D Space,Cervical: Tra T2 Me2d,Thoracalt: Tra T2 TSE (aktuelt område),Lumbalt: Tra T2 TSE (aktuelt område)', 'Loc.,Sag T2 FSE,Sag T1 FSE IR,Sag T2 3D Cube,Cervicalt: Tra T2 Merge,Thoracalt: Tra T2 Merge (aktuelt område),Lumbalt: Tra T2 T2FSE (aktuelt område)', 'Loc.,Sag T2 TSE,Sag T1 TSE,Sag T2 3D SpineView/Vista,Cervicalt: Tra T2 MSFFE,Thoracalt: Tra T2 TSE (aktuelt område),Lumbalt: Tra T2 TSE (aktuelt område)']\n",
      "MR CCCDCL2: Traume https://ehandboken.ous-hf.no/Printing/PrintDocument?documentId=17180\n",
      "['MR CCCDCL2: Traume', 'https://ehandboken.ous-hf.no/Printing/PrintDocument?documentId=17180', 'Nativ', 'Loc,Sag T1 TSE,Sag T2 TSE,Sag  T2 fl2d(hemo),Sag T2 STIR,Tra TSE T1 (aktuelt område),Tra TSE T2 (aktuelt område),Dersom funn Sag T2* fl2d (hemo):,Tra T2* fl2d  (hemo),Evnt Sag T2 Space', 'Loc,Sag T1 FSE IR,Sag T2 FRFSE,Sag T2 MERGE (c.col),Sag T2* gre (th.col/l.col),Sag STIR,Tra  T2 FSE(aktuelt område),Tra T1 FSE IR (aktuelt område),Dersom funn sag  T2* gre :,Tra,T2* gre,Evnt Sag T2 Cube', 'Survey,Sag T1 TSE,Sag T2 TSE,Sag T2* FFE/TFE (hemo),Sag T2 STIR,Tra T1 TSE  (aktuelt område),Tra T2 TSE  (aktuelt område),Dersom funn sag T2* FFE/TFE (hemo):,Tra  T2* FFE/TFE (hemo),Evnt Sag T2 SpineView']\n",
      "MR CCCD3: Demyeliniserende sykdom https://ehandboken.ous-hf.no/Printing/PrintDocument?documentId=17187\n",
      "['MR CCCD3: Demyeliniserende sykdom', 'https://ehandboken.ous-hf.no/Printing/PrintDocument?documentId=17187', 'Prekontrast', 'Loc,Sag T2,TSE', 'Loc,Sag T2,FSE', 'Survey,Sag T2,TSE', 'IV kontrast', '', '', '', 'Postkontrast', 'Sag T1 TSE K+,Evnt.,i aktuellt område:,Tra T1 TSE K+,Tra T2 TSE', 'Sag T1 FSE IR K+,Evnt.,i aktuellt område:,Tra T1 FSE IR K+,Tra T2 FSE', 'Sag T1 TSE K+,Evnt.,i aktuellt,område:,Tra T1 TSE K+,Tra T2 TSE']\n",
      "MR CCCD4: Syrinx https://ehandboken.ous-hf.no/Printing/PrintDocument?documentId=17204\n",
      "['MR CCCD4: Syrinx', 'https://ehandboken.ous-hf.no/Printing/PrintDocument?documentId=17204', 'Nativ', 'Loc,Sag T1 TSE,Sag T2 TSE,Evnt;,Tra T2 TSE,(aktuelt område)', 'Loc,Sag T1 FSE IR,Sag T2 FSE,Evnt;,Tra T2 FSE,(aktuelt område)', 'Survey,Sag T1 TSE,Sag T2 TSE,Evnt;,Tra T2 TSE,(aktuelt område)']\n",
      "MR CCCDCL5: Tumor  https://ehandboken.ous-hf.no/Printing/PrintDocument?documentId=19408\n",
      "['MR CCCDCL5: Tumor ', 'https://ehandboken.ous-hf.no/Printing/PrintDocument?documentId=19408', 'Prekontrast', 'Loc,Sag T1 TSE,Sag T2 TSE,Tra T1 TSE (i aktuelt område),Tra T2 TSE (i aktuelt område)', 'Loc,Sag T1 FSE IR,Sag T2 FSE,Tra T1 FSE IR (i aktuelt område),Tra T2 FSE (i aktuelt område)', 'Loc,Sag T1 TSE,Sag T2 TSE,Tra T1 TSE (i aktuelt område),Tra T2 TSE (i aktuelt område)', 'IV kontrast', '', '', '', 'Postkontrast', 'Sag T1 TSE K+,Tra T1 TSE  K+ (i aktuelt område),Evnt.,Cor T1 TSE K+ dersom paraspinal,tumorkomponent', 'Sag T1 FSE IR K+,Tra T1 FSE IR K+ (i aktuelt område),Evnt.,Cor T1 FSE K+ dersom paraspinal,tumorkomponent', 'Sag T1 TSE  K+,Tra T1 TSE K+  (i aktuelt område),Evnt.,Cor T1 TSE K+    dersom paraspinal,tumorkomponent']\n",
      "MR CCCDCL6: Postoperativ arrvev/prolaps https://ehandboken.ous-hf.no/Printing/PrintDocument?documentId=17103\n",
      "['MR CCCDCL6: Postoperativ arrvev/prolaps', 'https://ehandboken.ous-hf.no/Printing/PrintDocument?documentId=17103', 'Prekontrast', 'Loc,Sag T1 TSE,Sag T2 TSE,Tra T1 TSE (kirurgisk nivå)', 'Loc,Sag T1 SE IR,Sag T2 FSE,Tra T1 FSE (kirurgisk nivå)', 'Loc,Sag T1 TSE,Sag T2 TSE,Tra T1 TSE (kirurgisk nivå)', 'IV kontrast', '', '', '', 'Postkontrast', 'Sag T2 3D Space,Tra T2 TSE (kirurgisk nivå),Tra T1 TSE K+ (kirurgisk nivå)', 'Sag T2 3D Cube,Tra T2 FSE (kirurgisk nivå),Tra T1 FSE IR K+ (kirurgisk nivå)', 'Sag T2 3D SpineView/Vista,Tra T2 TSE (kirurgisk nivå),Tra T1 TSE K+ (kirurgisk nivå)']\n",
      "MR CCCDCL7: Infeksjon/abscess https://ehandboken.ous-hf.no/Printing/PrintDocument?documentId=19444\n",
      "['MR CCCDCL7: Infeksjon/abscess', 'https://ehandboken.ous-hf.no/Printing/PrintDocument?documentId=19444', 'Prekontrast', 'Loc,Sag T1 Dixon,Sag T2 TSE Dixon,I aktuelt område:,Tra T2 TSE', 'Loc,Sag T1 FSE Ideal,Sag T2 FSE Ideal,I aktuelt område:,Tra T2 FSE', 'Survey,Sag T1 Dixon,Sag T2 TSE Dixon,I aktuelt område:,Tra T2 TSE', 'IV kontrast', '', '', '', 'Postkontrast', 'Sag T1 TSE Dixon K+,I aktuelt område:,Tra T1 TSE Dixon K+,Ved paraspinal,utbredelse:,Cor T1 TSE Dixon K+', 'Sag T1 FSE Ideal K+,I aktuelt område:,Tra T1 FSE Ideal K+,Ved paraspinal,utbredelse:,Cor T1 FSE Ideal K+', 'Sag T1 TSE Dixon K+,I aktuelt område:,Tra T1 TSE Dixon K+,Ved paraspinal,utbredelse:,Cor T1 TSE Dixon K+']\n",
      "MR CCCDCL8: Primær bentumor https://ehandboken.ous-hf.no/Printing/PrintDocument?documentId=19429\n",
      "['MR CCCDCL8: Primær bentumor', 'https://ehandboken.ous-hf.no/Printing/PrintDocument?documentId=19429', 'Prekontrast', 'Loc,Sag T1 SE,Sag T2 TSE,Dixon,Tra T2 TSE,Dixon,(i aktuelt område),Tra T1 TSE,(i aktuelt område)', 'Loc,Sag T1 FSE IR,Sag T2 FSE,Ideal,Tra T2 FSE Ideal,(i aktuelt område),Tra T1 FSE,(i aktuelt område)', 'Loc,Sag T1 SE,Sag T2 TSE Dixon,Tra T2 TSE,Dixon,(i aktuelt område),Tra T1 TSE,(i aktuelt område)', 'IV kontrast', '', '', '', 'Postkontrast', 'Sag T1 TSE Dixon K+,Tra T1 TSE  K+,(i aktuelt område),Evnt.,Cor T1 TSE K+,hvis paraspinal komponent', 'Sag T1 FSE Ideal K+,Tra T1 FSE K+,(i aktuelt område),Evnt.,Cor T1 FSE K+,hvis paraspinal komponent', 'Sag T1 TSE Dixon K+,Tra T1 TSE K+,(i aktuelt område),Evnt.,Cor T1 TSE K+,hvis paraspinal komponent']\n",
      "MR CCCD9: Columna/medulla infarkt https://ehandboken.ous-hf.no/Printing/PrintDocument?documentId=137201\n",
      "['MR CCCD9: Columna/medulla infarkt', 'https://ehandboken.ous-hf.no/Printing/PrintDocument?documentId=137201', 'Prekontrast', 'Loc,Sag T2 TSE, 3mm,Sag T1 TSE Dixon, 3mm,Sag T2 STIR, 3mm,Sag DWI (b50 og b600), 3mm,Dersom funn:,Tra T1 TSE Dixon, 3.5mm (aktuelt område)', 'Loc,Sag T2 FSE, 3mm,Sag T1 FSE Ideal, 3mm,Sag T2 STIR, 3mm,Sag DWI b50 og b600), 3mm,Dersom funn:,Tra T1 FSE Ideal, 3.5mm (aktuelt område)', 'Loc,Sag T2 TSE, 3mm,Sag T1 TSE Dixon, 3mm,Sag T2 STIR, 3mm,Sag DWI (b50 og b600), 3mm,Dersom funn:,Tra T1 TSE Dixon, 3.5mm (aktuelt område)', 'IV kontrast', '', '', '', 'Postkontrast', 'Tra T2 TSE, 3.5mm (aktuelt område),Tra T1 TSE Dixon, 3.5mm (aktuelt område) K+,Sag T1 TSE Dixon, 3mm K+', 'Tra T2 FSE, 3.5mm (aktuelt område),Tra T1 FSE Ideal, 3.5mm (aktuelt område) K+,Sag T1 FSE Ideal, 3mm K+', 'Tra T2 TSE, 3.5mm (aktuelt område),Tra T1 TSE Dixon, 3.5mm (aktuelt område) K+,Sag T1 TSE Dixon, 3mm K?']\n",
      "MR CCCDCL10: Intramedullær/vaskulær malformasjon https://ehandboken.ous-hf.no/Printing/PrintDocument?documentId=17284\n",
      "['MR CCCDCL10: Intramedullær/vaskulær malformasjon', 'https://ehandboken.ous-hf.no/Printing/PrintDocument?documentId=17284', 'Prekontrast', 'Loc,Sag T1 TSE,Sag T2 TSE,Sag T2 fl 2d,(T2*),Myelografi', 'Loc,Sag T1 FSE IR,Sag T2 FSE,Sag T2 fl 2d,(T2*),Myelografi', 'Loc,Sag T1 TSE,Sag T2 TSE,Sag T2  FFE,(T2*),Myelografi', 'IV kontrast', '', '', '', 'Postkontrast', 'Evnt.,TWIST angio K+,Sag T1 TSE K+,Tra T1 TSE K+ (aktuelt område)', 'Evnt.,TRICKS angio K+,Sag T1 FSE IR K+,Tra T1 FSE IR K+ (aktuelt område)', 'Evnt.,4D-TRAK angio K+,Sag T1 TSE K+,Tra T1 TSE K+ (aktuelt område)']\n",
      "MR CCCDCL11: Columna drop https://ehandboken.ous-hf.no/Printing/PrintDocument?documentId=19402\n",
      "['MR CCCDCL11: Columna drop', 'https://ehandboken.ous-hf.no/Printing/PrintDocument?documentId=19402', 'Prekontrast', 'Loc,Sag T1 TSE,hele columna', 'Loc,Sag T1 FSE IR,hele columna', 'Loc,Sag T1 TSE,hele columna', 'IV kontrast', '', '', '', 'Postkontrast', 'Sag T1 TSE K+,hele columna,Tra T1 TSE K+,i aktuellt nivå', 'Sag T1 FSE IR K+,hele columna,Tra T1 FSE IR K+,i aktuellt nivå', 'Sag TSE T1 K+,hele columna,Tra T1 TSE K+,i aktuellt nivå']\n",
      "MR CCCDCL12: Metastase/ Medullakompresjon  https://ehandboken.ous-hf.no/Printing/PrintDocument?documentId=102282\n",
      "['MR CCCDCL12: Metastase/ Medullakompresjon ', 'https://ehandboken.ous-hf.no/Printing/PrintDocument?documentId=102282', 'Nativ', 'Loc,Sag T2 TSE Dixon,Aktuelt nivå ved,medullakompresjon:,Tra T2 TSE,konf. radiolog', 'Loc,Sag T2 FSE Ideal,Aktuelt nivå ved,medullakompresjon:,Tra T2 FSE,konf. radiolog', 'Loc,Sag T2 TSE Dixon,Aktuelt nivå ved,medullakompresjon:,Tra T2 TSE,konf. radiolog']\n",
      "MR CCCDCL13: Screening https://ehandboken.ous-hf.no/Printing/PrintDocument?documentId=19446\n",
      "['MR CCCDCL13: Screening', 'https://ehandboken.ous-hf.no/Printing/PrintDocument?documentId=19446', 'Nativ', 'Loc.,Sag T2 3D Space,Spinalvæskelekkasje:,I mistenkt nivå:,Tra T2 TSE FS', 'Loc.,Sag T2 3D Cube,Spinalvæskelekkasje:,I mistenkt nivå:,Tra T2 FSE FS', 'Loc.,Sag T2 3D Spine View/Vista,Spinalvæskelekkasje:,I mistenkt nivå:,Tra T2 TSE FS']\n",
      "MR CCCDCL14: Araknoiditt https://ehandboken.ous-hf.no/Printing/PrintDocument?documentId=17278\n",
      "['MR CCCDCL14: Araknoiditt', 'https://ehandboken.ous-hf.no/Printing/PrintDocument?documentId=17278', 'Prekontrast', 'Loc,Sag  T1 TSE,Sag T2 TSE,I aktuelt område:,Tra T1 TSE,Tra T2 TSE', 'Loc,Sag T1 FSE IR,Sag T2 FSE,I aktuelt område:,Tra T1 FSE IR,Tra T2 FSE', 'Loc,Sag  T1 TSE,Sag T2 TSE,I aktuelt område:,Tra T1 TSE,Tra T2 TSE', 'IV kontrast', '', '', '', 'Postkontrast', 'Sag T1 TSE K+,I aktuelt område:,Tra T1 TSE K+,Myelo', 'Sag T1 FSE IR K+,I aktuelt område:,Tra T1 FSE IR K+,Myelo', 'Sag T1 TSE K+,I aktuelt område:,Tra T1 TSE K+,Myelo']\n",
      "MR CCCD15: Epidural lipomatose https://ehandboken.ous-hf.no/Printing/PrintDocument?documentId=17202\n",
      "['MR CCCD15: Epidural lipomatose', 'https://ehandboken.ous-hf.no/Printing/PrintDocument?documentId=17202', 'Nativ', 'Loc,Sag T1 TSE,Sag T2 TSE Dixon,I aktuelt område:,Tra T2 TSE,Tra T1 TSE', 'Loc,Sag T1 FSE IR,Sag T2 FSE Ideal,I aktuelt område:,Tra T2 FSE,Tra T1 FSE IR', 'Loc,Sag T1 TSE,Sag T2 TSE Dixon,I aktuelt område:,Tra T2 TSE,Tra T1 TSE']\n",
      "MR CCCDCL16: Myelografi https://ehandboken.ous-hf.no/Printing/PrintDocument?documentId=135575\n",
      "['MR CCCDCL16: Myelografi', 'https://ehandboken.ous-hf.no/Printing/PrintDocument?documentId=135575', 'Prekontrast', 'Sag T1 3D Vibe Dixon (FS)', ' ', ' ', 'Kontrast,intratechalt', '', ' ', ' ', 'Postkontrast', 'Sag T1 3D Vibe Dixon (FS) K+', ' ', ' ']\n",
      "MR CCCDCL17: Før vertebroplastikk  https://ehandboken.ous-hf.no/Printing/PrintDocument?documentId=98755\n",
      "['MR CCCDCL17: Før vertebroplastikk ', 'https://ehandboken.ous-hf.no/Printing/PrintDocument?documentId=98755', 'Nativ', 'Loc.,Sag T2 STIR,Dersom biopsi:,Tra T2 i aktuelle område', 'Loc.,Sag T2 STIR,Dersom biopsi:,Tra T2 i aktuelle område', 'Loc.,Sag T2 STIR,Dersom biopsi:,Tra T2 i aktuelle område']\n",
      "MR CCCDCL 18: Myelitt.Polyradiculitt https://ehandboken.ous-hf.no/Printing/PrintDocument?documentId=130925\n",
      "['MR CCCDCL 18: Myelitt.Polyradiculitt', 'https://ehandboken.ous-hf.no/Printing/PrintDocument?documentId=130925', 'Prekontrast', 'Loc,Sag T1 TSE  Dixon,Sag T2 TSE,Aktuelt område:,Tra T1 TSE Dixon,(fra L5-L1),konf. radiolog', 'Loc,Sag T1 FSE IR Ideal,Sag T2 FSE,Aktuelt område:,Tra T1 FSE IR Ideal,(fra L5-L1),konf. radiolog', 'Loc,Sag T1 TSE  Dixon,Sag T2 TSE,Aktuelt område:,Tra T1 TSE Dixon,(fra L5-L1),konf. radiolog', 'IV kontrast', '', '', '', 'Postkontrast', 'Sag T1 TSE Dixon K+,Aktuelt område:,Tra T2 TSE,Tra T1 TSE Dixon K+,(fra L5-L1;,samme område som,prekontrast)', 'Sag T1 FSE IR Ideal K+,Aktuelt område:,Tra T2 FSE,Tra T1 FSE IR Ideal K+,(fra L5-L1;,samme område som,prekontrast)', 'Sag T1 TSE Dixon K+,Aktuelt område:,Tra T2 TSE,Tra T1 TSE Dixon K+,(fra L5-L1;,samme område som,prekontrast)']\n",
      "MR CCD19: Demyeliniserende sykdom uten iv kontrast https://ehandboken.ous-hf.no/Printing/PrintDocument?documentId=142204\n",
      "['MR CCD19: Demyeliniserende sykdom uten iv kontrast', 'https://ehandboken.ous-hf.no/Printing/PrintDocument?documentId=142204', 'Nativ', 'Loc,Sag T2 TSE', 'Loc,Sag T2 FSE', 'Loc,Sag T2 TSE']\n",
      "MR CC21: Cervicalcolumna Neuroswing  https://ehandboken.ous-hf.no/Printing/PrintDocument?documentId=15428\n",
      "['MR CC21: Cervicalcolumna Neuroswing ', 'https://ehandboken.ous-hf.no/Printing/PrintDocument?documentId=15428', 'Nativ', 'Neutral stilling av c.col:,Loc,Sag T1 TSE,Sag T2 TSE,Haste Myelo,Tra T2 me2d,Antefleksjon:,Loc,Sag T2 3D Space,Haste Myelo,Retrofleksjon:,Loc,Sag T2 3D Space,Haste Myelo', ' ', ' ']\n",
      "MR CC 22: Craniocervikal overgang. Alare ligament (MRCCALARELIGAMENT) https://ehandboken.ous-hf.no/Printing/PrintDocument?documentId=134694\n",
      "['MR CC 22: Craniocervikal overgang. Alare ligament (MRCCALARELIGAMENT)', 'https://ehandboken.ous-hf.no/Printing/PrintDocument?documentId=134694', 'Nativ', 'Loc,Sag TSE PD DIXON 2 mm,Cor TSE PD 2 mm,Tra TSE PD 2 mm,Cor TSE T2 DIXON 2 mm', 'Loc,Sag TSE PD IDEAL 2 mm,Cor TSE PD 2 mm,Tra TSE PD 2 mm,Cor TSE T2 IDEAL 2 mm', 'Loc,Sag TSE PD DIXON 2 mm,Cor TSE PD 2 mm,Tra TSE PD 2 mm,Cor TSE T2 DIXON 2 mm']\n",
      "MR CLP: MODIC-studien Lumbalcolumna (MRCLMODIC) https://ehandboken.ous-hf.no/Printing/PrintDocument?documentId=140701\n",
      "['MR CLP: MODIC-studien Lumbalcolumna (MRCLMODIC)', 'https://ehandboken.ous-hf.no/Printing/PrintDocument?documentId=140701', 'Nativ', 'Sagittal snittføring', 'Axial snittføring', ' ']\n",
      "MR PB1: Plexus brachialis. Standard https://ehandboken.ous-hf.no/Printing/PrintDocument?documentId=16101\n",
      "['MR PB1: Plexus brachialis. Standard', 'https://ehandboken.ous-hf.no/Printing/PrintDocument?documentId=16101', 'Nativ', 'Loc,Cor T2,3D,STIR,Cor T1 3D Space,Cor T2 3D Space', 'Loc,Cor T2,3D,STIR Cube,Cor T1 3D Cube,Cor T2 3D Cube', 'Loc,Cor T2,3D,STIR SpinView,Cor T1 3D SpineView,Cor T2 3D SpineView']\n",
      "MR PB2: Plexus brachialis traume https://ehandboken.ous-hf.no/Printing/PrintDocument?documentId=46747\n",
      "['MR PB2: Plexus brachialis traume', 'https://ehandboken.ous-hf.no/Printing/PrintDocument?documentId=46747', 'Nativ', 'Loc,Cor T2 3D STIR Space,Cor T1 3D Space,Cor T2 3D Space,Myelo', 'Loc,Cor T2,3D,STIR Cube,Cor T1 3D Cube,Cor T2 3D Cube,Myelo', 'Loc,Cor T2 3D STIR SpineView,Cor T1 3D SpineView,Cor T2 3D SpineView,Myelo']\n",
      "MR PB3: Plexus brachialis tumor https://ehandboken.ous-hf.no/Printing/PrintDocument?documentId=47033\n",
      "['MR PB3: Plexus brachialis tumor', 'https://ehandboken.ous-hf.no/Printing/PrintDocument?documentId=47033', 'Prekontrast', 'Loc,Cor T2,3D,STIR,Cor T1 3D Space,Cor T2 3D Space', 'Loc,Cor T2,3D,STIR Cube,Cor T1 3D Cube,Cor T2 3D Cube', 'Loc,Cor T2,3D,STIR SpinView,Cor T1 3D SpineView,Cor T2 3D SpineView', 'IV kontrast', '', '', '', 'Postkontrast', 'Cor T1 3D Dixon K+', 'Cor T1 3D Ideal Cube K+', 'Cor T1 3D Dixon SpineView K+']\n",
      "MR PL1: Plexus lumbosacralis standard https://ehandboken.ous-hf.no/Printing/PrintDocument?documentId=16106\n",
      "['MR PL1: Plexus lumbosacralis standard', 'https://ehandboken.ous-hf.no/Printing/PrintDocument?documentId=16106', 'Nativ', 'Loc,Cor T1 3D Vibe Dixon,Cor T2 3D Space STIR,Konf. radiolog.,Dersom meralgia paresthetica: lateral cuteaneous femoral nerve kan være affisert.,Eller nerveutfall fremre del av lår; da skal følgende sekvenser også tas:,TraT2 Space STIR', 'Loc,Cor T1 3D Cube,Cor T2 3D Cube STIR,Evnt. Tra T2 3D STIR', 'Loc,Cor T1 3D Dixon SpineView,Cor T2 3D  STIR SpineView,Evnt Tra T2 3D STIR SpineView']\n",
      "MR PL2: Plexus lumbosacralis traume https://ehandboken.ous-hf.no/Printing/PrintDocument?documentId=45399\n",
      "['MR PL2: Plexus lumbosacralis traume', 'https://ehandboken.ous-hf.no/Printing/PrintDocument?documentId=45399', 'Nativ', 'Loc,Cor T1 3D Vibe Dixon,Cor T2 3D STIR Space', 'Loc,Cor T1 3D Cube Ideal,Cor T2 3D Cube', 'Loc,Cor T1 3D SpineView,Cor T2 3D SpineView']\n",
      "MR PL3: Plexus lumbosacralis tumor https://ehandboken.ous-hf.no/Printing/PrintDocument?documentId=16108\n",
      "['MR PL3: Plexus lumbosacralis tumor', 'https://ehandboken.ous-hf.no/Printing/PrintDocument?documentId=16108', 'Prekontrast', 'Loc,Cor T1 3D Vibe Dixon,Cor T2 3D STIR Space,Konf. radiolog.,Dersom meralgia paresthetica: lateral cuteaneous femoral nerve kan være affisert.,Eller nerveutfall fremre del av lår; da skal følgende sekvens også tas:,Tra T2 3D STIR Space', 'Loc,Cor T1 3D Ideal Cube,Cor T2 3D STIR Cube,Evnt:,Tra T2 3D STIR Cube,(se første kolonne)', 'Loc,Cor T1 3D SpineView,Cor T2 3D STIR SpineView,Evnt;,Tra T2 3D STIR SpineView,(se første kolonne)', 'IV kontrast', '', '', '', 'Postkontrast', 'Cor T1 3D Vibe Dixon K+', 'Cor T1 3D Ideal Cube K+', 'Cor T1 3D Dixon SpineView K+']\n",
      "MR NMR3: Cerebral Angio MIP https://ehandboken.ous-hf.no/Printing/PrintDocument?documentId=15484\n",
      "MR NMR3: Perfusjon https://ehandboken.ous-hf.no/Printing/PrintDocument?documentId=15513\n",
      "MR NMR3: Post pros. DWI-scan https://ehandboken.ous-hf.no/Printing/PrintDocument?documentId=15519\n",
      "MR NMR3: Post pros. Myelo https://ehandboken.ous-hf.no/Printing/PrintDocument?documentId=15521\n",
      "MR NMR3: Spectroskopi https://ehandboken.ous-hf.no/Printing/PrintDocument?documentId=15523\n",
      "MR NMR3: Spectroskopi med Hi Order Shim https://ehandboken.ous-hf.no/Printing/PrintDocument?documentId=15527\n",
      "MR NMR3: SWI post pros https://ehandboken.ous-hf.no/Printing/PrintDocument?documentId=15537\n",
      "MR NMR3: Tensor(DTI) https://ehandboken.ous-hf.no/Printing/PrintDocument?documentId=15539\n",
      "MR NMR3: Tricks hode/rygg https://ehandboken.ous-hf.no/Printing/PrintDocument?documentId=15540\n",
      "MR BKC1: Caput Asfyksi https://ehandboken.ous-hf.no/Printing/PrintDocument?documentId=18135\n",
      "['MR BKC1: Caput Asfyksi', 'https://ehandboken.ous-hf.no/Printing/PrintDocument?documentId=18135', 'Prekontrast', 'Sag T1 SE,Tra T2 MV,Tra IR,Tra T1 SE,Tra DWI,Tra Venous Bold/SWI,Cor T2 MV,Spectroscopi - call radiolog for plassering.,2 voxler med lang ekkotid;,i basalganglier og watershed.', 'Sag T1 SE,Tra T2,Tra IR,Tra T1 SE,Tra DWI,Tra SWI,Cor T2,Spectroscopi - call radiolog for plassering.,2 voxler med lang ekkotid;,i basalganglier og watershed.', 'Sag T1 SE,Tra T2 propeller,Tra IR,Tra T1 SE,Tra DWI,Tra SWAN,Cor T2,Spectroscopi - call radiolog for plassering.,2 voxler med lang ekkotid;,i basalganglier og watershed.', '', 'Ligger barnet rolig eller i narkose, ta helst Sag T1 3D.', ' ', ' ']\n",
      "MR BKC3: Caput Infarkt akutt https://ehandboken.ous-hf.no/Printing/PrintDocument?documentId=18139\n",
      "['MR BKC3: Caput Infarkt akutt', 'https://ehandboken.ous-hf.no/Printing/PrintDocument?documentId=18139', 'Prekontrast', 'Sag T1 3D TFE,Tra T2 MV,Tra IR,Tra DWI,Tra Venous Bold/SWI,Cor T2 TSE,Evt,Intracerebral angio,Sinus Venografi,Spectroskopi som på BKC1,,call radiolog for plassering.', 'Sag T1 3D mprage,Tra T2 TSE,Tra T1 IR,Tra DWI,Tra SWI,Cor T2 TSE,Evt,Intracerebral angio,Sinus Venografi,Spectroskopi som på BKC1,,call radiolog for plassering.', 'Sag T1 3D Bravo,Tra T2 propeller,Tra T1 IR,Tra DWI,Tra SWAN,Cor T2 TSE,Evt,Intracerebral angio,Sinus Venografi,Spectroskopi som på BKC1,,call radiolog for plassering.', '', 'Spectroskopi som på BKC1; Singelvoxel med lang TE i basalganglier og i watershed.,Evt Sag  og Tra T1 SE ved lite hode/signal el uro på Sag T1 3D.', ' ', ' ']\n",
      " 0-2 år https://ehandboken.ous-hf.no/Printing/PrintDocument?documentId=18139\n",
      "MR BKC4: Caput Infarkt kronisk https://ehandboken.ous-hf.no/Printing/PrintDocument?documentId=18141\n",
      "['MR BKC4: Caput Infarkt kronisk', 'https://ehandboken.ous-hf.no/Printing/PrintDocument?documentId=18141', 'Prekontrast', 'Sag T1 3D TFE,Tra T2 MV,Tra IR,Tra Venous Bold/SWI,Tra DWI,Cor T2 TSE', 'Sag T1 3D mprage,Tra T2 TSE,Tra T1  IR,Tra SWI,Tra DWI,Cor T2 TSE', ' ', '', 'Evt Sag  og Tra T1 SE ved lite signal el uro på Sag T1 3D.', ' ', ' ']\n",
      " Spebarn og barn 0-2 år https://ehandboken.ous-hf.no/Printing/PrintDocument?documentId=18141\n",
      "MR BKC5: Caput Blødning 0-2 år https://ehandboken.ous-hf.no/Printing/PrintDocument?documentId=18143\n",
      "['MR BKC5: Caput Blødning 0-2 år', 'https://ehandboken.ous-hf.no/Printing/PrintDocument?documentId=18143', 'Prekontrast', 'Sag T1 3D TFE,Tra T2 MV,Tra IR,Tra DWI,Tra Ven_Bold/SWI,Cor T2 MV,Evt:,(Spør radiolog),Intracerebral angio,Sinus Venografi', 'Sag T1 3D MPRAGE,Tra T2 TSE,Tra T1 IR,Tra DWI,Tra SWI,Cor T2,Evt:,(Spør radiolog),Intracerebral angio,Sinus Venografi', ' ', '', 'Ved evt uro kan Sag og Tra T1 SE taes istedet for Sag T1 3D.', ' ', ' ']\n",
      "MR BKC6: Caput Kramper https://ehandboken.ous-hf.no/Printing/PrintDocument?documentId=18145\n",
      "['MR BKC6: Caput Kramper', 'https://ehandboken.ous-hf.no/Printing/PrintDocument?documentId=18145', 'Prekontrast', 'Sag T1 3D TFE,Sag T2 3D Brain View,Tra T2 2mm,Tra IR,Tra DWI,Tra Venous Bold/SWI,Cor T2 vinkelrett på temporallappen 2mm,Cor IR vinkelrett på temporallappen.,Radiolog vurdere:,DTI ved kartlegging av fibrene i malformasjoner/ DTI Medium iso,K+ Sag T1 3D TFE', 'Sag T1 3D mprage,Sag T2 Space 3D 1mm iso,Tra T2 TSE 2mm,Tra T1 IR,Tra DWI,Tra SWI,Cor T2 vinkelrett på temporallappen 2mm,Cor T1 IR vinkelrett på temporallappen.,Radiolog vurdere:,DTI ved kartlegging av fibrene i malformasjoner.,K+ Sag T1 3D mprage', ' ', '', 'Evt Sag  og Tra T1 SE ved lite signal el uro på Sag T1 3D.', ' ', ' ']\n",
      " Spebarn og barn 0-2 år https://ehandboken.ous-hf.no/Printing/PrintDocument?documentId=18145\n",
      "MR BKC7: Caput Infeksjon https://ehandboken.ous-hf.no/Printing/PrintDocument?documentId=18146\n",
      "['MR BKC7: Caput Infeksjon', 'https://ehandboken.ous-hf.no/Printing/PrintDocument?documentId=18146', 'Prekontrast', 'Sag T1 3D TFE,Sag 3D FLAIR,Tra T2 MV,Tra IR,Tra DWI,Tra Venous Bold/SWI', 'Sag T1 3D mprage,Sag 3D FLAIR,Tra T2 TSE,Tra T1 space IR,Tra DWI,Tra SWI', ' ', 'IV kontrast', 'Evt i.v. kontrast', ' ', ' ', 'Postkontrast', 'K+ Cor T2 2D FLAIR,K+ Sag T1 3D TFE', 'K+ Cor T2 2D FLAIR,K+ Sag T1 3D mprage', ' ']\n",
      " Spebarn og barn 0-2 år https://ehandboken.ous-hf.no/Printing/PrintDocument?documentId=18146\n",
      "MR BKC8: Caput Metabolske sykdommer https://ehandboken.ous-hf.no/Printing/PrintDocument?documentId=18147\n",
      "['MR BKC8: Caput Metabolske sykdommer', 'https://ehandboken.ous-hf.no/Printing/PrintDocument?documentId=18147', 'Prekontrast', 'Sag T1 3D TFE,Sag 3D Flair,Tra T2 MV,Tra IR,Tra DWI,Tra Venous Bold,Cor T2 MV,Evt Spectroskopi;,Call radiolog for plassering;,voxler (ca 15x15x15),med kort og,intermediær,ekkotid.', 'Sag T1 3D TFE,Sag 3D Flair,Tra T2 MV,Tra IR,Tra DWI,Tra SWI,Cor T2 MV,Evt Spectroskopi;,Call radiolog for plassering;,voxler (ca 15x15x15),med kort og,lang,ekkotid.', 'Sag T1 3D mprage,Sag 3D Flair,Tra T2 TSE,Tra T1 IR,Tra DWI,Tra SWI,Cor T2 TSE,Evt Spectroskopi;,Call radiolog for plassering;,voxler (ca 15x15x15),med kort og,intermediær,ekkotid.', 'IV kontrast', 'Evt IV kontrast', ' ', ' ', 'Postkontrast', 'K+ Sag T1 3D TFE', 'K+ Sag T1 3D TFE', 'K+ Sag T1 3D mprage', '', 'Evt Sag  og Tra T1 SE ved lite signal el uro på Sag T1 3D.,Spectroscopi: Alltid en voxel med kort TE.,En voxel med lang TE på 3T, og intermediær TE på 1,5T.', ' ', ' ']\n",
      "MR BKC9: Caput Hydrocephalus https://ehandboken.ous-hf.no/Printing/PrintDocument?documentId=18149\n",
      "['MR BKC9: Caput Hydrocephalus', 'https://ehandboken.ous-hf.no/Printing/PrintDocument?documentId=18149', 'Prekontrast', 'Sag T1 3D TFE,Sag T2 3D Brain View,Tra T2 MV,Tra T2 3D Drive 0.6 iso (dekke orbita /aqueducten),Tra DWI,Tra Ven_Bold/SWI,Tra IR,Cor T2 MV,Sag CSF PCA Flow, midtlinjen.', 'Sag T1 3D mprage,Sag T2 Space 3D 1mm iso,Tra T2 TSE,Tra T2 3D Space (dekke orbita/aqueducten),Tra DWI,Tra SWI,Tra T1 space IR,Cor T2 TSE,Sag CSF PCA Flow, i midtlinjen.', ' ', '', 'Husk å PPU-trigge Flow-serien og oppdatere frekvensen for å få riktig puls!,Evt Sag  og Tra T1 SE ved lite signal el uro på Sag T1 3D.', ' ', ' ']\n",
      " Spebarn og barn 0-2 år https://ehandboken.ous-hf.no/Printing/PrintDocument?documentId=18149\n",
      "MR BKC9A: Caput Hydrocephalus. Barn over 2 år https://ehandboken.ous-hf.no/Printing/PrintDocument?documentId=128169\n",
      "['MR BKC9A: Caput Hydrocephalus. Barn over 2 år', 'https://ehandboken.ous-hf.no/Printing/PrintDocument?documentId=128169', 'Prekontrast', 'Sag T1 3D TFE,Sag T2 3D Brain View,Sag 3D FLAIR,Tra T2 MV,Tra T2 3D Drive HR iso 0.6mm, dekke orbita og aqueducten.,Tra DWI,Tra Ven_Bold/SWI,Tra IR,Cor T2 MV,Sag CSF PCA Flow, i midtlinjen.', 'Sag T1 3D mprage,Sag T2 Space 3D 1mm iso,Sag 3D FLAIR,Tra T2 TSE,Tra T2 3D Space, dekke orbita og aqueducten.,Tra DWI,Tra SWI,Tra T1 space IR,Cor T2 TSE,Sag CSF PCA Flow, i midtlinjen.', ' ', '', 'Husk å PPU-trigge Flow-serien!', ' ', ' ']\n",
      "MR BKC10: Caput Hodetraume akutt, inkl. non-accidental https://ehandboken.ous-hf.no/Printing/PrintDocument?documentId=18150\n",
      "['MR BKC10: Caput Hodetraume akutt, inkl. non-accidental', 'https://ehandboken.ous-hf.no/Printing/PrintDocument?documentId=18150', 'Prekontrast', 'Sag T1 3D TFE,Sag 3D Flair,Tra T2 MV,Tra Venous Bold/SWI,Tra DWI,Cor T2 MV', 'Sag T1 3D mprage,Sag 3D Flair,Tra T2 TSE,Tra SWI,Tra DWI,Cor T2', ' ', '', 'Ta evt Sag  og Tra T1 SE ved lite signal el uro på Sag T1 3D.', ' ', ' ']\n",
      " trauma https://ehandboken.ous-hf.no/Printing/PrintDocument?documentId=18150\n",
      "MR BKC10A: Caput Barnetraume, kun NMR2 https://ehandboken.ous-hf.no/Printing/PrintDocument?documentId=131197\n",
      "['MR BKC10A: Caput Barnetraume, kun NMR2', 'https://ehandboken.ous-hf.no/Printing/PrintDocument?documentId=131197', 'Prekontrast,Caput', 'Sag T1 3D TFE,Sag 3D Flair,Tra T2 TSE,Tra SWI,Tra DWI,Cor T2 TSE,Sag T2 3D Space /Sag T2 3D Brain View  (,for vurdering av romslig subarachnoidalt rom mot subdural blødning),Evt. i.v kontrast ved evt SDH (SDH lader kontrast etter 2-3 uker pga membrandannelse)', ' ', ' ', 'Prekontrast,Totalcolumna', 'Sag T2 TSE,Sag T1 TSE,Sag STIR,Sag T2* FFE (hemo),Evt:  (radiolog se på bildene og vurdere nivå.),Tra T2 TSE,Tra T1 TSE,Cor T2 Dixon cervical, hvis positivt funn på STIR.,(IP/W)', ' ', ' ', 'IV kontrast', 'Evt. iv kontrast', ' ', ' ', 'Postkontrast,Caput', 'K+ Sag T1 3D TFE', ' ', ' ']\n",
      "MR BKC11: Caput Sturge Weber Syndrom. Spebarn og barn 0-2 år https://ehandboken.ous-hf.no/Printing/PrintDocument?documentId=128500\n",
      "['MR BKC11: Caput Sturge Weber Syndrom. Spebarn og barn 0-2 år', 'https://ehandboken.ous-hf.no/Printing/PrintDocument?documentId=128500', 'Prekontrast', 'Sag T1 3D TFE,Tra T2 MV,Tra IR,Tra DWI,Tra Venous Bold/SWI,*Cor T2 2D Flair', 'Sag T1 3D mprage,Tra T2 TSE,Tra T1 space IR,Tra DWI,Tra SWI,*Cor T2 2D Flair', ' ', 'IV kontrast', 'Evt i.v. kontrast', ' ', ' ', 'Postkontrast', 'K+ Cor T2 2D Flair,K+ Tra T2 2D Flair,K+ Sag T1 3D TFE', 'K+ Cor T2 2D Flair,K+ Tra T2 2D Flair,K+ Sag T1 3D mprage', ' ', '', '*Cor T2 Flair trenger bare å taes en gang!,*Skal pas ha i.v.kontrast taes Cor T2 2D Flair bare etter.,Ellers taes den uten kontrast.', ' ', ' ']\n",
      "MR BKC12: Caput Infeksjon. https://ehandboken.ous-hf.no/Printing/PrintDocument?documentId=18165\n",
      "['MR BKC12: Caput Infeksjon.', 'https://ehandboken.ous-hf.no/Printing/PrintDocument?documentId=18165', 'Prekontrast', 'Sag T1 3D TFE,Tra T2 MV,Sag 3D FLAIR,Tra DWI,Tra,V,enous Bold/SWI', 'Sag T1 3D mprage,Tra T2 TSE,Sag 3D FLAIR,Tra DWI,Tra SWI', ' ', 'IV kontrast', 'i.v. kontrast', ' ', ' ', 'Postkontrast', 'K+ Cor T2 FLAIR 2D,K+ Sag T1 3D TFE', 'K+ Cor T2 FLAIR 2D,K+ Sag T1 3D mprage', ' ']\n",
      " Barn iover 2 år https://ehandboken.ous-hf.no/Printing/PrintDocument?documentId=18165\n",
      "MR BKC13: Caput Endokrin hypofyseproblematikk https://ehandboken.ous-hf.no/Printing/PrintDocument?documentId=18166\n",
      "['MR BKC13: Caput Endokrin hypofyseproblematikk', 'https://ehandboken.ous-hf.no/Printing/PrintDocument?documentId=18166', 'Prekontrast', 'Sag T1, 1.5mm,Cor T1, 1.5mm,Cor T2, 1.5mm,Tra DWI,Tra Venous_Bold/SWI', 'Sag T1, 1.5mm,Cor T1, 1.5mm,Cor T2, 1.5mm,Tra DWI,Tra SWI', ' ', 'IV kontrast', '0,1 ml/kg  i.v kontrast', ' ', ' ', 'Postkontrast', 'K+ Sag T1, 1.5mm,K+ Cor T1, 1.5mm,K+ Sag T1 3D TFE hele caput', 'K+ Sag T1, 1.5mm,K+ Cor T1, 1.5mm,K+ Sag T1 3D TFE hele caput', ' ']\n",
      "MR BKC14: Caput Epilepsi. https://ehandboken.ous-hf.no/Printing/PrintDocument?documentId=18169\n",
      "['MR BKC14: Caput Epilepsi.', 'https://ehandboken.ous-hf.no/Printing/PrintDocument?documentId=18169', 'Prekontrast', 'Sag T1 3D TFE,Sag 3D Flair*,Tra T2 2mm,Tra IR,Tra DWI,Tra Venous_Bold/SWI,Cor T2 2mm, vinkelrett på temporallappen,Cor IR, vinkelrett på temporallappen.', 'Sag T1 3D mprage,Sag 3D Flair*,Tra T2 TSE 2mm,Tra T1 IR space,Tra DWI,Tra SWI,Cor T2 2mm, vinkelrett på temporallappen.,Cor IR, vinkelrett på temporallappen.', ' ', 'IV kontrast', 'Evt i.v. kontrast', ' ', ' ', 'Postkontrast', 'Evt K+ Sag T1 3D TFE', 'Evt K+ Sag T1 3D mprage', ' ']\n",
      " Barn over 2 år https://ehandboken.ous-hf.no/Printing/PrintDocument?documentId=18169\n",
      "MR BKC15: Caput Tumor cerebri. https://ehandboken.ous-hf.no/Printing/PrintDocument?documentId=18170\n",
      "['MR BKC15: Caput Tumor cerebri.', 'https://ehandboken.ous-hf.no/Printing/PrintDocument?documentId=18170', 'Prekontrast', 'Sag T1 3D TFE,Tra T2 MV,Tra DWI,Tra Venous Bold/SWI,Evt:,Spectroskopi, plasseres av nevroradiolog.', 'Sag T1 3D mprage,Tra T2 TSE,Tra DWI,Tra SWI,Evt:,Spectroskopi, plasseres av nevroradiolog.', ' ', 'IV kontrast', 'iv kontrast.', ' ', ' ', 'Postkontrast', 'K+ Sag 3D Flair,K+ Sag 3D T1 TFE', 'K+ Sag 3D Flair Space,K+ Sag 3D T1 mprage', ' ', '', 'Hvis positivt funn som Medulloblastom, Anaplastic ependymom, Trilateral Retinoblastom, Pineoblastom, PNET,,Choroid plexus carcinom, Germinoma, Glioblastom i bakre skallegrop eller Hemangioblastom;,ta,BCTOT2.', ' ', ' ', '', 'På de minste barna kan sag og tra T1 SE taes istedet for sag T1 3D ved uro eller for lite signal.', ' ', ' ']\n",
      "MR BKC17: Caput Blødning Barn over 2 år https://ehandboken.ous-hf.no/Printing/PrintDocument?documentId=18174\n",
      "['MR BKC17: Caput Blødning Barn over 2 år', 'https://ehandboken.ous-hf.no/Printing/PrintDocument?documentId=18174', 'Prekontrast', 'Sag T1 3D TFE,Sag 3D FLAIR,Tra T2 MV,Tra Venous Bold/SWI,Tra DWI,Evt:,Tra 3D,Intracerebral angio,Sag 3D Sinus Venografi', 'Sag T1 3D mprage,Sag 3D FLAIR,Tra T2 TSE,Tra SWI,Tra DWI,Evt:,Tra 3D,Intracerebral angio,Sag 3D Sinus Venografi', ' ']\n",
      "MR BKC18: Caput Infarkt. https://ehandboken.ous-hf.no/Printing/PrintDocument?documentId=18179\n",
      "['MR BKC18: Caput Infarkt.', 'https://ehandboken.ous-hf.no/Printing/PrintDocument?documentId=18179', 'Prekontrast', 'Sag T1 3D TFE,Tra T2 MV,Sag 3D Flair,Tra Ven_Bold/SWI,Tra DWI,Evt:,Tra Intracerebal angio.,Sag Venografi.', 'Sag T1 3D mprage,Tra T2 TSE,Sag 3D Flair,Tra SWI,Tra DWI,Evt:,Tra Intracerebal angio.,Sag Venografi.', ' ']\n",
      "MR BKC19: Caput Utredning forsinket motorikk, mm Barn og spebarn 0-2 år https://ehandboken.ous-hf.no/Printing/PrintDocument?documentId=18180\n",
      "['MR BKC19: Caput Utredning forsinket motorikk, mm Barn og spebarn 0-2 år', 'https://ehandboken.ous-hf.no/Printing/PrintDocument?documentId=18180', 'Prekontrast', 'Sag T1 3D TFE,Tra T2 MV,Tra IR,Tra DWI,Tra Ven_Bold/SWI,Cor T2 MV', 'Sag T1 3D mprage,Tra T2 TSE,Tra T1 space IR,Tra DWI,Tra SWI,Cor T2 TSE', ' ', '', 'Ved lite signal el uro på Sag 3D T1; ta sag og tra T1 SE.', ' ', ' ']\n",
      "MR BKC20: Caput Utredning lærevansker, anoreksi. Barn/ungdom over 2 år https://ehandboken.ous-hf.no/Printing/PrintDocument?documentId=18181\n",
      "['MR BKC20: Caput Utredning lærevansker, anoreksi. Barn/ungdom over 2 år', 'https://ehandboken.ous-hf.no/Printing/PrintDocument?documentId=18181', 'Prekontrast', 'Sag T1 3D TFE,Tra T2 MV,Sag 3D FLAIR,Tra DWI,Tra Ven_Bold/SWI (hvis ikke tatt før)', 'Sag T1 3D mprage,Tra T2 TSE,Sag 3D FLAIR Space,Tra DWI,Tra SWI (hvis ikke tatt før)', ' ']\n",
      "MR BKC21: Caput Sturge Weber Syndrom. Barn over 2 år https://ehandboken.ous-hf.no/Printing/PrintDocument?documentId=128171\n",
      "['MR BKC21: Caput Sturge Weber Syndrom. Barn over 2 år', 'https://ehandboken.ous-hf.no/Printing/PrintDocument?documentId=128171', 'Prekontrast', 'Sag T1 3D TFE,Tra T2 MV,Sag 3D Flair,Tra DWI,Tra,V,enous Bold/SWI', 'Sag T1 3D mprage,Tra T2 TSE,Sag 3D Flair,Tra DWI,Tra SWI', ' ', 'IV kontrast', 'i.v. kontrast', ' ', ' ', 'Postkontrast', 'K+ Tra T2 Flair 2D,K+ Cor T2 Flair 2D,K+ Sag T1 3D TFE', 'K+ Tra T2 Flair 2D,K+ Cor T2 Flair 2D,K+ Sag T1 3D mprage', ' ']\n",
      "MR BKC22: Caput Neurocutaneous Melanose. Barn over 3 måneder https://ehandboken.ous-hf.no/Printing/PrintDocument?documentId=128522\n",
      "['MR BKC22: Caput Neurocutaneous Melanose. Barn over 3 måneder', 'https://ehandboken.ous-hf.no/Printing/PrintDocument?documentId=128522', 'Prekontrast', 'Sag T1 3D TFE,Sag 3D Flair,Tra T2 MV,Tra DWI,Tra Venous Bold/SWI,Tra IR,Cor IR', 'Sag T1 3D mprage,Sag 3D Flair,Tra T2 TSE,Tra DWI,Tra SWI,Tra T1 IR space,Cor T1 IR space', ' ', 'IV kontrast', 'i.v. kontrast', ' ', ' ', 'Postkontrast', 'K+ Tra T2 Flair 2D,K+ Cor T2 Flair 2D,K+ Sag T1 3D TFE', 'K+ Tra T2 Flair 2D,K+ Cor T2 Flair 2D,K+ Sag T1 3D mprage', ' ']\n",
      "MR BKC23: Caput Cephalocele/ Meningocele/ Meningoencephalocele https://ehandboken.ous-hf.no/Printing/PrintDocument?documentId=131199\n",
      "['MR BKC23: Caput Cephalocele/ Meningocele/ Meningoencephalocele', 'https://ehandboken.ous-hf.no/Printing/PrintDocument?documentId=131199', 'Prekontrast', 'Sag T1 3D TFE,Tra T2 MV,Tra IR,Tra DWI,Tra Ven_Bold,*Sag 3D Flair,Cor T2, vinkelrett på temporallappen.,Cor IR, vinkelrett på temporallappen.,Tra T2 3D DRIVE 0.6 mm iso i akt. område,Avhengig av lokalisasjon av lesjon:,Tra Intracerbral Angio,Sag Venografi', 'Sag T1 3D TFE,Tra T2 2mm,Tra IR,Tra DWI,Tra SWI,*Sag 3D Flair,Cor T2, vinkelrett på temporallappen.,Cor IR, vinkelrett på temporallappen.,Tra T2 3D DRIVE 0.6 mm iso i akt. område,Avhengig av lokalisasjon av lesjon:,Tra Intracerbral Angio,Sag Venografi', 'Sag T1 3D mprage,Tra T2 TSE,Tra T1 IR space,Tra DWI,Tra SWI,*Sag 3D Flair,Cor T2, vinkelrett på temporallappen.,Cor IR, vinkelrett på temporallappen.,Tra T2 3D SPACE 0.6 mm iso i akt.område,Avhengig av lokalisasjon av lesjon:,Tra Intracerbral Angio,Sag Venografi', '', 'Ved positivt funn; alltid CT Craniosynostose.,Evt BORB3 Traume ved lesjon i fremre skallegrop og sphenoid region med orbita affeksjon.', ' ', ' ']\n",
      "MR BKCF1: Caput Fosterdiagnostikk https://ehandboken.ous-hf.no/Printing/PrintDocument?documentId=18184\n",
      "MR Barn BCTOT1: (+BCC1/BCD1/BCL1) Columna, kongenitale malformasjoner https://ehandboken.ous-hf.no/Printing/PrintDocument?documentId=18196\n",
      "MR Barn BCTOT2: Columna, drop-metastaser https://ehandboken.ous-hf.no/Printing/PrintDocument?documentId=18210\n",
      "['MR Barn BCTOT2: Columna, drop-metastaser', 'https://ehandboken.ous-hf.no/Printing/PrintDocument?documentId=18210', '', '', '', '', 'IV kontrast', 'iv kontrast', ' ', ' ', 'Postkontrast', 'K+ Sag T1 Dixon TSE (W),K+ Sag T2 TSE,Evt:,K+ Tra T1 TSE DIXON, aktuelt område,Tra T2 TSE, aktuelt område.', 'K+ Sag T1 Dixon TSE (W),K+ Sag T2 TSE,Evt:,K+ Tra T1 TSE DIXON, aktuelt område,Tra T2 TSE, aktuelt område.', ' ']\n",
      "MR Barn BCTOT3: (+BCC3/BCD3/BCL3) Columna, tumor https://ehandboken.ous-hf.no/Printing/PrintDocument?documentId=18200\n",
      "MR Barn BCTOT4: (+BCC4/BCD4/BCL4) Columna, infeksjon/ spondylodiscitt https://ehandboken.ous-hf.no/Printing/PrintDocument?documentId=18207\n",
      "['MR Barn BCTOT4: (+BCC4/BCD4/BCL4) Columna, infeksjon/ spondylodiscitt', 'https://ehandboken.ous-hf.no/Printing/PrintDocument?documentId=18207', 'Prekontrast', 'Sag T1 Dixon TSE (W/IP),Sag T2 Dixon TSE  (W/IP),Tra T2 TSE ved funn,Sag DWI m/ADC (ved epidural abscess) Kun på S9.', 'Sag T1 Dixon TSE (W/IP),Sag T2 Dixon TSE  (W/IP),Tra T2 TSE ved funn,Sag DWI m/ADC (ved epidural abscess)', ' ', 'IV kontrast', 'iv kontrast', ' ', ' ', 'Postkontrast', 'K+ Sag T1 Dixon TSE (W),K+ Tra T1 Dixon TSE (W),Evt:,K+ Cor T1 Dixon TSE (W)', 'K+ Sag T1 Dixon TSE (W),K+ Tra T1 Dixon TSE (W),Evt:,K+ Cor T1 Dixon TSE (W)', ' ']\n",
      "MR Barn BCTOT5: (+BCC5/BCD5/BCL5) Columna skjelettmetastaser https://ehandboken.ous-hf.no/Printing/PrintDocument?documentId=18208\n",
      "MR Barn BCTOT7: (+BCC7/BCD7/BCL7) Columna Smerter Stressfraktur https://ehandboken.ous-hf.no/Printing/PrintDocument?documentId=136394\n",
      "['MR Barn BCTOT7: (+BCC7/BCD7/BCL7) Columna Smerter Stressfraktur', 'https://ehandboken.ous-hf.no/Printing/PrintDocument?documentId=136394', 'Nativ', '', 'Sag T1 Dixon TSE (IP),Sag T2 Dixon TSE (IP/W),Tra T1 Dixon TSE (IP),Tra T2 Dixon TSE (IP/W)', 'Sag T1 Dixon TSE (IP),Sag T2 Dixon TSE (IP/W),Tra T1 Dixon TSE (IP),Tra T2 Dixon TSE (IP/W)']\n",
      "MR Barn BCTOT8: (+BCC8/BCD8/BCL8) Columna Paravertebral/epidural tumor https://ehandboken.ous-hf.no/Printing/PrintDocument?documentId=136398\n",
      "['MR Barn BCTOT8: (+BCC8/BCD8/BCL8) Columna Paravertebral/epidural tumor', 'https://ehandboken.ous-hf.no/Printing/PrintDocument?documentId=136398', '', 'Sag T2 Dixon TSE (IP/W),Sag T1 Dixon TSE (IP),Evt Tra T1 Dixon TSE (IP),Evt Tra T2 Dixon TSE (IP/W),Sag DWI (aktuelt område)', 'Sag T2 Dixon TSE (IP/W),Sag T1 Dixon TSE (IP),Evt Tra T1 Dixon TSE (IP),Evt Tra T2 Dixon TSE (IP/W)', 'Sag T2 Dixon TSE (IP/W),Sag T1 Dixon TSE (IP),Evt Tra T1 Dixon TSE (IP),Evt Tra T2 Dixon TSE (IP/W),Sag DWI (aktuelt område)', 'IV kontrast', 'iv kontrast', ' ', ' ', 'Postkontrast', 'K+ Sag T1 Dixon TSE (W),Evt ved funn;,Cor T2 Dixon TSE (IP/W),K+ Tra T1 Dixon TSE (W),K+ Cor T1 Dixon TSE (W)', 'K+ Sag T1 Dixon TSE (W),Evt ved funn;,Cor T2 Dixon TSE (IP/W),K+ Tra T1 Dixon TSE (W),K+ Cor T1 Dixon TSE (W)', 'K+ Sag T1 Dixon TSE (W),Evt ved funn;,Cor T2 Dixon TSE (IP/W),K+ Tra T1 Dixon TSE (W),K+ Cor T1 Dixon TSE (W)']\n",
      "MR Barn BCTOT9: (+BCC9/BCD9/BSL9) Columna Guillain Barre Syndrom https://ehandboken.ous-hf.no/Printing/PrintDocument?documentId=136402\n",
      "['MR Barn BCTOT9: (+BCC9/BCD9/BSL9) Columna Guillain Barre Syndrom', 'https://ehandboken.ous-hf.no/Printing/PrintDocument?documentId=136402', '', 'Sag T2 TSE, hele columna,Sag T1 Dixon TSE (IP), hele columna,Tra T1 Dixon TSE (W) Fra conus til L5/S1', 'Sag T2 TSE, hele columna,Sag T1 Dixon TSE (IP), hele columna,Tra T1 Dixon TSE (W) Fra conus til L5/S1', ' ', 'IV kontrast', 'iv kontrast', ' ', ' ', 'Postkontrast', 'Tra T2 TSE, etter behov,K+ Tra T1 Dixon TSE (W) fra conus til L5/S1,K+ Sag T1 Dixon TSE (W) hele columna,Evnt Tra T1 Dixon (W) cervicalt og thoracalt', 'Tra T2 TSE, etter behov,K+ Tra T1 Dixon TSE (W) fra conus til L5/S1,K+ Sag T1 Dixon TSE (W) hele columna,Evnt Tra T1 Dixon (W) cervicalt og thoracalt', ' ']\n",
      "MR Barn BCC10 Columna Torticollis https://ehandboken.ous-hf.no/Printing/PrintDocument?documentId=136401\n",
      "['MR Barn BCC10 Columna Torticollis', 'https://ehandboken.ous-hf.no/Printing/PrintDocument?documentId=136401', 'Prekontrast', 'Sag T2 TSE,Sag T1 TSE,Sag STIR,Sag T2 FFE,Tra T2 TSE,Tra T2 FFE', 'Sag T2 TSE,Sag T1 TSE,Sag STIR,Sag T2*,Tra T2 TSE,Tra T2*', ' ']\n",
      "MR Barn BCTOT11: (+BCC11/BCD11/BCL11) Columna Myelitt https://ehandboken.ous-hf.no/Printing/PrintDocument?documentId=136403\n",
      "MR Barn BCTOT12: (+BCC12/BCD12/BCL12) Columna Inflammasjon https://ehandboken.ous-hf.no/Printing/PrintDocument?documentId=136403\n",
      "MR BCTOT13: Spinalvæske lekkasje https://ehandboken.ous-hf.no/Printing/PrintDocument?documentId=136406\n",
      "MR BORB1: Malformasjon https://ehandboken.ous-hf.no/Printing/PrintDocument?documentId=18189\n",
      "['MR BORB1: Malformasjon', 'https://ehandboken.ous-hf.no/Printing/PrintDocument?documentId=18189', 'Prekontrast', 'Tra T1 3D Dixon TSE (IP/W),Tra T2 Dixon TSE (IP/W),Cor T2 Dixon TSE (IP/W)', 'Tra T1 Vibe Dixon (IP/W),Tra T2 Dixon TSE (IP/W),Cor T2 Dixon TSE (IP/W)', ' ']\n",
      "MR BORB2: Tumor/Infeksjon https://ehandboken.ous-hf.no/Printing/PrintDocument?documentId=18191\n",
      "['MR BORB2: Tumor/Infeksjon', 'https://ehandboken.ous-hf.no/Printing/PrintDocument?documentId=18191', 'Prekontrast', 'Tra T1 3D Dixon TSE (IP/W),Tra T2 Dixon TSE (IP/W),Cor T2 Dixon TSE (W),Tra DWI hele caput og orbita', 'Tra T1 Vibe Dixon (IP/W),Tra T2 Dixon TSE (IP/W),Cor T2 Dixon TSE (W),Tra DWI hele caput og orbita', 'Tra T1 3D IDEAL (IP/W),Tra T2 Dixon TSE (IP/W),Cor T2 Dixon TSE (W),Tra DWI hele caput og orbita', 'IV kontrast', 'IV kontrast', ' ', ' ', 'Postkontrast', 'K+ Tra T1 3D Dixon (W)', 'K+ Tra T1 Vibe Dixon (W)', 'K+ Tra T1 3D IDEAL (W)']\n",
      "MR BORB3: Orbita, traume https://ehandboken.ous-hf.no/Printing/PrintDocument?documentId=128989\n",
      "['MR BORB3: Orbita, traume', 'https://ehandboken.ous-hf.no/Printing/PrintDocument?documentId=128989', 'Prekontrast', 'Tra T1 3D Dixon TSE (IP/W),Tra T2 Dixon TSE (IP/W),Cor T2 Dixon TSE (IP/W),Sag T2 Dixon TSE (IP/W) aktuelt øye.', 'Tra T1 3D Dixon TSE (IP/W),Tra T2 Dixon TSE (IP/W),Cor T2 Dixon TSE (IP/W),Sag T2 Dixon TSE (IP/W) aktuelt øye.', ' ']\n",
      "MR BORB4: Orbita, dermoid cyste/ hemangiom/ lymphatisk malformasjon https://ehandboken.ous-hf.no/Printing/PrintDocument?documentId=128983\n",
      "['MR BORB4: Orbita, dermoid cyste/ hemangiom/ lymphatisk malformasjon', 'https://ehandboken.ous-hf.no/Printing/PrintDocument?documentId=128983', 'Prekontrast', 'Tra T2 Dixon TSE (IP/W),Cor T2 Dixon TSE (IP/W),Tra DWI hele caput,Tra T2 3D Drive iso 0.6mm (ved lymfatisk malformasjon),Pre_Tra T1 3D Dixon (IP/W)', 'Tra T2 Dixon TSE (IP/W),Cor T2 Dixon TSE (IP/W),Tra DWI hele caput,Tra T2 3D Space (ved lymfatisk malformasjon),Pre_Tra T1 3D Vibe Dixon (IP/W)', ' ', 'IV kontrast', 'i.v kontrast', ' ', ' ', 'Postkontrast', 'TRAK,K+ Tra T1 3D Dixon (W),Evt senfase;,K+ Tra T1 3D Dixon (W)', 'TWIST,K+ Tra T1 3D Vibe Dixon (W),Evt senfase;,K+ Tra T1 3D Vibe Dixon (W)', ' ']\n",
      "MR BORB5: Orbita, pseudotumor/ inflammasjon https://ehandboken.ous-hf.no/Printing/PrintDocument?documentId=128990\n",
      "MR BORB6: Dacrocystografi https://ehandboken.ous-hf.no/Printing/PrintDocument?documentId=136450\n",
      "['MR BORB6: Dacrocystografi', 'https://ehandboken.ous-hf.no/Printing/PrintDocument?documentId=136450', 'Prekontrast', 'Tra T1 3D Dixon TSE (IP/W),Tra T2 Dixon TSE (IP/W),Cor T2 Dixon TSE (IP/W),Radiolog se på!,Tra T2 DRIVE 0,6 mm ISO,Cor T2 DRIVE 0,6 mm ISO', ' ', ' ', '', 'Øynene dryppes med,Miwana øyedråper,.', ' ', ' ', '', 'Tra T2 DRIVE 0,6 mm ISO,Cor T2 DRIVE 0,6 mm ISO', ' ', ' ']\n",
      "MR BORB7: Retinoblastom https://ehandboken.ous-hf.no/Printing/PrintDocument?documentId=134627\n",
      "MR BØNH1: Collum. Tumor. Nevrofibromatose https://ehandboken.ous-hf.no/Printing/PrintDocument?documentId=18186\n",
      "['MR BØNH1: Collum. Tumor. Nevrofibromatose', 'https://ehandboken.ous-hf.no/Printing/PrintDocument?documentId=18186', 'Prekontrast', 'Cor T2 Dixon TSE 3mm (IP + W),Cor T1 Dixon TSE 3mm (IP + W),Tra T2 Dixon TSE 3mm (IP + W),Tra T1 Dixon TSE 3mm (IP + W),Radiolog se på!,Evt Tra DWI ved behov (ved tumor, dermoid/epidermoid cyste, retropharyngeal abscess),Angio ved behov.', 'Cor T2 Dixon TSE 3mm (IP + W),Cor T1 Dixon TSE 3mm (IP + W),Tra T2 Dixon TSE 3mm (IP + W),Tra T1 Dixon TSE 3mm (IP + W),Radiolog se på!,Evt Tra DWI ved behov (ved tumor, dermoid/epidermoid cyste, retropharyngeal abscess),Angio ved behov.', ' ', 'IV kontrast', 'iv kontrast', ' ', ' ', 'Postkontrast', 'K+ Tra T1 Dixon TSE 3mm (W),K+ Cor T1 Dixon TSE 3mm (W),K+ Sag T1 Dixon TSE 3mm (W) ved perineural spredning.,Ved Nervus Opticus patologi (NF1/OPG) taes T1 3D Dixon over orbita.,Ved Nervus Facialis patologi (perineural spredning) taes,T1 3D Dixon over aktuelt område.', 'K+ Tra T1 Dixon TSE 3mm (W),K+ Cor T1 Dixon TSE 3mm (W),K+ Sag T1 Dixon TSE 3mm (W) ved perineural spredning.,Ved Nervus Opticus patologi (NF1/OPG) taes T1 Vibe Dixon over orbita.,Ved Nervus Facialis patologi (perineural spredning) taes,T1 Vibe Dixon over aktuelt område.', ' ', 'Ekstra', 'Evt CT Ansiktskjelett', ' ', ' ']\n",
      "MR BØNH2: Ansikt/svelg, tumor/annen patologi https://ehandboken.ous-hf.no/Printing/PrintDocument?documentId=18187\n",
      "['MR BØNH2: Ansikt/svelg, tumor/annen patologi', 'https://ehandboken.ous-hf.no/Printing/PrintDocument?documentId=18187', 'Prekontrast', 'Cor T2 Dixon TSE 3mm (IP + W),Cor T1 Dixon TSE 3mm (IP + W),Tra T2 Dixon TSE 3mm (IP + W),Tra T1 Dixon TSE 3mm (IP + W),Radiolog se på bilder.,Evt Tra DWI ved behov.,Evt angio ved behov.', 'Cor T2 Dixon TSE 3mm (IP + W),Cor T1 Dixon TSE 3mm (IP + W),Tra T2 Dixon TSE 3mm (IP + W),Tra T1 Dixon TSE 3mm (IP + W),Radiolog se på bilder.,Evt Tra DWI ved behov.,Evt angio ved behov.', ' ', 'IV kontrast', 'iv kontrast', ' ', ' ', 'Postkontrast', 'K+ Tra T1 Dixon TSE 3mm (W),K+ Cor T1 Dixon TSE 3mm (W),K+ Sag T1 Dixon TSE 3mm (W) ved behov,Ved Nervus Opticus patologi (NF/OPG);,K+ T1 Dixon 3D 1mm over orbita.,Ved Nervus Facialis patologi (perineural spredning);,K+ T1 Dixon 3D 1mm over akt. område.', 'K+ Tra T1 Dixon TSE 3mm (W),K+ Cor T1 Dixon TSE 3mm (W),K+ Sag T1 Dixon TSE 3mm (W) ved behov,Ved Nervus Opticus patologi (NF/OPG);,K+ T1 3D Vibe Dixon 1mm over orbita.,Ved Nervus Facialis patologi (perineural spredning);,K+ T1 3D Vibe Dixon 1mm over akt. område.', ' ']\n",
      "MR Barn BØNH3: Bihuler https://ehandboken.ous-hf.no/Printing/PrintDocument?documentId=18188\n",
      "['MR Barn BØNH3: Bihuler', 'https://ehandboken.ous-hf.no/Printing/PrintDocument?documentId=18188', 'Prekontrast', 'Cor STIR,Cor T1,Tra T2 MV', 'Cor STIR,Cor T1,Tra T2 MV', 'Cor STIR,Cor T1,Tra T2']\n",
      "MR Barn BØNH4: Tinningben/ Skallebasis https://ehandboken.ous-hf.no/Printing/PrintDocument?documentId=135661\n",
      "['MR Barn BØNH4: Tinningben/ Skallebasis', 'https://ehandboken.ous-hf.no/Printing/PrintDocument?documentId=135661', 'Prekontrast', 'Tra T1 3D Dixon (IP+W),Cor T2 Dixon TSE 2.5mm (IP + W),Tra T2 Dixon TSE 2.5mm (IP + W),Tra T2 Drive iso 0.6mm,Tra DWI TSE,Radiolog se på:,Evt Cor DWI TSE,Evt Tra 3D,Intracerebral angio,Evt Sag 3D Sinus Venografi', 'Tra T1 3D Dixon (IP+W),Cor T2 Dixon TSE 2.5mm (IP + W),Tra T2 Dixon TSE 2.5mm (IP + W),Tra T2 Drive iso 0.6mm,Tra DWI TSE,Radiolog se på:,Evt Cor DWI TSE,Evt Tra 3D,Intracerebral angio,Evt Sag 3D Sinus Venografi', ' ', 'IV kontrast', 'iv kontrast', ' ', ' ', 'Postkontrast', 'K+ Tra T1 3D Dixon (W)', 'K+ Tra T1 3D Dixon (W)', ' ']\n",
      "MR Barn BØNH5: Tinningben, cholesteatom https://ehandboken.ous-hf.no/Printing/PrintDocument?documentId=135669\n",
      "['MR Barn BØNH5: Tinningben, cholesteatom', 'https://ehandboken.ous-hf.no/Printing/PrintDocument?documentId=135669', 'Prekontrast', 'Tra T1 3D Dixon (IP+W),Cor T2 Dixon TSE 2.5mm (IP + W),Tra T2 Dixon TSE 2.5mm (IP + W),Tra T2 Drive iso 0.6mm,Tra DWI TSE 2.5mm,Radiolog se på:,Evt Cor DWI TSE,Evt Tra 3D,Intracerebral angio,Evt Sag 3D Sinus Venografi', 'Tra T1 3D Dixon (IP+W),Cor T2 Dixon TSE 2.5mm (IP + W),Tra T2 Dixon TSE 2.5mm (IP + W),Tra T2 Drive iso 0.6mm,Tra DWI TSE,Radiolog se på:,Evt Cor DWI TSE,Evt Tra 3D,Intracerebral angio,Evt Sag 3D Sinus Venografi', ' ', 'IV kontrast', 'iv kontrast', ' ', ' ', 'Postkontrast', 'K+ Tra T1 3D Dixon (W)', 'K+ Tra T1 3D Dixon (W)', ' ']\n",
      "MR BARN BØNH6: Frontonasal mass https://ehandboken.ous-hf.no/Printing/PrintDocument?documentId=135671\n",
      "['MR BARN BØNH6: Frontonasal mass', 'https://ehandboken.ous-hf.no/Printing/PrintDocument?documentId=135671', 'Prekontrast', 'Cor T2 Dixon TSE 3mm (IP + W),Tra T2 Dixon TSE 3mm (IP + W),Sag T2 Dixon TSE 3mm (IP + W),Tra T1 3D Dixon TSE (IP + W),Tra DWI TSE,Sag T2 Drive iso 0.6mm,Radiolog se på bilder!', 'Cor T2 Dixon TSE 3mm (IP + W),Tra T2 Dixon TSE 3mm (IP + W),Sag T2 Dixon TSE 3mm (IP + W),Tra T1 3D Dixon TSE (IP + W),Tra DWI TSE,Sag T2 Space 0.6mm,Radiolog se på bilder!', ' ', 'IV kontrast', 'iv kontrast', ' ', ' ', 'Postkontrast', 'K+ Tra T1 3D Dixon (W)', 'K+ Tra T1 3D Dixon (W)', ' ']\n",
      " P rosedyrehjelpen https://ehandboken.ous-hf.no/Printing/PrintDocument?documentId=105181\n"
     ]
    }
   ],
   "source": [
    "table_data = []\n",
    "for protocol in print_links:\n",
    "        print(protocol['Title'], protocol['print_url'])\n",
    "        if 'ANG' in protocol['Title']:\n",
    "            continue\n",
    "        elif 'KVAR' in protocol['Title']:\n",
    "            continue\n",
    "        elif 'NMR3' in protocol['Title']:\n",
    "            continue\n",
    "        elif 'BKCF1' in protocol['Title']:\n",
    "            continue\n",
    "        elif 'CTOT1' in protocol['Title']:\n",
    "            continue\n",
    "        elif 'CTOT3' in protocol['Title']:\n",
    "            continue\n",
    "        elif 'CTOT5' in protocol['Title']:\n",
    "            continue\n",
    "        elif 'BORB5' in protocol['Title']:\n",
    "            continue\n",
    "        elif 'BORB7' in protocol['Title']:\n",
    "            continue\n",
    "        elif protocol['Title'].startswith('MR'):\n",
    "            table_row = make_table_test(protocol)\n",
    "            if 'IV' in table_row[0] :\n",
    "                for n in range(4):\n",
    "                    table_row.insert(0, '')\n",
    "            table_row.insert(0, protocol['Title'])\n",
    "            table_row.insert(1, protocol['print_url'])\n",
    "            print(table_row)\n",
    "            table_data.append(table_row)"
   ]
  },
  {
   "cell_type": "code",
   "execution_count": 28,
   "metadata": {
    "collapsed": false,
    "jupyter": {
     "outputs_hidden": false
    },
    "pycharm": {
     "name": "#%%\n"
    }
   },
   "outputs": [],
   "source": [
    "pd.DataFrame(table_data).to_csv('protokoller.csv')"
   ]
  },
  {
   "cell_type": "code",
   "execution_count": 415,
   "metadata": {
    "collapsed": false,
    "jupyter": {
     "outputs_hidden": false
    },
    "pycharm": {
     "name": "#%%\n"
    }
   },
   "outputs": [
    {
     "name": "stdout",
     "output_type": "stream",
     "text": [
      "https://ehandboken.ous-hf.no/Printing/PrintDocument?documentId=14633\n",
      "https://ehandboken.ous-hf.no/Printing/PrintDocument?documentId=14629\n",
      "https://ehandboken.ous-hf.no/Printing/PrintDocument?documentId=14706\n",
      "https://ehandboken.ous-hf.no/Printing/PrintDocument?documentId=14708\n",
      "https://ehandboken.ous-hf.no/Printing/PrintDocument?documentId=109137\n"
     ]
    }
   ],
   "source": [
    "for protocol in print_links[:5]:\n",
    "    print(protocol['print_url'])"
   ]
  },
  {
   "cell_type": "code",
   "execution_count": 248,
   "metadata": {
    "collapsed": false,
    "jupyter": {
     "outputs_hidden": false
    },
    "pycharm": {
     "name": "#%%\n"
    }
   },
   "outputs": [
    {
     "data": {
      "text/plain": [
       "['Sag T1 3D mprage,Tra DWI,Sag 3D Flair FS,Tra T2 TSE',\n",
       " 'Sag 3D T1 mprage,Tra DWI,Sag 3D Flair FS,Tra T2 Propeller',\n",
       " 'Sag T1 3D  TFE,Tra DWI,Sag 3D Flair FS,Tra T2 TSE']"
      ]
     },
     "execution_count": 248,
     "metadata": {},
     "output_type": "execute_result"
    }
   ],
   "source": [
    "make_table_data(tables)"
   ]
  },
  {
   "cell_type": "code",
   "execution_count": 242,
   "metadata": {
    "collapsed": false,
    "jupyter": {
     "outputs_hidden": false
    },
    "pycharm": {
     "name": "#%%\n"
    }
   },
   "outputs": [
    {
     "name": "stdout",
     "output_type": "stream",
     "text": [
      "ha\n"
     ]
    }
   ],
   "source": [
    "name = 'hallo'\n",
    "print(name[:2])"
   ]
  },
  {
   "cell_type": "code",
   "execution_count": 239,
   "metadata": {
    "collapsed": false,
    "jupyter": {
     "outputs_hidden": false
    },
    "pycharm": {
     "name": "#%%\n"
    }
   },
   "outputs": [
    {
     "data": {
      "text/plain": [
       "['Sag T1 3D  TFE,Tra DWI,Sag 3D Flair FS,Tra T2 TSE']"
      ]
     },
     "execution_count": 239,
     "metadata": {},
     "output_type": "execute_result"
    }
   ],
   "source": [
    "data"
   ]
  },
  {
   "cell_type": "code",
   "execution_count": 208,
   "metadata": {
    "collapsed": false,
    "jupyter": {
     "outputs_hidden": false
    },
    "pycharm": {
     "name": "#%%\n"
    }
   },
   "outputs": [
    {
     "ename": "KeyboardInterrupt",
     "evalue": "",
     "output_type": "error",
     "traceback": [
      "\u001b[0;31m---------------------------------------------------------------------------\u001b[0m",
      "\u001b[0;31mKeyboardInterrupt\u001b[0m                         Traceback (most recent call last)",
      "Input \u001b[0;32mIn [208]\u001b[0m, in \u001b[0;36m<cell line: 2>\u001b[0;34m()\u001b[0m\n\u001b[1;32m      1\u001b[0m result \u001b[38;5;241m=\u001b[39m []\n\u001b[1;32m      2\u001b[0m \u001b[38;5;28;01mfor\u001b[39;00m link \u001b[38;5;129;01min\u001b[39;00m print_links:\n\u001b[0;32m----> 3\u001b[0m     one_table \u001b[38;5;241m=\u001b[39m \u001b[43mpd\u001b[49m\u001b[38;5;241;43m.\u001b[39;49m\u001b[43mread_html\u001b[49m\u001b[43m(\u001b[49m\u001b[43mlink\u001b[49m\u001b[43m[\u001b[49m\u001b[38;5;124;43m'\u001b[39;49m\u001b[38;5;124;43mprint_url\u001b[39;49m\u001b[38;5;124;43m'\u001b[39;49m\u001b[43m]\u001b[49m\u001b[43m,\u001b[49m\u001b[43m \u001b[49m\u001b[43mheader\u001b[49m\u001b[38;5;241;43m=\u001b[39;49m\u001b[38;5;241;43m0\u001b[39;49m\u001b[43m)\u001b[49m[\u001b[38;5;241m5\u001b[39m]\n\u001b[1;32m      4\u001b[0m     result\u001b[38;5;241m.\u001b[39mappend(one_table)\n\u001b[1;32m      5\u001b[0m all_protocols \u001b[38;5;241m=\u001b[39m pd\u001b[38;5;241m.\u001b[39mconcat(result)\n",
      "File \u001b[0;32m~/anaconda3/envs/mri_protocols/lib/python3.10/site-packages/pandas/util/_decorators.py:311\u001b[0m, in \u001b[0;36mdeprecate_nonkeyword_arguments.<locals>.decorate.<locals>.wrapper\u001b[0;34m(*args, **kwargs)\u001b[0m\n\u001b[1;32m    305\u001b[0m \u001b[38;5;28;01mif\u001b[39;00m \u001b[38;5;28mlen\u001b[39m(args) \u001b[38;5;241m>\u001b[39m num_allow_args:\n\u001b[1;32m    306\u001b[0m     warnings\u001b[38;5;241m.\u001b[39mwarn(\n\u001b[1;32m    307\u001b[0m         msg\u001b[38;5;241m.\u001b[39mformat(arguments\u001b[38;5;241m=\u001b[39marguments),\n\u001b[1;32m    308\u001b[0m         \u001b[38;5;167;01mFutureWarning\u001b[39;00m,\n\u001b[1;32m    309\u001b[0m         stacklevel\u001b[38;5;241m=\u001b[39mstacklevel,\n\u001b[1;32m    310\u001b[0m     )\n\u001b[0;32m--> 311\u001b[0m \u001b[38;5;28;01mreturn\u001b[39;00m \u001b[43mfunc\u001b[49m\u001b[43m(\u001b[49m\u001b[38;5;241;43m*\u001b[39;49m\u001b[43margs\u001b[49m\u001b[43m,\u001b[49m\u001b[43m \u001b[49m\u001b[38;5;241;43m*\u001b[39;49m\u001b[38;5;241;43m*\u001b[39;49m\u001b[43mkwargs\u001b[49m\u001b[43m)\u001b[49m\n",
      "File \u001b[0;32m~/anaconda3/envs/mri_protocols/lib/python3.10/site-packages/pandas/io/html.py:1113\u001b[0m, in \u001b[0;36mread_html\u001b[0;34m(io, match, flavor, header, index_col, skiprows, attrs, parse_dates, thousands, encoding, decimal, converters, na_values, keep_default_na, displayed_only)\u001b[0m\n\u001b[1;32m   1109\u001b[0m validate_header_arg(header)\n\u001b[1;32m   1111\u001b[0m io \u001b[38;5;241m=\u001b[39m stringify_path(io)\n\u001b[0;32m-> 1113\u001b[0m \u001b[38;5;28;01mreturn\u001b[39;00m \u001b[43m_parse\u001b[49m\u001b[43m(\u001b[49m\n\u001b[1;32m   1114\u001b[0m \u001b[43m    \u001b[49m\u001b[43mflavor\u001b[49m\u001b[38;5;241;43m=\u001b[39;49m\u001b[43mflavor\u001b[49m\u001b[43m,\u001b[49m\n\u001b[1;32m   1115\u001b[0m \u001b[43m    \u001b[49m\u001b[43mio\u001b[49m\u001b[38;5;241;43m=\u001b[39;49m\u001b[43mio\u001b[49m\u001b[43m,\u001b[49m\n\u001b[1;32m   1116\u001b[0m \u001b[43m    \u001b[49m\u001b[43mmatch\u001b[49m\u001b[38;5;241;43m=\u001b[39;49m\u001b[43mmatch\u001b[49m\u001b[43m,\u001b[49m\n\u001b[1;32m   1117\u001b[0m \u001b[43m    \u001b[49m\u001b[43mheader\u001b[49m\u001b[38;5;241;43m=\u001b[39;49m\u001b[43mheader\u001b[49m\u001b[43m,\u001b[49m\n\u001b[1;32m   1118\u001b[0m \u001b[43m    \u001b[49m\u001b[43mindex_col\u001b[49m\u001b[38;5;241;43m=\u001b[39;49m\u001b[43mindex_col\u001b[49m\u001b[43m,\u001b[49m\n\u001b[1;32m   1119\u001b[0m \u001b[43m    \u001b[49m\u001b[43mskiprows\u001b[49m\u001b[38;5;241;43m=\u001b[39;49m\u001b[43mskiprows\u001b[49m\u001b[43m,\u001b[49m\n\u001b[1;32m   1120\u001b[0m \u001b[43m    \u001b[49m\u001b[43mparse_dates\u001b[49m\u001b[38;5;241;43m=\u001b[39;49m\u001b[43mparse_dates\u001b[49m\u001b[43m,\u001b[49m\n\u001b[1;32m   1121\u001b[0m \u001b[43m    \u001b[49m\u001b[43mthousands\u001b[49m\u001b[38;5;241;43m=\u001b[39;49m\u001b[43mthousands\u001b[49m\u001b[43m,\u001b[49m\n\u001b[1;32m   1122\u001b[0m \u001b[43m    \u001b[49m\u001b[43mattrs\u001b[49m\u001b[38;5;241;43m=\u001b[39;49m\u001b[43mattrs\u001b[49m\u001b[43m,\u001b[49m\n\u001b[1;32m   1123\u001b[0m \u001b[43m    \u001b[49m\u001b[43mencoding\u001b[49m\u001b[38;5;241;43m=\u001b[39;49m\u001b[43mencoding\u001b[49m\u001b[43m,\u001b[49m\n\u001b[1;32m   1124\u001b[0m \u001b[43m    \u001b[49m\u001b[43mdecimal\u001b[49m\u001b[38;5;241;43m=\u001b[39;49m\u001b[43mdecimal\u001b[49m\u001b[43m,\u001b[49m\n\u001b[1;32m   1125\u001b[0m \u001b[43m    \u001b[49m\u001b[43mconverters\u001b[49m\u001b[38;5;241;43m=\u001b[39;49m\u001b[43mconverters\u001b[49m\u001b[43m,\u001b[49m\n\u001b[1;32m   1126\u001b[0m \u001b[43m    \u001b[49m\u001b[43mna_values\u001b[49m\u001b[38;5;241;43m=\u001b[39;49m\u001b[43mna_values\u001b[49m\u001b[43m,\u001b[49m\n\u001b[1;32m   1127\u001b[0m \u001b[43m    \u001b[49m\u001b[43mkeep_default_na\u001b[49m\u001b[38;5;241;43m=\u001b[39;49m\u001b[43mkeep_default_na\u001b[49m\u001b[43m,\u001b[49m\n\u001b[1;32m   1128\u001b[0m \u001b[43m    \u001b[49m\u001b[43mdisplayed_only\u001b[49m\u001b[38;5;241;43m=\u001b[39;49m\u001b[43mdisplayed_only\u001b[49m\u001b[43m,\u001b[49m\n\u001b[1;32m   1129\u001b[0m \u001b[43m\u001b[49m\u001b[43m)\u001b[49m\n",
      "File \u001b[0;32m~/anaconda3/envs/mri_protocols/lib/python3.10/site-packages/pandas/io/html.py:919\u001b[0m, in \u001b[0;36m_parse\u001b[0;34m(flavor, io, match, attrs, encoding, displayed_only, **kwargs)\u001b[0m\n\u001b[1;32m    916\u001b[0m p \u001b[38;5;241m=\u001b[39m parser(io, compiled_match, attrs, encoding, displayed_only)\n\u001b[1;32m    918\u001b[0m \u001b[38;5;28;01mtry\u001b[39;00m:\n\u001b[0;32m--> 919\u001b[0m     tables \u001b[38;5;241m=\u001b[39m \u001b[43mp\u001b[49m\u001b[38;5;241;43m.\u001b[39;49m\u001b[43mparse_tables\u001b[49m\u001b[43m(\u001b[49m\u001b[43m)\u001b[49m\n\u001b[1;32m    920\u001b[0m \u001b[38;5;28;01mexcept\u001b[39;00m \u001b[38;5;167;01mValueError\u001b[39;00m \u001b[38;5;28;01mas\u001b[39;00m caught:\n\u001b[1;32m    921\u001b[0m     \u001b[38;5;66;03m# if `io` is an io-like object, check if it's seekable\u001b[39;00m\n\u001b[1;32m    922\u001b[0m     \u001b[38;5;66;03m# and try to rewind it before trying the next parser\u001b[39;00m\n\u001b[1;32m    923\u001b[0m     \u001b[38;5;28;01mif\u001b[39;00m \u001b[38;5;28mhasattr\u001b[39m(io, \u001b[38;5;124m\"\u001b[39m\u001b[38;5;124mseekable\u001b[39m\u001b[38;5;124m\"\u001b[39m) \u001b[38;5;129;01mand\u001b[39;00m io\u001b[38;5;241m.\u001b[39mseekable():\n",
      "File \u001b[0;32m~/anaconda3/envs/mri_protocols/lib/python3.10/site-packages/pandas/io/html.py:239\u001b[0m, in \u001b[0;36m_HtmlFrameParser.parse_tables\u001b[0;34m(self)\u001b[0m\n\u001b[1;32m    231\u001b[0m \u001b[38;5;28;01mdef\u001b[39;00m \u001b[38;5;21mparse_tables\u001b[39m(\u001b[38;5;28mself\u001b[39m):\n\u001b[1;32m    232\u001b[0m     \u001b[38;5;124;03m\"\"\"\u001b[39;00m\n\u001b[1;32m    233\u001b[0m \u001b[38;5;124;03m    Parse and return all tables from the DOM.\u001b[39;00m\n\u001b[1;32m    234\u001b[0m \n\u001b[0;32m   (...)\u001b[0m\n\u001b[1;32m    237\u001b[0m \u001b[38;5;124;03m    list of parsed (header, body, footer) tuples from tables.\u001b[39;00m\n\u001b[1;32m    238\u001b[0m \u001b[38;5;124;03m    \"\"\"\u001b[39;00m\n\u001b[0;32m--> 239\u001b[0m     tables \u001b[38;5;241m=\u001b[39m \u001b[38;5;28mself\u001b[39m\u001b[38;5;241m.\u001b[39m_parse_tables(\u001b[38;5;28;43mself\u001b[39;49m\u001b[38;5;241;43m.\u001b[39;49m\u001b[43m_build_doc\u001b[49m\u001b[43m(\u001b[49m\u001b[43m)\u001b[49m, \u001b[38;5;28mself\u001b[39m\u001b[38;5;241m.\u001b[39mmatch, \u001b[38;5;28mself\u001b[39m\u001b[38;5;241m.\u001b[39mattrs)\n\u001b[1;32m    240\u001b[0m     \u001b[38;5;28;01mreturn\u001b[39;00m (\u001b[38;5;28mself\u001b[39m\u001b[38;5;241m.\u001b[39m_parse_thead_tbody_tfoot(table) \u001b[38;5;28;01mfor\u001b[39;00m table \u001b[38;5;129;01min\u001b[39;00m tables)\n",
      "File \u001b[0;32m~/anaconda3/envs/mri_protocols/lib/python3.10/site-packages/pandas/io/html.py:739\u001b[0m, in \u001b[0;36m_LxmlFrameParser._build_doc\u001b[0;34m(self)\u001b[0m\n\u001b[1;32m    737\u001b[0m \u001b[38;5;28;01mtry\u001b[39;00m:\n\u001b[1;32m    738\u001b[0m     \u001b[38;5;28;01mif\u001b[39;00m is_url(\u001b[38;5;28mself\u001b[39m\u001b[38;5;241m.\u001b[39mio):\n\u001b[0;32m--> 739\u001b[0m         \u001b[38;5;28;01mwith\u001b[39;00m \u001b[43murlopen\u001b[49m\u001b[43m(\u001b[49m\u001b[38;5;28;43mself\u001b[39;49m\u001b[38;5;241;43m.\u001b[39;49m\u001b[43mio\u001b[49m\u001b[43m)\u001b[49m \u001b[38;5;28;01mas\u001b[39;00m f:\n\u001b[1;32m    740\u001b[0m             r \u001b[38;5;241m=\u001b[39m parse(f, parser\u001b[38;5;241m=\u001b[39mparser)\n\u001b[1;32m    741\u001b[0m     \u001b[38;5;28;01melse\u001b[39;00m:\n\u001b[1;32m    742\u001b[0m         \u001b[38;5;66;03m# try to parse the input in the simplest way\u001b[39;00m\n",
      "File \u001b[0;32m~/anaconda3/envs/mri_protocols/lib/python3.10/site-packages/pandas/io/common.py:239\u001b[0m, in \u001b[0;36murlopen\u001b[0;34m(*args, **kwargs)\u001b[0m\n\u001b[1;32m    233\u001b[0m \u001b[38;5;124;03m\"\"\"\u001b[39;00m\n\u001b[1;32m    234\u001b[0m \u001b[38;5;124;03mLazy-import wrapper for stdlib urlopen, as that imports a big chunk of\u001b[39;00m\n\u001b[1;32m    235\u001b[0m \u001b[38;5;124;03mthe stdlib.\u001b[39;00m\n\u001b[1;32m    236\u001b[0m \u001b[38;5;124;03m\"\"\"\u001b[39;00m\n\u001b[1;32m    237\u001b[0m \u001b[38;5;28;01mimport\u001b[39;00m \u001b[38;5;21;01murllib\u001b[39;00m\u001b[38;5;21;01m.\u001b[39;00m\u001b[38;5;21;01mrequest\u001b[39;00m\n\u001b[0;32m--> 239\u001b[0m \u001b[38;5;28;01mreturn\u001b[39;00m \u001b[43murllib\u001b[49m\u001b[38;5;241;43m.\u001b[39;49m\u001b[43mrequest\u001b[49m\u001b[38;5;241;43m.\u001b[39;49m\u001b[43murlopen\u001b[49m\u001b[43m(\u001b[49m\u001b[38;5;241;43m*\u001b[39;49m\u001b[43margs\u001b[49m\u001b[43m,\u001b[49m\u001b[43m \u001b[49m\u001b[38;5;241;43m*\u001b[39;49m\u001b[38;5;241;43m*\u001b[39;49m\u001b[43mkwargs\u001b[49m\u001b[43m)\u001b[49m\n",
      "File \u001b[0;32m~/anaconda3/envs/mri_protocols/lib/python3.10/urllib/request.py:216\u001b[0m, in \u001b[0;36murlopen\u001b[0;34m(url, data, timeout, cafile, capath, cadefault, context)\u001b[0m\n\u001b[1;32m    214\u001b[0m \u001b[38;5;28;01melse\u001b[39;00m:\n\u001b[1;32m    215\u001b[0m     opener \u001b[38;5;241m=\u001b[39m _opener\n\u001b[0;32m--> 216\u001b[0m \u001b[38;5;28;01mreturn\u001b[39;00m \u001b[43mopener\u001b[49m\u001b[38;5;241;43m.\u001b[39;49m\u001b[43mopen\u001b[49m\u001b[43m(\u001b[49m\u001b[43murl\u001b[49m\u001b[43m,\u001b[49m\u001b[43m \u001b[49m\u001b[43mdata\u001b[49m\u001b[43m,\u001b[49m\u001b[43m \u001b[49m\u001b[43mtimeout\u001b[49m\u001b[43m)\u001b[49m\n",
      "File \u001b[0;32m~/anaconda3/envs/mri_protocols/lib/python3.10/urllib/request.py:519\u001b[0m, in \u001b[0;36mOpenerDirector.open\u001b[0;34m(self, fullurl, data, timeout)\u001b[0m\n\u001b[1;32m    516\u001b[0m     req \u001b[38;5;241m=\u001b[39m meth(req)\n\u001b[1;32m    518\u001b[0m sys\u001b[38;5;241m.\u001b[39maudit(\u001b[38;5;124m'\u001b[39m\u001b[38;5;124murllib.Request\u001b[39m\u001b[38;5;124m'\u001b[39m, req\u001b[38;5;241m.\u001b[39mfull_url, req\u001b[38;5;241m.\u001b[39mdata, req\u001b[38;5;241m.\u001b[39mheaders, req\u001b[38;5;241m.\u001b[39mget_method())\n\u001b[0;32m--> 519\u001b[0m response \u001b[38;5;241m=\u001b[39m \u001b[38;5;28;43mself\u001b[39;49m\u001b[38;5;241;43m.\u001b[39;49m\u001b[43m_open\u001b[49m\u001b[43m(\u001b[49m\u001b[43mreq\u001b[49m\u001b[43m,\u001b[49m\u001b[43m \u001b[49m\u001b[43mdata\u001b[49m\u001b[43m)\u001b[49m\n\u001b[1;32m    521\u001b[0m \u001b[38;5;66;03m# post-process response\u001b[39;00m\n\u001b[1;32m    522\u001b[0m meth_name \u001b[38;5;241m=\u001b[39m protocol\u001b[38;5;241m+\u001b[39m\u001b[38;5;124m\"\u001b[39m\u001b[38;5;124m_response\u001b[39m\u001b[38;5;124m\"\u001b[39m\n",
      "File \u001b[0;32m~/anaconda3/envs/mri_protocols/lib/python3.10/urllib/request.py:536\u001b[0m, in \u001b[0;36mOpenerDirector._open\u001b[0;34m(self, req, data)\u001b[0m\n\u001b[1;32m    533\u001b[0m     \u001b[38;5;28;01mreturn\u001b[39;00m result\n\u001b[1;32m    535\u001b[0m protocol \u001b[38;5;241m=\u001b[39m req\u001b[38;5;241m.\u001b[39mtype\n\u001b[0;32m--> 536\u001b[0m result \u001b[38;5;241m=\u001b[39m \u001b[38;5;28;43mself\u001b[39;49m\u001b[38;5;241;43m.\u001b[39;49m\u001b[43m_call_chain\u001b[49m\u001b[43m(\u001b[49m\u001b[38;5;28;43mself\u001b[39;49m\u001b[38;5;241;43m.\u001b[39;49m\u001b[43mhandle_open\u001b[49m\u001b[43m,\u001b[49m\u001b[43m \u001b[49m\u001b[43mprotocol\u001b[49m\u001b[43m,\u001b[49m\u001b[43m \u001b[49m\u001b[43mprotocol\u001b[49m\u001b[43m \u001b[49m\u001b[38;5;241;43m+\u001b[39;49m\n\u001b[1;32m    537\u001b[0m \u001b[43m                          \u001b[49m\u001b[38;5;124;43m'\u001b[39;49m\u001b[38;5;124;43m_open\u001b[39;49m\u001b[38;5;124;43m'\u001b[39;49m\u001b[43m,\u001b[49m\u001b[43m \u001b[49m\u001b[43mreq\u001b[49m\u001b[43m)\u001b[49m\n\u001b[1;32m    538\u001b[0m \u001b[38;5;28;01mif\u001b[39;00m result:\n\u001b[1;32m    539\u001b[0m     \u001b[38;5;28;01mreturn\u001b[39;00m result\n",
      "File \u001b[0;32m~/anaconda3/envs/mri_protocols/lib/python3.10/urllib/request.py:496\u001b[0m, in \u001b[0;36mOpenerDirector._call_chain\u001b[0;34m(self, chain, kind, meth_name, *args)\u001b[0m\n\u001b[1;32m    494\u001b[0m \u001b[38;5;28;01mfor\u001b[39;00m handler \u001b[38;5;129;01min\u001b[39;00m handlers:\n\u001b[1;32m    495\u001b[0m     func \u001b[38;5;241m=\u001b[39m \u001b[38;5;28mgetattr\u001b[39m(handler, meth_name)\n\u001b[0;32m--> 496\u001b[0m     result \u001b[38;5;241m=\u001b[39m \u001b[43mfunc\u001b[49m\u001b[43m(\u001b[49m\u001b[38;5;241;43m*\u001b[39;49m\u001b[43margs\u001b[49m\u001b[43m)\u001b[49m\n\u001b[1;32m    497\u001b[0m     \u001b[38;5;28;01mif\u001b[39;00m result \u001b[38;5;129;01mis\u001b[39;00m \u001b[38;5;129;01mnot\u001b[39;00m \u001b[38;5;28;01mNone\u001b[39;00m:\n\u001b[1;32m    498\u001b[0m         \u001b[38;5;28;01mreturn\u001b[39;00m result\n",
      "File \u001b[0;32m~/anaconda3/envs/mri_protocols/lib/python3.10/urllib/request.py:1391\u001b[0m, in \u001b[0;36mHTTPSHandler.https_open\u001b[0;34m(self, req)\u001b[0m\n\u001b[1;32m   1390\u001b[0m \u001b[38;5;28;01mdef\u001b[39;00m \u001b[38;5;21mhttps_open\u001b[39m(\u001b[38;5;28mself\u001b[39m, req):\n\u001b[0;32m-> 1391\u001b[0m     \u001b[38;5;28;01mreturn\u001b[39;00m \u001b[38;5;28;43mself\u001b[39;49m\u001b[38;5;241;43m.\u001b[39;49m\u001b[43mdo_open\u001b[49m\u001b[43m(\u001b[49m\u001b[43mhttp\u001b[49m\u001b[38;5;241;43m.\u001b[39;49m\u001b[43mclient\u001b[49m\u001b[38;5;241;43m.\u001b[39;49m\u001b[43mHTTPSConnection\u001b[49m\u001b[43m,\u001b[49m\u001b[43m \u001b[49m\u001b[43mreq\u001b[49m\u001b[43m,\u001b[49m\n\u001b[1;32m   1392\u001b[0m \u001b[43m        \u001b[49m\u001b[43mcontext\u001b[49m\u001b[38;5;241;43m=\u001b[39;49m\u001b[38;5;28;43mself\u001b[39;49m\u001b[38;5;241;43m.\u001b[39;49m\u001b[43m_context\u001b[49m\u001b[43m,\u001b[49m\u001b[43m \u001b[49m\u001b[43mcheck_hostname\u001b[49m\u001b[38;5;241;43m=\u001b[39;49m\u001b[38;5;28;43mself\u001b[39;49m\u001b[38;5;241;43m.\u001b[39;49m\u001b[43m_check_hostname\u001b[49m\u001b[43m)\u001b[49m\n",
      "File \u001b[0;32m~/anaconda3/envs/mri_protocols/lib/python3.10/urllib/request.py:1352\u001b[0m, in \u001b[0;36mAbstractHTTPHandler.do_open\u001b[0;34m(self, http_class, req, **http_conn_args)\u001b[0m\n\u001b[1;32m   1350\u001b[0m     \u001b[38;5;28;01mexcept\u001b[39;00m \u001b[38;5;167;01mOSError\u001b[39;00m \u001b[38;5;28;01mas\u001b[39;00m err: \u001b[38;5;66;03m# timeout error\u001b[39;00m\n\u001b[1;32m   1351\u001b[0m         \u001b[38;5;28;01mraise\u001b[39;00m URLError(err)\n\u001b[0;32m-> 1352\u001b[0m     r \u001b[38;5;241m=\u001b[39m \u001b[43mh\u001b[49m\u001b[38;5;241;43m.\u001b[39;49m\u001b[43mgetresponse\u001b[49m\u001b[43m(\u001b[49m\u001b[43m)\u001b[49m\n\u001b[1;32m   1353\u001b[0m \u001b[38;5;28;01mexcept\u001b[39;00m:\n\u001b[1;32m   1354\u001b[0m     h\u001b[38;5;241m.\u001b[39mclose()\n",
      "File \u001b[0;32m~/anaconda3/envs/mri_protocols/lib/python3.10/http/client.py:1368\u001b[0m, in \u001b[0;36mHTTPConnection.getresponse\u001b[0;34m(self)\u001b[0m\n\u001b[1;32m   1366\u001b[0m \u001b[38;5;28;01mtry\u001b[39;00m:\n\u001b[1;32m   1367\u001b[0m     \u001b[38;5;28;01mtry\u001b[39;00m:\n\u001b[0;32m-> 1368\u001b[0m         \u001b[43mresponse\u001b[49m\u001b[38;5;241;43m.\u001b[39;49m\u001b[43mbegin\u001b[49m\u001b[43m(\u001b[49m\u001b[43m)\u001b[49m\n\u001b[1;32m   1369\u001b[0m     \u001b[38;5;28;01mexcept\u001b[39;00m \u001b[38;5;167;01mConnectionError\u001b[39;00m:\n\u001b[1;32m   1370\u001b[0m         \u001b[38;5;28mself\u001b[39m\u001b[38;5;241m.\u001b[39mclose()\n",
      "File \u001b[0;32m~/anaconda3/envs/mri_protocols/lib/python3.10/http/client.py:317\u001b[0m, in \u001b[0;36mHTTPResponse.begin\u001b[0;34m(self)\u001b[0m\n\u001b[1;32m    315\u001b[0m \u001b[38;5;66;03m# read until we get a non-100 response\u001b[39;00m\n\u001b[1;32m    316\u001b[0m \u001b[38;5;28;01mwhile\u001b[39;00m \u001b[38;5;28;01mTrue\u001b[39;00m:\n\u001b[0;32m--> 317\u001b[0m     version, status, reason \u001b[38;5;241m=\u001b[39m \u001b[38;5;28;43mself\u001b[39;49m\u001b[38;5;241;43m.\u001b[39;49m\u001b[43m_read_status\u001b[49m\u001b[43m(\u001b[49m\u001b[43m)\u001b[49m\n\u001b[1;32m    318\u001b[0m     \u001b[38;5;28;01mif\u001b[39;00m status \u001b[38;5;241m!=\u001b[39m CONTINUE:\n\u001b[1;32m    319\u001b[0m         \u001b[38;5;28;01mbreak\u001b[39;00m\n",
      "File \u001b[0;32m~/anaconda3/envs/mri_protocols/lib/python3.10/http/client.py:278\u001b[0m, in \u001b[0;36mHTTPResponse._read_status\u001b[0;34m(self)\u001b[0m\n\u001b[1;32m    277\u001b[0m \u001b[38;5;28;01mdef\u001b[39;00m \u001b[38;5;21m_read_status\u001b[39m(\u001b[38;5;28mself\u001b[39m):\n\u001b[0;32m--> 278\u001b[0m     line \u001b[38;5;241m=\u001b[39m \u001b[38;5;28mstr\u001b[39m(\u001b[38;5;28;43mself\u001b[39;49m\u001b[38;5;241;43m.\u001b[39;49m\u001b[43mfp\u001b[49m\u001b[38;5;241;43m.\u001b[39;49m\u001b[43mreadline\u001b[49m\u001b[43m(\u001b[49m\u001b[43m_MAXLINE\u001b[49m\u001b[43m \u001b[49m\u001b[38;5;241;43m+\u001b[39;49m\u001b[43m \u001b[49m\u001b[38;5;241;43m1\u001b[39;49m\u001b[43m)\u001b[49m, \u001b[38;5;124m\"\u001b[39m\u001b[38;5;124miso-8859-1\u001b[39m\u001b[38;5;124m\"\u001b[39m)\n\u001b[1;32m    279\u001b[0m     \u001b[38;5;28;01mif\u001b[39;00m \u001b[38;5;28mlen\u001b[39m(line) \u001b[38;5;241m>\u001b[39m _MAXLINE:\n\u001b[1;32m    280\u001b[0m         \u001b[38;5;28;01mraise\u001b[39;00m LineTooLong(\u001b[38;5;124m\"\u001b[39m\u001b[38;5;124mstatus line\u001b[39m\u001b[38;5;124m\"\u001b[39m)\n",
      "File \u001b[0;32m~/anaconda3/envs/mri_protocols/lib/python3.10/socket.py:705\u001b[0m, in \u001b[0;36mSocketIO.readinto\u001b[0;34m(self, b)\u001b[0m\n\u001b[1;32m    703\u001b[0m \u001b[38;5;28;01mwhile\u001b[39;00m \u001b[38;5;28;01mTrue\u001b[39;00m:\n\u001b[1;32m    704\u001b[0m     \u001b[38;5;28;01mtry\u001b[39;00m:\n\u001b[0;32m--> 705\u001b[0m         \u001b[38;5;28;01mreturn\u001b[39;00m \u001b[38;5;28;43mself\u001b[39;49m\u001b[38;5;241;43m.\u001b[39;49m\u001b[43m_sock\u001b[49m\u001b[38;5;241;43m.\u001b[39;49m\u001b[43mrecv_into\u001b[49m\u001b[43m(\u001b[49m\u001b[43mb\u001b[49m\u001b[43m)\u001b[49m\n\u001b[1;32m    706\u001b[0m     \u001b[38;5;28;01mexcept\u001b[39;00m timeout:\n\u001b[1;32m    707\u001b[0m         \u001b[38;5;28mself\u001b[39m\u001b[38;5;241m.\u001b[39m_timeout_occurred \u001b[38;5;241m=\u001b[39m \u001b[38;5;28;01mTrue\u001b[39;00m\n",
      "File \u001b[0;32m~/anaconda3/envs/mri_protocols/lib/python3.10/ssl.py:1273\u001b[0m, in \u001b[0;36mSSLSocket.recv_into\u001b[0;34m(self, buffer, nbytes, flags)\u001b[0m\n\u001b[1;32m   1269\u001b[0m     \u001b[38;5;28;01mif\u001b[39;00m flags \u001b[38;5;241m!=\u001b[39m \u001b[38;5;241m0\u001b[39m:\n\u001b[1;32m   1270\u001b[0m         \u001b[38;5;28;01mraise\u001b[39;00m \u001b[38;5;167;01mValueError\u001b[39;00m(\n\u001b[1;32m   1271\u001b[0m           \u001b[38;5;124m\"\u001b[39m\u001b[38;5;124mnon-zero flags not allowed in calls to recv_into() on \u001b[39m\u001b[38;5;132;01m%s\u001b[39;00m\u001b[38;5;124m\"\u001b[39m \u001b[38;5;241m%\u001b[39m\n\u001b[1;32m   1272\u001b[0m           \u001b[38;5;28mself\u001b[39m\u001b[38;5;241m.\u001b[39m\u001b[38;5;18m__class__\u001b[39m)\n\u001b[0;32m-> 1273\u001b[0m     \u001b[38;5;28;01mreturn\u001b[39;00m \u001b[38;5;28;43mself\u001b[39;49m\u001b[38;5;241;43m.\u001b[39;49m\u001b[43mread\u001b[49m\u001b[43m(\u001b[49m\u001b[43mnbytes\u001b[49m\u001b[43m,\u001b[49m\u001b[43m \u001b[49m\u001b[43mbuffer\u001b[49m\u001b[43m)\u001b[49m\n\u001b[1;32m   1274\u001b[0m \u001b[38;5;28;01melse\u001b[39;00m:\n\u001b[1;32m   1275\u001b[0m     \u001b[38;5;28;01mreturn\u001b[39;00m \u001b[38;5;28msuper\u001b[39m()\u001b[38;5;241m.\u001b[39mrecv_into(buffer, nbytes, flags)\n",
      "File \u001b[0;32m~/anaconda3/envs/mri_protocols/lib/python3.10/ssl.py:1129\u001b[0m, in \u001b[0;36mSSLSocket.read\u001b[0;34m(self, len, buffer)\u001b[0m\n\u001b[1;32m   1127\u001b[0m \u001b[38;5;28;01mtry\u001b[39;00m:\n\u001b[1;32m   1128\u001b[0m     \u001b[38;5;28;01mif\u001b[39;00m buffer \u001b[38;5;129;01mis\u001b[39;00m \u001b[38;5;129;01mnot\u001b[39;00m \u001b[38;5;28;01mNone\u001b[39;00m:\n\u001b[0;32m-> 1129\u001b[0m         \u001b[38;5;28;01mreturn\u001b[39;00m \u001b[38;5;28;43mself\u001b[39;49m\u001b[38;5;241;43m.\u001b[39;49m\u001b[43m_sslobj\u001b[49m\u001b[38;5;241;43m.\u001b[39;49m\u001b[43mread\u001b[49m\u001b[43m(\u001b[49m\u001b[38;5;28;43mlen\u001b[39;49m\u001b[43m,\u001b[49m\u001b[43m \u001b[49m\u001b[43mbuffer\u001b[49m\u001b[43m)\u001b[49m\n\u001b[1;32m   1130\u001b[0m     \u001b[38;5;28;01melse\u001b[39;00m:\n\u001b[1;32m   1131\u001b[0m         \u001b[38;5;28;01mreturn\u001b[39;00m \u001b[38;5;28mself\u001b[39m\u001b[38;5;241m.\u001b[39m_sslobj\u001b[38;5;241m.\u001b[39mread(\u001b[38;5;28mlen\u001b[39m)\n",
      "\u001b[0;31mKeyboardInterrupt\u001b[0m: "
     ]
    }
   ],
   "source": [
    "result = []\n",
    "for link in print_links:\n",
    "    one_table = pd.read_html(link['print_url'], header=0)[5]\n",
    "    result.append(one_table)\n",
    "all_protocols = pd.concat(result)"
   ]
  },
  {
   "cell_type": "code",
   "execution_count": null,
   "metadata": {
    "collapsed": false,
    "jupyter": {
     "outputs_hidden": false
    },
    "pycharm": {
     "name": "#%%\n"
    }
   },
   "outputs": [],
   "source": [
    "all_protocols"
   ]
  }
 ],
 "metadata": {
  "kernelspec": {
   "display_name": "Python 3 (ipykernel)",
   "language": "python",
   "name": "python3"
  },
  "language_info": {
   "codemirror_mode": {
    "name": "ipython",
    "version": 3
   },
   "file_extension": ".py",
   "mimetype": "text/x-python",
   "name": "python",
   "nbconvert_exporter": "python",
   "pygments_lexer": "ipython3",
   "version": "3.10.0"
  }
 },
 "nbformat": 4,
 "nbformat_minor": 4
}
