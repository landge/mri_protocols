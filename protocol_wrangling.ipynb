{
 "cells": [
  {
   "cell_type": "markdown",
   "metadata": {},
   "source": [
    "# Ullevål MRI protocol exploration"
   ]
  },
  {
   "cell_type": "code",
   "execution_count": 1,
   "metadata": {},
   "outputs": [],
   "source": [
    "import pandas as pd\n",
    "import pandera as pa\n",
    "import numpy as np\n",
    "import regex as re"
   ]
  },
  {
   "cell_type": "markdown",
   "metadata": {},
   "source": [
    "* Load dataset and delete first empty column. \n",
    "* Name columns.\n",
    "* Create column that indicates if child protocol or not"
   ]
  },
  {
   "cell_type": "code",
   "execution_count": 2,
   "metadata": {},
   "outputs": [],
   "source": [
    "mr_protokoller = pd.read_csv('protokoller.csv')\n",
    "mr_protokoller = mr_protokoller.iloc[:,1:]\n",
    "mr_protokoller.columns = ['Protocol name', 'Nativ', 'Siemens', 'Philips', 'GE', 'Contrast-comments', 'CC-Siemens', 'CC-Philips', 'CC-GE', 'Post-contrast', 'PC-Siemens', 'PC-Philips', 'PC-GE',\n",
    "       'AC-1', 'AC-2', 'AC-3', 'AC-4', 'AC-5', 'AV-6', 'AC-7', 'AC-8']\n",
    "mr_protokoller.loc[mr_protokoller['Protocol name'].str.contains('BKC|Barn|BORB|BARN|BØNH', regex=True),'Barneprotokoll'] = 1\n",
    "mr_protokoller.loc[mr_protokoller['Barneprotokoll'] != 1, 'Barneprotokoll'] = 0\n",
    "mr_protokoller['Barneprotokoll'] = mr_protokoller['Barneprotokoll'].astype(int)\n",
    "mr_protokoller = mr_protokoller.loc[mr_protokoller['Barneprotokoll'] == 0, :]\n"
   ]
  },
  {
   "cell_type": "code",
   "execution_count": 3,
   "metadata": {},
   "outputs": [],
   "source": [
    "# Delete Loc from protocol\n",
    "def del_loc(protocol_string):\n",
    "    if protocol_string is np.nan:\n",
    "        return protocol_string\n",
    "    elif protocol_string[:3] == 'Loc':\n",
    "        return protocol_string[4:]\n",
    "    else:\n",
    "        return protocol_string"
   ]
  },
  {
   "cell_type": "markdown",
   "metadata": {},
   "source": [
    "### Start with Siemens adult protocols"
   ]
  },
  {
   "cell_type": "code",
   "execution_count": 4,
   "metadata": {},
   "outputs": [
    {
     "data": {
      "text/html": [
       "<div>\n",
       "<style scoped>\n",
       "    .dataframe tbody tr th:only-of-type {\n",
       "        vertical-align: middle;\n",
       "    }\n",
       "\n",
       "    .dataframe tbody tr th {\n",
       "        vertical-align: top;\n",
       "    }\n",
       "\n",
       "    .dataframe thead th {\n",
       "        text-align: right;\n",
       "    }\n",
       "</style>\n",
       "<table border=\"1\" class=\"dataframe\">\n",
       "  <thead>\n",
       "    <tr style=\"text-align: right;\">\n",
       "      <th></th>\n",
       "      <th>Protocol name</th>\n",
       "      <th>Nativ</th>\n",
       "      <th>Siemens</th>\n",
       "    </tr>\n",
       "  </thead>\n",
       "  <tbody>\n",
       "    <tr>\n",
       "      <th>0</th>\n",
       "      <td>MR KC1: Caput standard utredning (MRKC)</td>\n",
       "      <td>Nativ</td>\n",
       "      <td>Sag T1 3D mprage,Tra DWI,Sag 3D Flair FS,Tra T...</td>\n",
       "    </tr>\n",
       "    <tr>\n",
       "      <th>1</th>\n",
       "      <td>MR KC2: Caput m/kontrast (MRKCK)</td>\n",
       "      <td>Prekontrast</td>\n",
       "      <td>Sag T1 3D Space,Tra DWI</td>\n",
       "    </tr>\n",
       "    <tr>\n",
       "      <th>2</th>\n",
       "      <td>MR KC3: Caput Cerebralt infarkt(MRKCINF)</td>\n",
       "      <td>Nativ</td>\n",
       "      <td>Sag T1 TSE,Tra T2 4mm,Tra Flair  4mm,Tra SWI,T...</td>\n",
       "    </tr>\n",
       "    <tr>\n",
       "      <th>3</th>\n",
       "      <td>MR KC4: Caput demyeliniserende sykdom (MRKCMS)</td>\n",
       "      <td>Prekontrast</td>\n",
       "      <td>Sag T1 3D Space,Tra DWI</td>\n",
       "    </tr>\n",
       "    <tr>\n",
       "      <th>4</th>\n",
       "      <td>MR KC5: Caput Traume (MRKCTR)</td>\n",
       "      <td>Nativ</td>\n",
       "      <td>Sag T1 3D mprage,Sag 3D Flair,Tra T2 TSE,Tra S...</td>\n",
       "    </tr>\n",
       "    <tr>\n",
       "      <th>...</th>\n",
       "      <td>...</td>\n",
       "      <td>...</td>\n",
       "      <td>...</td>\n",
       "    </tr>\n",
       "    <tr>\n",
       "      <th>57</th>\n",
       "      <td>MR PB2: Plexus brachialis traume</td>\n",
       "      <td>Nativ</td>\n",
       "      <td>Cor T2 3D STIR Space,Cor T1 3D Space,Cor T2 3D...</td>\n",
       "    </tr>\n",
       "    <tr>\n",
       "      <th>58</th>\n",
       "      <td>MR PB3: Plexus brachialis tumor</td>\n",
       "      <td>Prekontrast</td>\n",
       "      <td>Cor T2,3D,STIR,Cor T1 3D Space,Cor T2 3D Space</td>\n",
       "    </tr>\n",
       "    <tr>\n",
       "      <th>59</th>\n",
       "      <td>MR PL1: Plexus lumbosacralis standard</td>\n",
       "      <td>Nativ</td>\n",
       "      <td>Cor T1 3D Vibe Dixon,Cor T2 3D Space STIR,Konf...</td>\n",
       "    </tr>\n",
       "    <tr>\n",
       "      <th>60</th>\n",
       "      <td>MR PL2: Plexus lumbosacralis traume</td>\n",
       "      <td>Nativ</td>\n",
       "      <td>Cor T1 3D Vibe Dixon,Cor T2 3D STIR Space</td>\n",
       "    </tr>\n",
       "    <tr>\n",
       "      <th>61</th>\n",
       "      <td>MR PL3: Plexus lumbosacralis tumor</td>\n",
       "      <td>Prekontrast</td>\n",
       "      <td>Cor T1 3D Vibe Dixon,Cor T2 3D STIR Space,Konf...</td>\n",
       "    </tr>\n",
       "  </tbody>\n",
       "</table>\n",
       "<p>62 rows × 3 columns</p>\n",
       "</div>"
      ],
      "text/plain": [
       "                                     Protocol name        Nativ  \\\n",
       "0          MR KC1: Caput standard utredning (MRKC)        Nativ   \n",
       "1                 MR KC2: Caput m/kontrast (MRKCK)  Prekontrast   \n",
       "2         MR KC3: Caput Cerebralt infarkt(MRKCINF)        Nativ   \n",
       "3   MR KC4: Caput demyeliniserende sykdom (MRKCMS)  Prekontrast   \n",
       "4                    MR KC5: Caput Traume (MRKCTR)        Nativ   \n",
       "..                                             ...          ...   \n",
       "57                MR PB2: Plexus brachialis traume        Nativ   \n",
       "58                 MR PB3: Plexus brachialis tumor  Prekontrast   \n",
       "59           MR PL1: Plexus lumbosacralis standard        Nativ   \n",
       "60             MR PL2: Plexus lumbosacralis traume        Nativ   \n",
       "61              MR PL3: Plexus lumbosacralis tumor  Prekontrast   \n",
       "\n",
       "                                              Siemens  \n",
       "0   Sag T1 3D mprage,Tra DWI,Sag 3D Flair FS,Tra T...  \n",
       "1                             Sag T1 3D Space,Tra DWI  \n",
       "2   Sag T1 TSE,Tra T2 4mm,Tra Flair  4mm,Tra SWI,T...  \n",
       "3                             Sag T1 3D Space,Tra DWI  \n",
       "4   Sag T1 3D mprage,Sag 3D Flair,Tra T2 TSE,Tra S...  \n",
       "..                                                ...  \n",
       "57  Cor T2 3D STIR Space,Cor T1 3D Space,Cor T2 3D...  \n",
       "58     Cor T2,3D,STIR,Cor T1 3D Space,Cor T2 3D Space  \n",
       "59  Cor T1 3D Vibe Dixon,Cor T2 3D Space STIR,Konf...  \n",
       "60          Cor T1 3D Vibe Dixon,Cor T2 3D STIR Space  \n",
       "61  Cor T1 3D Vibe Dixon,Cor T2 3D STIR Space,Konf...  \n",
       "\n",
       "[62 rows x 3 columns]"
      ]
     },
     "execution_count": 4,
     "metadata": {},
     "output_type": "execute_result"
    }
   ],
   "source": [
    "mr_protokoller['Siemens'] = mr_protokoller['Siemens'].apply(del_loc) \n",
    "siemens_pre_contrast = mr_protokoller.iloc[:,:3]\n",
    "siemens_pre_contrast"
   ]
  },
  {
   "cell_type": "code",
   "execution_count": 5,
   "metadata": {},
   "outputs": [],
   "source": [
    "# Make number of columns for dataframe that matches number of sequences\n",
    "def make_columns(antall, word):\n",
    "    n = 1\n",
    "    columns = []\n",
    "    for i in range(antall):\n",
    "        name = word+'_'+str(n)\n",
    "        n += 1\n",
    "        columns.append(name)\n",
    "    return columns "
   ]
  },
  {
   "cell_type": "code",
   "execution_count": 6,
   "metadata": {},
   "outputs": [
    {
     "data": {
      "text/html": [
       "<div>\n",
       "<style scoped>\n",
       "    .dataframe tbody tr th:only-of-type {\n",
       "        vertical-align: middle;\n",
       "    }\n",
       "\n",
       "    .dataframe tbody tr th {\n",
       "        vertical-align: top;\n",
       "    }\n",
       "\n",
       "    .dataframe thead th {\n",
       "        text-align: right;\n",
       "    }\n",
       "</style>\n",
       "<table border=\"1\" class=\"dataframe\">\n",
       "  <thead>\n",
       "    <tr style=\"text-align: right;\">\n",
       "      <th></th>\n",
       "      <th>Protocol name</th>\n",
       "      <th>Nativ</th>\n",
       "      <th>Siemens_1</th>\n",
       "      <th>Siemens_2</th>\n",
       "      <th>Siemens_3</th>\n",
       "      <th>Siemens_4</th>\n",
       "      <th>Siemens_5</th>\n",
       "      <th>Siemens_6</th>\n",
       "      <th>Siemens_7</th>\n",
       "      <th>Siemens_8</th>\n",
       "      <th>Siemens_9</th>\n",
       "      <th>Siemens_10</th>\n",
       "      <th>Siemens_11</th>\n",
       "      <th>Siemens_12</th>\n",
       "      <th>Siemens_13</th>\n",
       "      <th>Siemens_14</th>\n",
       "    </tr>\n",
       "  </thead>\n",
       "  <tbody>\n",
       "    <tr>\n",
       "      <th>0</th>\n",
       "      <td>MR KC1: Caput standard utredning (MRKC)</td>\n",
       "      <td>Nativ</td>\n",
       "      <td>Sag T1 3D mprage</td>\n",
       "      <td>Tra DWI</td>\n",
       "      <td>Sag 3D Flair FS</td>\n",
       "      <td>Tra T2 TSE</td>\n",
       "      <td>None</td>\n",
       "      <td>None</td>\n",
       "      <td>None</td>\n",
       "      <td>None</td>\n",
       "      <td>None</td>\n",
       "      <td>None</td>\n",
       "      <td>None</td>\n",
       "      <td>None</td>\n",
       "      <td>None</td>\n",
       "      <td>None</td>\n",
       "    </tr>\n",
       "    <tr>\n",
       "      <th>1</th>\n",
       "      <td>MR KC2: Caput m/kontrast (MRKCK)</td>\n",
       "      <td>Prekontrast</td>\n",
       "      <td>Sag T1 3D Space</td>\n",
       "      <td>Tra DWI</td>\n",
       "      <td>None</td>\n",
       "      <td>None</td>\n",
       "      <td>None</td>\n",
       "      <td>None</td>\n",
       "      <td>None</td>\n",
       "      <td>None</td>\n",
       "      <td>None</td>\n",
       "      <td>None</td>\n",
       "      <td>None</td>\n",
       "      <td>None</td>\n",
       "      <td>None</td>\n",
       "      <td>None</td>\n",
       "    </tr>\n",
       "    <tr>\n",
       "      <th>2</th>\n",
       "      <td>MR KC3: Caput Cerebralt infarkt(MRKCINF)</td>\n",
       "      <td>Nativ</td>\n",
       "      <td>Sag T1 TSE</td>\n",
       "      <td>Tra T2 4mm</td>\n",
       "      <td>Tra Flair  4mm</td>\n",
       "      <td>Tra SWI</td>\n",
       "      <td>Tra DWI resolve 4mm</td>\n",
       "      <td>None</td>\n",
       "      <td>None</td>\n",
       "      <td>None</td>\n",
       "      <td>None</td>\n",
       "      <td>None</td>\n",
       "      <td>None</td>\n",
       "      <td>None</td>\n",
       "      <td>None</td>\n",
       "      <td>None</td>\n",
       "    </tr>\n",
       "    <tr>\n",
       "      <th>3</th>\n",
       "      <td>MR KC4: Caput demyeliniserende sykdom (MRKCMS)</td>\n",
       "      <td>Prekontrast</td>\n",
       "      <td>Sag T1 3D Space</td>\n",
       "      <td>Tra DWI</td>\n",
       "      <td>None</td>\n",
       "      <td>None</td>\n",
       "      <td>None</td>\n",
       "      <td>None</td>\n",
       "      <td>None</td>\n",
       "      <td>None</td>\n",
       "      <td>None</td>\n",
       "      <td>None</td>\n",
       "      <td>None</td>\n",
       "      <td>None</td>\n",
       "      <td>None</td>\n",
       "      <td>None</td>\n",
       "    </tr>\n",
       "  </tbody>\n",
       "</table>\n",
       "</div>"
      ],
      "text/plain": [
       "                                    Protocol name        Nativ  \\\n",
       "0         MR KC1: Caput standard utredning (MRKC)        Nativ   \n",
       "1                MR KC2: Caput m/kontrast (MRKCK)  Prekontrast   \n",
       "2        MR KC3: Caput Cerebralt infarkt(MRKCINF)        Nativ   \n",
       "3  MR KC4: Caput demyeliniserende sykdom (MRKCMS)  Prekontrast   \n",
       "\n",
       "          Siemens_1   Siemens_2        Siemens_3   Siemens_4  \\\n",
       "0  Sag T1 3D mprage     Tra DWI  Sag 3D Flair FS  Tra T2 TSE   \n",
       "1   Sag T1 3D Space     Tra DWI             None        None   \n",
       "2        Sag T1 TSE  Tra T2 4mm   Tra Flair  4mm     Tra SWI   \n",
       "3   Sag T1 3D Space     Tra DWI             None        None   \n",
       "\n",
       "             Siemens_5 Siemens_6 Siemens_7 Siemens_8 Siemens_9 Siemens_10  \\\n",
       "0                 None      None      None      None      None       None   \n",
       "1                 None      None      None      None      None       None   \n",
       "2  Tra DWI resolve 4mm      None      None      None      None       None   \n",
       "3                 None      None      None      None      None       None   \n",
       "\n",
       "  Siemens_11 Siemens_12 Siemens_13 Siemens_14  \n",
       "0       None       None       None       None  \n",
       "1       None       None       None       None  \n",
       "2       None       None       None       None  \n",
       "3       None       None       None       None  "
      ]
     },
     "execution_count": 6,
     "metadata": {},
     "output_type": "execute_result"
    }
   ],
   "source": [
    "siemens_antall_precontrast = siemens_pre_contrast['Siemens'].str.split(',', expand=True)\n",
    "antall = len(siemens_antall_precontrast.columns)\n",
    "siemens_antall_precontrast.columns = make_columns(antall, 'Siemens')\n",
    "siemens_pre_contrast = siemens_pre_contrast[['Protocol name', 'Nativ']].join(siemens_antall_precontrast)\n",
    "siemens_pre_contrast.to_csv('siemens.csv')\n",
    "siemens_pre_contrast.head(4)"
   ]
  },
  {
   "cell_type": "code",
   "execution_count": 7,
   "metadata": {},
   "outputs": [],
   "source": [
    "def split_sequence(elements):\n",
    "    for key in data.keys():\n",
    "        if isinstance(elements, str):\n",
    "            #elements = sequence_string.split(' ')\n",
    "            #for element in elements:\n",
    "            if key == 'plane':\n",
    "                search_plane(elements, key)\n",
    "            elif key == 'sequence contrast':\n",
    "                search_sequence_type(elements, key)\n",
    "            else:\n",
    "                continue\n",
    "        else:\n",
    "            data[key].append(np.nan)"
   ]
  },
  {
   "cell_type": "code",
   "execution_count": 26,
   "metadata": {},
   "outputs": [],
   "source": [
    "def search_plane(element, key):\n",
    "    result = re.search('sag|cor|tra|neu', element, re.IGNORECASE)\n",
    "    if result:\n",
    "        term = result.group(0)\n",
    "        term = term.lower()\n",
    "        term = term[0].upper()+term[1:]\n",
    "        data[key].append(term)\n",
    "    else:\n",
    "        data[key].append(np.nan)"
   ]
  },
  {
   "cell_type": "code",
   "execution_count": 33,
   "metadata": {},
   "outputs": [],
   "source": [
    "def search_sequence_type(element, key):\n",
    "    result =  re.search('T1|T2|DWI|PD', element, re.IGNORECASE)\n",
    "    if result:\n",
    "        data[key].append(result.group(0))\n",
    "    else:\n",
    "        data[key].append(np.nan)\n",
    "    "
   ]
  },
  {
   "cell_type": "code",
   "execution_count": 34,
   "metadata": {},
   "outputs": [],
   "source": [
    "pandas_series = siemens_pre_contrast['Siemens_1']\n",
    "data = {'plane':[], 'sequence contrast':[]}\n",
    "for entry in pandas_series.tolist():\n",
    "        split_sequence(entry)"
   ]
  },
  {
   "cell_type": "code",
   "execution_count": 35,
   "metadata": {},
   "outputs": [
    {
     "data": {
      "text/plain": [
       "'T1'"
      ]
     },
     "execution_count": 35,
     "metadata": {},
     "output_type": "execute_result"
    }
   ],
   "source": [
    "test = 'Sag T1 3D mprage'\n",
    "re.search('T1|T2', test).group(0)"
   ]
  },
  {
   "cell_type": "code",
   "execution_count": 38,
   "metadata": {},
   "outputs": [],
   "source": [
    "pd.DataFrame(data).to_csv('plane_contrast.csv')"
   ]
  },
  {
   "cell_type": "code",
   "execution_count": 40,
   "metadata": {},
   "outputs": [
    {
     "data": {
      "text/html": [
       "<div>\n",
       "<style scoped>\n",
       "    .dataframe tbody tr th:only-of-type {\n",
       "        vertical-align: middle;\n",
       "    }\n",
       "\n",
       "    .dataframe tbody tr th {\n",
       "        vertical-align: top;\n",
       "    }\n",
       "\n",
       "    .dataframe thead th {\n",
       "        text-align: right;\n",
       "    }\n",
       "</style>\n",
       "<table border=\"1\" class=\"dataframe\">\n",
       "  <thead>\n",
       "    <tr style=\"text-align: right;\">\n",
       "      <th></th>\n",
       "      <th>plane</th>\n",
       "      <th>sequence contrast</th>\n",
       "    </tr>\n",
       "  </thead>\n",
       "  <tbody>\n",
       "    <tr>\n",
       "      <th>0</th>\n",
       "      <td>Sag</td>\n",
       "      <td>T1</td>\n",
       "    </tr>\n",
       "    <tr>\n",
       "      <th>1</th>\n",
       "      <td>Sag</td>\n",
       "      <td>T1</td>\n",
       "    </tr>\n",
       "    <tr>\n",
       "      <th>2</th>\n",
       "      <td>Sag</td>\n",
       "      <td>T1</td>\n",
       "    </tr>\n",
       "    <tr>\n",
       "      <th>3</th>\n",
       "      <td>Sag</td>\n",
       "      <td>T1</td>\n",
       "    </tr>\n",
       "    <tr>\n",
       "      <th>4</th>\n",
       "      <td>Sag</td>\n",
       "      <td>T1</td>\n",
       "    </tr>\n",
       "    <tr>\n",
       "      <th>...</th>\n",
       "      <td>...</td>\n",
       "      <td>...</td>\n",
       "    </tr>\n",
       "    <tr>\n",
       "      <th>57</th>\n",
       "      <td>Cor</td>\n",
       "      <td>T2</td>\n",
       "    </tr>\n",
       "    <tr>\n",
       "      <th>58</th>\n",
       "      <td>Cor</td>\n",
       "      <td>T2</td>\n",
       "    </tr>\n",
       "    <tr>\n",
       "      <th>59</th>\n",
       "      <td>Cor</td>\n",
       "      <td>T1</td>\n",
       "    </tr>\n",
       "    <tr>\n",
       "      <th>60</th>\n",
       "      <td>Cor</td>\n",
       "      <td>T1</td>\n",
       "    </tr>\n",
       "    <tr>\n",
       "      <th>61</th>\n",
       "      <td>Cor</td>\n",
       "      <td>T1</td>\n",
       "    </tr>\n",
       "  </tbody>\n",
       "</table>\n",
       "<p>62 rows × 2 columns</p>\n",
       "</div>"
      ],
      "text/plain": [
       "   plane sequence contrast\n",
       "0    Sag                T1\n",
       "1    Sag                T1\n",
       "2    Sag                T1\n",
       "3    Sag                T1\n",
       "4    Sag                T1\n",
       "..   ...               ...\n",
       "57   Cor                T2\n",
       "58   Cor                T2\n",
       "59   Cor                T1\n",
       "60   Cor                T1\n",
       "61   Cor                T1\n",
       "\n",
       "[62 rows x 2 columns]"
      ]
     },
     "execution_count": 40,
     "metadata": {},
     "output_type": "execute_result"
    }
   ],
   "source": [
    "results = pd.DataFrame(data)\n",
    "results"
   ]
  },
  {
   "cell_type": "code",
   "execution_count": 13,
   "metadata": {},
   "outputs": [
    {
     "ename": "NameError",
     "evalue": "name 'sequence_contrast' is not defined",
     "output_type": "error",
     "traceback": [
      "\u001b[0;31m---------------------------------------------------------------------------\u001b[0m",
      "\u001b[0;31mNameError\u001b[0m                                 Traceback (most recent call last)",
      "\u001b[0;32m/tmp/ipykernel_28597/442527075.py\u001b[0m in \u001b[0;36m<module>\u001b[0;34m\u001b[0m\n\u001b[0;32m----> 1\u001b[0;31m \u001b[0mlen\u001b[0m\u001b[0;34m(\u001b[0m\u001b[0msequence_contrast\u001b[0m\u001b[0;34m)\u001b[0m\u001b[0;34m\u001b[0m\u001b[0;34m\u001b[0m\u001b[0m\n\u001b[0m",
      "\u001b[0;31mNameError\u001b[0m: name 'sequence_contrast' is not defined"
     ]
    }
   ],
   "source": [
    "len(sequence_contrast)"
   ]
  },
  {
   "cell_type": "code",
   "execution_count": null,
   "metadata": {},
   "outputs": [
    {
     "data": {
      "text/plain": [
       "['Sag', 'T1', '3D', 'mpgrage']"
      ]
     },
     "execution_count": 14,
     "metadata": {},
     "output_type": "execute_result"
    }
   ],
   "source": [
    "test_string = 'Sag T1 3D mpgrage'\n",
    "test_string.split(' ')"
   ]
  },
  {
   "cell_type": "code",
   "execution_count": null,
   "metadata": {},
   "outputs": [
    {
     "data": {
      "text/plain": [
       "Sag T1 3D mprage                 11\n",
       "Sag T1 TSE                        9\n",
       "                                  5\n",
       "Sag T1 3D Space                   3\n",
       "Cor T1 3D Vibe Dixon              3\n",
       "Cor T2                            2\n",
       "Cor T2 TSE Dixon 3mm (IP + W)     2\n",
       "Tra / Sag loc                     2\n",
       "Sag T2 TSE                        2\n",
       "Tra DWI (b0 og b1000)             1\n",
       "Sag T2 TSE Dixon                  1\n",
       "Cor T2 3D STIR Space              1\n",
       "Sagittal snittføring              1\n",
       "Sag TSE PD DIXON 2 mm             1\n",
       "Neutral stilling av c.col:        1\n",
       "Sag T1 TSE  Dixon                 1\n",
       "Sag T1 3D Vibe Dixon (FS)         1\n",
       "Sag  T1 TSE                       1\n",
       "Sag T1 SE                         1\n",
       "Sag T1 TSE 4 mm                   1\n",
       "Sag T1 Dixon                      1\n",
       "Sag T1 3D Space Black Blood       1\n",
       "Sag T1 3mm                        1\n",
       "Sag T1 3D SPACE                   1\n",
       "Tra 3D TOF                        1\n",
       "Tra DWI 5 mm                      1\n",
       "Cor 2D TOF                        1\n",
       "Sag T2                            1\n",
       "Name: Siemens_1, dtype: int64"
      ]
     },
     "execution_count": 15,
     "metadata": {},
     "output_type": "execute_result"
    }
   ],
   "source": [
    "siemens_pre_contrast['Siemens_1'].value_counts()"
   ]
  },
  {
   "cell_type": "code",
   "execution_count": null,
   "metadata": {},
   "outputs": [],
   "source": []
  }
 ],
 "metadata": {
  "interpreter": {
   "hash": "a314c34fe783044484b6bbcefc292e5d28e3cebe6570c7c1dc055ee208b3313c"
  },
  "kernelspec": {
   "display_name": "Python 3.10.4 ('mri_protocols')",
   "language": "python",
   "name": "python3"
  },
  "language_info": {
   "codemirror_mode": {
    "name": "ipython",
    "version": 3
   },
   "file_extension": ".py",
   "mimetype": "text/x-python",
   "name": "python",
   "nbconvert_exporter": "python",
   "pygments_lexer": "ipython3",
   "version": "3.7.12"
  },
  "orig_nbformat": 4
 },
 "nbformat": 4,
 "nbformat_minor": 2
}
