{
 "cells": [
  {
   "cell_type": "code",
   "execution_count": 3,
   "metadata": {
    "collapsed": true,
    "jupyter": {
     "outputs_hidden": true
    }
   },
   "outputs": [],
   "source": [
    "import pandas as pd\n",
    "import requests\n",
    "import numpy as np\n",
    "from bs4 import BeautifulSoup as bs"
   ]
  },
  {
   "cell_type": "code",
   "execution_count": 4,
   "metadata": {
    "collapsed": false,
    "jupyter": {
     "outputs_hidden": false
    },
    "pycharm": {
     "name": "#%%\n"
    }
   },
   "outputs": [],
   "source": [
    "print_url = 'https://ehandboken.ous-hf.no/Printing/PrintDocument?documentId='"
   ]
  },
  {
   "cell_type": "code",
   "execution_count": 5,
   "metadata": {
    "collapsed": false,
    "jupyter": {
     "outputs_hidden": false
    },
    "pycharm": {
     "name": "#%%\n"
    }
   },
   "outputs": [],
   "source": [
    "url = \"https://ehandboken.ous-hf.no/Printing/PrintDocument?documentId=84546\""
   ]
  },
  {
   "cell_type": "code",
   "execution_count": 6,
   "metadata": {
    "collapsed": false,
    "jupyter": {
     "outputs_hidden": false
    },
    "pycharm": {
     "name": "#%%\n"
    }
   },
   "outputs": [],
   "source": [
    "response = requests.get(url)"
   ]
  },
  {
   "cell_type": "code",
   "execution_count": 7,
   "metadata": {
    "collapsed": false,
    "jupyter": {
     "outputs_hidden": false
    },
    "pycharm": {
     "name": "#%%\n"
    }
   },
   "outputs": [],
   "source": [
    "soup = bs(response.text, 'lxml')"
   ]
  },
  {
   "cell_type": "code",
   "execution_count": 8,
   "metadata": {
    "collapsed": false,
    "jupyter": {
     "outputs_hidden": false
    },
    "pycharm": {
     "name": "#%%\n"
    }
   },
   "outputs": [],
   "source": [
    "links = soup.find_all('a')"
   ]
  },
  {
   "cell_type": "code",
   "execution_count": 9,
   "metadata": {
    "collapsed": false,
    "jupyter": {
     "outputs_hidden": false
    },
    "pycharm": {
     "name": "#%%\n"
    }
   },
   "outputs": [],
   "source": [
    "print_links = []\n",
    "for a in links:\n",
    "    names_and_numbers = {}\n",
    "    document_id = a['href'].split('/')[-1]\n",
    "    names_and_numbers['Title'] = a.text.replace(u'\\xa0', u' ')\n",
    "    names_and_numbers['Document_id'] = document_id\n",
    "    names_and_numbers['print_url'] = print_url+document_id\n",
    "    print_links.append(names_and_numbers)"
   ]
  },
  {
   "cell_type": "code",
   "execution_count": 10,
   "metadata": {
    "collapsed": false,
    "jupyter": {
     "outputs_hidden": false
    },
    "pycharm": {
     "name": "#%%\n"
    }
   },
   "outputs": [
    {
     "data": {
      "text/plain": "[{'Title': 'MR KC1: Caput standard utredning (MRKC)',\n  'Document_id': '14633',\n  'print_url': 'https://ehandboken.ous-hf.no/Printing/PrintDocument?documentId=14633'},\n {'Title': 'MR KC2: Caput m/kontrast (MRKCK)',\n  'Document_id': '14629',\n  'print_url': 'https://ehandboken.ous-hf.no/Printing/PrintDocument?documentId=14629'},\n {'Title': 'MR KC3: Caput Cerebralt infarkt(MRKCINF)',\n  'Document_id': '14706',\n  'print_url': 'https://ehandboken.ous-hf.no/Printing/PrintDocument?documentId=14706'},\n {'Title': 'MR KC4: Caput demyeliniserende sykdom (MRKCMS)',\n  'Document_id': '14708',\n  'print_url': 'https://ehandboken.ous-hf.no/Printing/PrintDocument?documentId=14708'},\n {'Title': 'MR KC5: Caput Traume (MRKCTR)',\n  'Document_id': '109137',\n  'print_url': 'https://ehandboken.ous-hf.no/Printing/PrintDocument?documentId=109137'},\n {'Title': 'MR KC6: Vaskulitt (MRKCVAS)',\n  'Document_id': '127840',\n  'print_url': 'https://ehandboken.ous-hf.no/Printing/PrintDocument?documentId=127840'},\n {'Title': 'MR KC7: Caput Epilepsi (MRKCEPI)',\n  'Document_id': '14676',\n  'print_url': 'https://ehandboken.ous-hf.no/Printing/PrintDocument?documentId=14676'},\n {'Title': 'MR KC8: Caput Ikke-kontrastladende tumor (MRKCGLIOP)',\n  'Document_id': '127839',\n  'print_url': 'https://ehandboken.ous-hf.no/Printing/PrintDocument?documentId=127839'},\n {'Title': 'MR KC9: Caput Cerebral infeksjon (MRKCI)',\n  'Document_id': '14685',\n  'print_url': 'https://ehandboken.ous-hf.no/Printing/PrintDocument?documentId=14685'},\n {'Title': 'MR KC10: Caput Postoperativ benign tumor (MRKCOPBEN)',\n  'Document_id': '14715',\n  'print_url': 'https://ehandboken.ous-hf.no/Printing/PrintDocument?documentId=14715'},\n {'Title': 'MR KC11: Caput Trombektomi (RH) (MRKC11)',\n  'Document_id': '142195',\n  'print_url': 'https://ehandboken.ous-hf.no/Printing/PrintDocument?documentId=142195'},\n {'Title': 'MR KC12: Caput Akutt cerebralt infarkt(MRKCINF+)',\n  'Document_id': '14693',\n  'print_url': 'https://ehandboken.ous-hf.no/Printing/PrintDocument?documentId=14693'},\n {'Title': 'MR KC13: Caput Skallebasis (MRKCBASISEP)',\n  'Document_id': '14739',\n  'print_url': 'https://ehandboken.ous-hf.no/Printing/PrintDocument?documentId=14739'},\n {'Title': 'MR KC15: Caput Nevrodegenerative sykdommer',\n  'Document_id': '14671',\n  'print_url': 'https://ehandboken.ous-hf.no/Printing/PrintDocument?documentId=14671'},\n {'Title': 'MR KC16: Caput Demyeliniserende sykdom uten iv kontrast (MRKCMSUTEN)',\n  'Document_id': '135370',\n  'print_url': 'https://ehandboken.ous-hf.no/Printing/PrintDocument?documentId=135370'},\n {'Title': 'MR KC17: Caput Hydrocephalus. (MRKCFLOW)',\n  'Document_id': '14678',\n  'print_url': 'https://ehandboken.ous-hf.no/Printing/PrintDocument?documentId=14678'},\n {'Title': 'MR KC18: Caput Disseksjon (MRKCDIS)',\n  'Document_id': '14737',\n  'print_url': 'https://ehandboken.ous-hf.no/Printing/PrintDocument?documentId=14737'},\n {'Title': 'MR KC21: Caput Navigasjon (MRKCNAV)',\n  'Document_id': '14710',\n  'print_url': 'https://ehandboken.ous-hf.no/Printing/PrintDocument?documentId=14710'},\n {'Title': 'MR KC25: Caput Venesinus (MRKCVGR)',\n  'Document_id': '14718',\n  'print_url': 'https://ehandboken.ous-hf.no/Printing/PrintDocument?documentId=14718'},\n {'Title': 'MR KC25A: Caput SVT hos gravide (MRKCSVTGRA)',\n  'Document_id': '127841',\n  'print_url': 'https://ehandboken.ous-hf.no/Printing/PrintDocument?documentId=127841'},\n {'Title': 'MR KC26: Caput Sinus/venetrombose (MRKCSVT)',\n  'Document_id': '14719',\n  'print_url': 'https://ehandboken.ous-hf.no/Printing/PrintDocument?documentId=14719'},\n {'Title': 'MR KC28: Caput AVM (MRKCAVM)',\n  'Document_id': '14636',\n  'print_url': 'https://ehandboken.ous-hf.no/Printing/PrintDocument?documentId=14636'},\n {'Title': 'MR KC29: Caput Aneurysme (MRKCANEUR)',\n  'Document_id': '14632',\n  'print_url': 'https://ehandboken.ous-hf.no/Printing/PrintDocument?documentId=14632'},\n {'Title': 'MR KC30: Caput Nasopharynx/ansikt (MRFA)',\n  'Document_id': '109194',\n  'print_url': 'https://ehandboken.ous-hf.no/Printing/PrintDocument?documentId=109194'},\n {'Title': 'MR KC33: Caput NVK (MRKCNVK)',\n  'Document_id': '14930',\n  'print_url': 'https://ehandboken.ous-hf.no/Printing/PrintDocument?documentId=14930'},\n {'Title': 'MR KC39: Caput PO 48/72 timer kontrastladende tumor (MRKC39)',\n  'Document_id': '142067',\n  'print_url': 'https://ehandboken.ous-hf.no/Printing/PrintDocument?documentId=142067'},\n {'Title': 'MR KCP1: Caput Brain tumor prosjekt preoperativ',\n  'Document_id': '14733',\n  'print_url': 'https://ehandboken.ous-hf.no/Printing/PrintDocument?documentId=14733'},\n {'Title': 'MRKCANG1: Cerebral angiografi uten iv-kontrast (MRKCANG)',\n  'Document_id': '14634',\n  'print_url': 'https://ehandboken.ous-hf.no/Printing/PrintDocument?documentId=14634'},\n {'Title': 'MRKCANG2: Cerebral angiografi med iv-kontrast (US MR NMR3: Tricks hode/rygg)',\n  'Document_id': '15540',\n  'print_url': 'https://ehandboken.ous-hf.no/Printing/PrintDocument?documentId=15540'},\n {'Title': 'MRCMANG1: Halsarterier med iv-kontrast (MRCMANG1)',\n  'Document_id': '47085',\n  'print_url': 'https://ehandboken.ous-hf.no/Printing/PrintDocument?documentId=47085'},\n {'Title': 'MRCCANG: Cervicale angio med iv-kontrast (US MR NMR3: Tricks hode/rygg)',\n  'Document_id': '15540',\n  'print_url': 'https://ehandboken.ous-hf.no/Printing/PrintDocument?documentId=15540'},\n {'Title': 'MRCDANG: Thorachale angio med iv-kontrast (US MR NMR3: Tricks hode/rygg)',\n  'Document_id': '15540',\n  'print_url': 'https://ehandboken.ous-hf.no/Printing/PrintDocument?documentId=15540'},\n {'Title': 'MRCLANG: Lumbal angio med iv-kontrast (US MR NMR3: Tricks hode/rygg)',\n  'Document_id': '15540',\n  'print_url': 'https://ehandboken.ous-hf.no/Printing/PrintDocument?documentId=15540'},\n {'Title': 'MR SE1: Hypofyse lesjon',\n  'Document_id': '15608',\n  'print_url': 'https://ehandboken.ous-hf.no/Printing/PrintDocument?documentId=15608'},\n {'Title': 'MR ORB1 MR: Orbita Standard (MRORB)',\n  'Document_id': '16069',\n  'print_url': 'https://ehandboken.ous-hf.no/Printing/PrintDocument?documentId=16069'},\n {'Title': 'MR ORB2 MR: Orbita m/kontrast (MRORBK)',\n  'Document_id': '16082',\n  'print_url': 'https://ehandboken.ous-hf.no/Printing/PrintDocument?documentId=16082'},\n {'Title': 'MR ORB3 MR: Orbita. Opticus nevritt (MRORBMS)',\n  'Document_id': '16072',\n  'print_url': 'https://ehandboken.ous-hf.no/Printing/PrintDocument?documentId=16072'},\n {'Title': 'MR KVAR: Kjeveledd (MRKVAR)',\n  'Document_id': '15779',\n  'print_url': 'https://ehandboken.ous-hf.no/Printing/PrintDocument?documentId=15779'},\n {'Title': 'MR CPV 1: Tinningben,  CPV lesjoner',\n  'Document_id': '15786',\n  'print_url': 'https://ehandboken.ous-hf.no/Printing/PrintDocument?documentId=15786'},\n {'Title': 'MR CPV 2: Tinningben, labyrintlesjoner',\n  'Document_id': '15789',\n  'print_url': 'https://ehandboken.ous-hf.no/Printing/PrintDocument?documentId=15789'},\n {'Title': 'MRCMK',\n  'Document_id': '112528',\n  'print_url': 'https://ehandboken.ous-hf.no/Printing/PrintDocument?documentId=112528'},\n {'Title': 'MR CCCDCL1: Prolaps',\n  'Document_id': '16307',\n  'print_url': 'https://ehandboken.ous-hf.no/Printing/PrintDocument?documentId=16307'},\n {'Title': 'MR CCCDCL2: Traume',\n  'Document_id': '17180',\n  'print_url': 'https://ehandboken.ous-hf.no/Printing/PrintDocument?documentId=17180'},\n {'Title': 'MR CCCD3: Demyeliniserende sykdom',\n  'Document_id': '17187',\n  'print_url': 'https://ehandboken.ous-hf.no/Printing/PrintDocument?documentId=17187'},\n {'Title': 'MR CCCD4: Syrinx',\n  'Document_id': '17204',\n  'print_url': 'https://ehandboken.ous-hf.no/Printing/PrintDocument?documentId=17204'},\n {'Title': 'MR CCCDCL5: Tumor ',\n  'Document_id': '19408',\n  'print_url': 'https://ehandboken.ous-hf.no/Printing/PrintDocument?documentId=19408'},\n {'Title': 'MR CCCDCL6: Postoperativ arrvev/prolaps',\n  'Document_id': '17103',\n  'print_url': 'https://ehandboken.ous-hf.no/Printing/PrintDocument?documentId=17103'},\n {'Title': 'MR CCCDCL7: Infeksjon/abscess',\n  'Document_id': '19444',\n  'print_url': 'https://ehandboken.ous-hf.no/Printing/PrintDocument?documentId=19444'},\n {'Title': 'MR CCCDCL8: Primær bentumor',\n  'Document_id': '19429',\n  'print_url': 'https://ehandboken.ous-hf.no/Printing/PrintDocument?documentId=19429'},\n {'Title': 'MR CCCD9: Columna/medulla infarkt',\n  'Document_id': '137201',\n  'print_url': 'https://ehandboken.ous-hf.no/Printing/PrintDocument?documentId=137201'},\n {'Title': 'MR CCCDCL10: Intramedullær/vaskulær malformasjon',\n  'Document_id': '17284',\n  'print_url': 'https://ehandboken.ous-hf.no/Printing/PrintDocument?documentId=17284'},\n {'Title': 'MR CCCDCL11: Columna drop',\n  'Document_id': '19402',\n  'print_url': 'https://ehandboken.ous-hf.no/Printing/PrintDocument?documentId=19402'},\n {'Title': 'MR CCCDCL12: Metastase/ Medullakompresjon ',\n  'Document_id': '102282',\n  'print_url': 'https://ehandboken.ous-hf.no/Printing/PrintDocument?documentId=102282'},\n {'Title': 'MR CCCDCL13: Screening',\n  'Document_id': '19446',\n  'print_url': 'https://ehandboken.ous-hf.no/Printing/PrintDocument?documentId=19446'},\n {'Title': 'MR CCCDCL14: Araknoiditt',\n  'Document_id': '17278',\n  'print_url': 'https://ehandboken.ous-hf.no/Printing/PrintDocument?documentId=17278'},\n {'Title': 'MR CCCD15: Epidural lipomatose',\n  'Document_id': '17202',\n  'print_url': 'https://ehandboken.ous-hf.no/Printing/PrintDocument?documentId=17202'},\n {'Title': 'MR CCCDCL16: Myelografi',\n  'Document_id': '135575',\n  'print_url': 'https://ehandboken.ous-hf.no/Printing/PrintDocument?documentId=135575'},\n {'Title': 'MR CCCDCL17: Før vertebroplastikk ',\n  'Document_id': '98755',\n  'print_url': 'https://ehandboken.ous-hf.no/Printing/PrintDocument?documentId=98755'},\n {'Title': 'MR CCCDCL 18: Myelitt.Polyradiculitt',\n  'Document_id': '130925',\n  'print_url': 'https://ehandboken.ous-hf.no/Printing/PrintDocument?documentId=130925'},\n {'Title': 'MR CCD19: Demyeliniserende sykdom uten iv kontrast',\n  'Document_id': '142204',\n  'print_url': 'https://ehandboken.ous-hf.no/Printing/PrintDocument?documentId=142204'},\n {'Title': 'MR CC21: Cervicalcolumna Neuroswing ',\n  'Document_id': '15428',\n  'print_url': 'https://ehandboken.ous-hf.no/Printing/PrintDocument?documentId=15428'},\n {'Title': 'MR CC 22: Craniocervikal overgang. Alare ligament (MRCCALARELIGAMENT)',\n  'Document_id': '134694',\n  'print_url': 'https://ehandboken.ous-hf.no/Printing/PrintDocument?documentId=134694'},\n {'Title': 'MR CLP: MODIC-studien Lumbalcolumna (MRCLMODIC)',\n  'Document_id': '140701',\n  'print_url': 'https://ehandboken.ous-hf.no/Printing/PrintDocument?documentId=140701'},\n {'Title': 'MR PB1: Plexus brachialis. Standard',\n  'Document_id': '16101',\n  'print_url': 'https://ehandboken.ous-hf.no/Printing/PrintDocument?documentId=16101'},\n {'Title': 'MR PB2: Plexus brachialis traume',\n  'Document_id': '46747',\n  'print_url': 'https://ehandboken.ous-hf.no/Printing/PrintDocument?documentId=46747'},\n {'Title': 'MR PB3: Plexus brachialis tumor',\n  'Document_id': '47033',\n  'print_url': 'https://ehandboken.ous-hf.no/Printing/PrintDocument?documentId=47033'},\n {'Title': 'MR PL1: Plexus lumbosacralis standard',\n  'Document_id': '16106',\n  'print_url': 'https://ehandboken.ous-hf.no/Printing/PrintDocument?documentId=16106'},\n {'Title': 'MR PL2: Plexus lumbosacralis traume',\n  'Document_id': '45399',\n  'print_url': 'https://ehandboken.ous-hf.no/Printing/PrintDocument?documentId=45399'},\n {'Title': 'MR PL3: Plexus lumbosacralis tumor',\n  'Document_id': '16108',\n  'print_url': 'https://ehandboken.ous-hf.no/Printing/PrintDocument?documentId=16108'},\n {'Title': 'MR NMR3: Cerebral Angio MIP',\n  'Document_id': '15484',\n  'print_url': 'https://ehandboken.ous-hf.no/Printing/PrintDocument?documentId=15484'},\n {'Title': 'MR NMR3: Perfusjon',\n  'Document_id': '15513',\n  'print_url': 'https://ehandboken.ous-hf.no/Printing/PrintDocument?documentId=15513'},\n {'Title': 'MR NMR3: Post pros. DWI-scan',\n  'Document_id': '15519',\n  'print_url': 'https://ehandboken.ous-hf.no/Printing/PrintDocument?documentId=15519'},\n {'Title': 'MR NMR3: Post pros. Myelo',\n  'Document_id': '15521',\n  'print_url': 'https://ehandboken.ous-hf.no/Printing/PrintDocument?documentId=15521'},\n {'Title': 'MR NMR3: Spectroskopi',\n  'Document_id': '15523',\n  'print_url': 'https://ehandboken.ous-hf.no/Printing/PrintDocument?documentId=15523'},\n {'Title': 'MR NMR3: Spectroskopi med Hi Order Shim',\n  'Document_id': '15527',\n  'print_url': 'https://ehandboken.ous-hf.no/Printing/PrintDocument?documentId=15527'},\n {'Title': 'MR NMR3: SWI post pros',\n  'Document_id': '15537',\n  'print_url': 'https://ehandboken.ous-hf.no/Printing/PrintDocument?documentId=15537'},\n {'Title': 'MR NMR3: Tensor(DTI)',\n  'Document_id': '15539',\n  'print_url': 'https://ehandboken.ous-hf.no/Printing/PrintDocument?documentId=15539'},\n {'Title': 'MR NMR3: Tricks hode/rygg',\n  'Document_id': '15540',\n  'print_url': 'https://ehandboken.ous-hf.no/Printing/PrintDocument?documentId=15540'},\n {'Title': 'MR BKC1: Caput Asfyksi',\n  'Document_id': '18135',\n  'print_url': 'https://ehandboken.ous-hf.no/Printing/PrintDocument?documentId=18135'},\n {'Title': 'MR BKC3: Caput Infarkt akutt',\n  'Document_id': '18139',\n  'print_url': 'https://ehandboken.ous-hf.no/Printing/PrintDocument?documentId=18139'},\n {'Title': ' 0-2 år',\n  'Document_id': '18139',\n  'print_url': 'https://ehandboken.ous-hf.no/Printing/PrintDocument?documentId=18139'},\n {'Title': 'MR BKC4: Caput Infarkt kronisk',\n  'Document_id': '18141',\n  'print_url': 'https://ehandboken.ous-hf.no/Printing/PrintDocument?documentId=18141'},\n {'Title': ' Spebarn og barn 0-2 år',\n  'Document_id': '18141',\n  'print_url': 'https://ehandboken.ous-hf.no/Printing/PrintDocument?documentId=18141'},\n {'Title': 'MR BKC5: Caput Blødning 0-2 år',\n  'Document_id': '18143',\n  'print_url': 'https://ehandboken.ous-hf.no/Printing/PrintDocument?documentId=18143'},\n {'Title': 'MR BKC6: Caput Kramper',\n  'Document_id': '18145',\n  'print_url': 'https://ehandboken.ous-hf.no/Printing/PrintDocument?documentId=18145'},\n {'Title': ' Spebarn og barn 0-2 år',\n  'Document_id': '18145',\n  'print_url': 'https://ehandboken.ous-hf.no/Printing/PrintDocument?documentId=18145'},\n {'Title': 'MR BKC7: Caput Infeksjon',\n  'Document_id': '18146',\n  'print_url': 'https://ehandboken.ous-hf.no/Printing/PrintDocument?documentId=18146'},\n {'Title': ' Spebarn og barn 0-2 år',\n  'Document_id': '18146',\n  'print_url': 'https://ehandboken.ous-hf.no/Printing/PrintDocument?documentId=18146'},\n {'Title': 'MR BKC8: Caput Metabolske sykdommer',\n  'Document_id': '18147',\n  'print_url': 'https://ehandboken.ous-hf.no/Printing/PrintDocument?documentId=18147'},\n {'Title': 'MR BKC9: Caput Hydrocephalus',\n  'Document_id': '18149',\n  'print_url': 'https://ehandboken.ous-hf.no/Printing/PrintDocument?documentId=18149'},\n {'Title': ' Spebarn og barn 0-2 år',\n  'Document_id': '18149',\n  'print_url': 'https://ehandboken.ous-hf.no/Printing/PrintDocument?documentId=18149'},\n {'Title': 'MR BKC9A: Caput Hydrocephalus. Barn over 2 år',\n  'Document_id': '128169',\n  'print_url': 'https://ehandboken.ous-hf.no/Printing/PrintDocument?documentId=128169'},\n {'Title': 'MR BKC10: Caput Hodetraume akutt, inkl. non-accidental',\n  'Document_id': '18150',\n  'print_url': 'https://ehandboken.ous-hf.no/Printing/PrintDocument?documentId=18150'},\n {'Title': ' trauma',\n  'Document_id': '18150',\n  'print_url': 'https://ehandboken.ous-hf.no/Printing/PrintDocument?documentId=18150'},\n {'Title': 'MR BKC10A: Caput Barnetraume, kun NMR2',\n  'Document_id': '131197',\n  'print_url': 'https://ehandboken.ous-hf.no/Printing/PrintDocument?documentId=131197'},\n {'Title': 'MR BKC11: Caput Sturge Weber Syndrom. Spebarn og barn 0-2 år',\n  'Document_id': '128500',\n  'print_url': 'https://ehandboken.ous-hf.no/Printing/PrintDocument?documentId=128500'},\n {'Title': 'MR BKC12: Caput Infeksjon.',\n  'Document_id': '18165',\n  'print_url': 'https://ehandboken.ous-hf.no/Printing/PrintDocument?documentId=18165'},\n {'Title': ' Barn iover 2 år',\n  'Document_id': '18165',\n  'print_url': 'https://ehandboken.ous-hf.no/Printing/PrintDocument?documentId=18165'},\n {'Title': 'MR BKC13: Caput Endokrin hypofyseproblematikk',\n  'Document_id': '18166',\n  'print_url': 'https://ehandboken.ous-hf.no/Printing/PrintDocument?documentId=18166'},\n {'Title': 'MR BKC14: Caput Epilepsi.',\n  'Document_id': '18169',\n  'print_url': 'https://ehandboken.ous-hf.no/Printing/PrintDocument?documentId=18169'},\n {'Title': ' Barn over 2 år',\n  'Document_id': '18169',\n  'print_url': 'https://ehandboken.ous-hf.no/Printing/PrintDocument?documentId=18169'},\n {'Title': 'MR BKC15: Caput Tumor cerebri.',\n  'Document_id': '18170',\n  'print_url': 'https://ehandboken.ous-hf.no/Printing/PrintDocument?documentId=18170'},\n {'Title': 'MR BKC17: Caput Blødning Barn over 2 år',\n  'Document_id': '18174',\n  'print_url': 'https://ehandboken.ous-hf.no/Printing/PrintDocument?documentId=18174'},\n {'Title': 'MR BKC18: Caput Infarkt.',\n  'Document_id': '18179',\n  'print_url': 'https://ehandboken.ous-hf.no/Printing/PrintDocument?documentId=18179'},\n {'Title': 'MR BKC19: Caput Utredning forsinket motorikk, mm Barn og spebarn 0-2 år',\n  'Document_id': '18180',\n  'print_url': 'https://ehandboken.ous-hf.no/Printing/PrintDocument?documentId=18180'},\n {'Title': 'MR BKC20: Caput Utredning lærevansker, anoreksi. Barn/ungdom over 2 år',\n  'Document_id': '18181',\n  'print_url': 'https://ehandboken.ous-hf.no/Printing/PrintDocument?documentId=18181'},\n {'Title': 'MR BKC21: Caput Sturge Weber Syndrom. Barn over 2 år',\n  'Document_id': '128171',\n  'print_url': 'https://ehandboken.ous-hf.no/Printing/PrintDocument?documentId=128171'},\n {'Title': 'MR BKC22: Caput Neurocutaneous Melanose. Barn over 3 måneder',\n  'Document_id': '128522',\n  'print_url': 'https://ehandboken.ous-hf.no/Printing/PrintDocument?documentId=128522'},\n {'Title': 'MR BKC23: Caput Cephalocele/ Meningocele/ Meningoencephalocele',\n  'Document_id': '131199',\n  'print_url': 'https://ehandboken.ous-hf.no/Printing/PrintDocument?documentId=131199'},\n {'Title': 'MR BKCF1: Caput Fosterdiagnostikk',\n  'Document_id': '18184',\n  'print_url': 'https://ehandboken.ous-hf.no/Printing/PrintDocument?documentId=18184'},\n {'Title': 'MR Barn BCTOT1: (+BCC1/BCD1/BCL1) Columna, kongenitale malformasjoner',\n  'Document_id': '18196',\n  'print_url': 'https://ehandboken.ous-hf.no/Printing/PrintDocument?documentId=18196'},\n {'Title': 'MR Barn BCTOT2: Columna, drop-metastaser',\n  'Document_id': '18210',\n  'print_url': 'https://ehandboken.ous-hf.no/Printing/PrintDocument?documentId=18210'},\n {'Title': 'MR Barn BCTOT3: (+BCC3/BCD3/BCL3) Columna, tumor',\n  'Document_id': '18200',\n  'print_url': 'https://ehandboken.ous-hf.no/Printing/PrintDocument?documentId=18200'},\n {'Title': 'MR Barn BCTOT4: (+BCC4/BCD4/BCL4) Columna, infeksjon/ spondylodiscitt',\n  'Document_id': '18207',\n  'print_url': 'https://ehandboken.ous-hf.no/Printing/PrintDocument?documentId=18207'},\n {'Title': 'MR Barn BCTOT5: (+BCC5/BCD5/BCL5) Columna skjelettmetastaser',\n  'Document_id': '18208',\n  'print_url': 'https://ehandboken.ous-hf.no/Printing/PrintDocument?documentId=18208'},\n {'Title': 'MR Barn BCTOT7: (+BCC7/BCD7/BCL7) Columna Smerter Stressfraktur',\n  'Document_id': '136394',\n  'print_url': 'https://ehandboken.ous-hf.no/Printing/PrintDocument?documentId=136394'},\n {'Title': 'MR Barn BCTOT8: (+BCC8/BCD8/BCL8) Columna Paravertebral/epidural tumor',\n  'Document_id': '136398',\n  'print_url': 'https://ehandboken.ous-hf.no/Printing/PrintDocument?documentId=136398'},\n {'Title': 'MR Barn BCTOT9: (+BCC9/BCD9/BSL9) Columna Guillain Barre Syndrom',\n  'Document_id': '136402',\n  'print_url': 'https://ehandboken.ous-hf.no/Printing/PrintDocument?documentId=136402'},\n {'Title': 'MR Barn BCC10 Columna Torticollis',\n  'Document_id': '136401',\n  'print_url': 'https://ehandboken.ous-hf.no/Printing/PrintDocument?documentId=136401'},\n {'Title': 'MR Barn BCTOT11: (+BCC11/BCD11/BCL11) Columna Myelitt',\n  'Document_id': '136403',\n  'print_url': 'https://ehandboken.ous-hf.no/Printing/PrintDocument?documentId=136403'},\n {'Title': 'MR Barn BCTOT12: (+BCC12/BCD12/BCL12) Columna Inflammasjon',\n  'Document_id': '136403',\n  'print_url': 'https://ehandboken.ous-hf.no/Printing/PrintDocument?documentId=136403'},\n {'Title': 'MR BCTOT13: Spinalvæske lekkasje',\n  'Document_id': '136406',\n  'print_url': 'https://ehandboken.ous-hf.no/Printing/PrintDocument?documentId=136406'},\n {'Title': 'MR BORB1: Malformasjon',\n  'Document_id': '18189',\n  'print_url': 'https://ehandboken.ous-hf.no/Printing/PrintDocument?documentId=18189'},\n {'Title': 'MR BORB2: Tumor/Infeksjon',\n  'Document_id': '18191',\n  'print_url': 'https://ehandboken.ous-hf.no/Printing/PrintDocument?documentId=18191'},\n {'Title': 'MR BORB3: Orbita, traume',\n  'Document_id': '128989',\n  'print_url': 'https://ehandboken.ous-hf.no/Printing/PrintDocument?documentId=128989'},\n {'Title': 'MR BORB4: Orbita, dermoid cyste/ hemangiom/ lymphatisk malformasjon',\n  'Document_id': '128983',\n  'print_url': 'https://ehandboken.ous-hf.no/Printing/PrintDocument?documentId=128983'},\n {'Title': 'MR BORB5: Orbita, pseudotumor/ inflammasjon',\n  'Document_id': '128990',\n  'print_url': 'https://ehandboken.ous-hf.no/Printing/PrintDocument?documentId=128990'},\n {'Title': 'MR BORB6: Dacrocystografi',\n  'Document_id': '136450',\n  'print_url': 'https://ehandboken.ous-hf.no/Printing/PrintDocument?documentId=136450'},\n {'Title': 'MR BORB7: Retinoblastom',\n  'Document_id': '134627',\n  'print_url': 'https://ehandboken.ous-hf.no/Printing/PrintDocument?documentId=134627'},\n {'Title': 'MR BØNH1: Collum. Tumor. Nevrofibromatose',\n  'Document_id': '18186',\n  'print_url': 'https://ehandboken.ous-hf.no/Printing/PrintDocument?documentId=18186'},\n {'Title': 'MR BØNH2: Ansikt/svelg, tumor/annen patologi',\n  'Document_id': '18187',\n  'print_url': 'https://ehandboken.ous-hf.no/Printing/PrintDocument?documentId=18187'},\n {'Title': 'MR Barn BØNH3: Bihuler',\n  'Document_id': '18188',\n  'print_url': 'https://ehandboken.ous-hf.no/Printing/PrintDocument?documentId=18188'},\n {'Title': 'MR Barn BØNH4: Tinningben/ Skallebasis',\n  'Document_id': '135661',\n  'print_url': 'https://ehandboken.ous-hf.no/Printing/PrintDocument?documentId=135661'},\n {'Title': 'MR Barn BØNH5: Tinningben, cholesteatom',\n  'Document_id': '135669',\n  'print_url': 'https://ehandboken.ous-hf.no/Printing/PrintDocument?documentId=135669'},\n {'Title': 'MR BARN BØNH6: Frontonasal mass',\n  'Document_id': '135671',\n  'print_url': 'https://ehandboken.ous-hf.no/Printing/PrintDocument?documentId=135671'},\n {'Title': ' P rosedyrehjelpen',\n  'Document_id': '105181',\n  'print_url': 'https://ehandboken.ous-hf.no/Printing/PrintDocument?documentId=105181'}]"
     },
     "execution_count": 10,
     "metadata": {},
     "output_type": "execute_result"
    }
   ],
   "source": [
    "print_links"
   ]
  },
  {
   "cell_type": "code",
   "execution_count": 11,
   "metadata": {
    "collapsed": false,
    "jupyter": {
     "outputs_hidden": false
    },
    "pycharm": {
     "name": "#%%\n"
    }
   },
   "outputs": [],
   "source": [
    "def make_table_data(tables):\n",
    "    number_of_items = range(0,3)\n",
    "    rows = tables[5].find_all('tr')\n",
    "    row_data = []\n",
    "    for n in number_of_items:\n",
    "        row_n = []\n",
    "        for element in rows[1].select('td')[n]:\n",
    "            row_data = element.get_text(strip=True, separator=',').replace(u'\\xa0', u' ')\n",
    "            row_n.append(row_data)\n",
    "        clean_list = list(filter(None, row_n))[1:]\n",
    "        data.append(*clean_list)\n",
    "    return row_data\n"
   ]
  },
  {
   "cell_type": "code",
   "execution_count": 12,
   "metadata": {
    "collapsed": false,
    "jupyter": {
     "outputs_hidden": false
    },
    "pycharm": {
     "name": "#%%\n"
    }
   },
   "outputs": [
    {
     "name": "stdout",
     "output_type": "stream",
     "text": [
      "14633\n",
      "['']\n"
     ]
    },
    {
     "ename": "IndexError",
     "evalue": "list index out of range",
     "output_type": "error",
     "traceback": [
      "\u001B[0;31m---------------------------------------------------------------------------\u001B[0m",
      "\u001B[0;31mIndexError\u001B[0m                                Traceback (most recent call last)",
      "Input \u001B[0;32mIn [12]\u001B[0m, in \u001B[0;36m<cell line: 9>\u001B[0;34m()\u001B[0m\n\u001B[1;32m      9\u001B[0m \u001B[38;5;28;01mfor\u001B[39;00m n \u001B[38;5;129;01min\u001B[39;00m number_of_items:\n\u001B[1;32m     10\u001B[0m         row_n \u001B[38;5;241m=\u001B[39m []\n\u001B[0;32m---> 11\u001B[0m         \u001B[38;5;28;01mfor\u001B[39;00m element \u001B[38;5;129;01min\u001B[39;00m \u001B[43mrows\u001B[49m\u001B[43m[\u001B[49m\u001B[38;5;241;43m1\u001B[39;49m\u001B[43m]\u001B[49m\u001B[38;5;241;43m.\u001B[39;49m\u001B[43mselect\u001B[49m\u001B[43m(\u001B[49m\u001B[38;5;124;43m'\u001B[39;49m\u001B[38;5;124;43mtd\u001B[39;49m\u001B[38;5;124;43m'\u001B[39;49m\u001B[43m)\u001B[49m\u001B[43m[\u001B[49m\u001B[43mn\u001B[49m\u001B[43m]\u001B[49m:\n\u001B[1;32m     12\u001B[0m             row_data \u001B[38;5;241m=\u001B[39m element\u001B[38;5;241m.\u001B[39mget_text(strip\u001B[38;5;241m=\u001B[39m\u001B[38;5;28;01mTrue\u001B[39;00m, separator\u001B[38;5;241m=\u001B[39m\u001B[38;5;124m'\u001B[39m\u001B[38;5;124m,\u001B[39m\u001B[38;5;124m'\u001B[39m)\u001B[38;5;241m.\u001B[39mreplace(\u001B[38;5;124mu\u001B[39m\u001B[38;5;124m'\u001B[39m\u001B[38;5;130;01m\\xa0\u001B[39;00m\u001B[38;5;124m'\u001B[39m, \u001B[38;5;124mu\u001B[39m\u001B[38;5;124m'\u001B[39m\u001B[38;5;124m \u001B[39m\u001B[38;5;124m'\u001B[39m)\n\u001B[1;32m     13\u001B[0m             row_n\u001B[38;5;241m.\u001B[39mappend(row_data)\n",
      "\u001B[0;31mIndexError\u001B[0m: list index out of range"
     ]
    }
   ],
   "source": [
    "link = print_links[0]\n",
    "print(link['Document_id'])\n",
    "print_response = requests.get(link['print_url'])\n",
    "print_soup = bs(print_response.text, 'lxml')\n",
    "tables = print_soup.find_all('table')\n",
    "number_of_items = range(0,3)\n",
    "rows = tables[0].find_all('tr')\n",
    "row_data = []\n",
    "for n in number_of_items:\n",
    "        row_n = []\n",
    "        for element in rows[1].select('td')[n]:\n",
    "            row_data = element.get_text(strip=True, separator=',').replace(u'\\xa0', u' ')\n",
    "            row_n.append(row_data)\n",
    "            print(row_n)\n",
    "        #clean_list = list(filter(None, row_n))[1:]\n",
    "        #data.append(*clean_list)\n"
   ]
  },
  {
   "cell_type": "code",
   "execution_count": 13,
   "metadata": {
    "collapsed": false,
    "jupyter": {
     "outputs_hidden": false
    },
    "pycharm": {
     "name": "#%%\n"
    }
   },
   "outputs": [],
   "source": [
    "def make_table(print_link):\n",
    "    print_response = requests.get(print_link['print_url'])\n",
    "    print_soup = bs(print_response.text, 'lxml')\n",
    "    tables = print_soup.find_all('table')\n",
    "    rows = tables[2].select('table tr:nth-of-type(9) tr')\n",
    "    table_row = []\n",
    "    for row in rows[1:]:\n",
    "        protocol_row = []\n",
    "        for value in row.select('td'):\n",
    "            one_protocol = value.get_text(strip=True, separator=',').replace(u'\\xa0', u' ')\n",
    "            protocol_row.append(one_protocol)\n",
    "        table_row.append(','.join(protocol_row))\n",
    "    return table_row"
   ]
  },
  {
   "cell_type": "code",
   "execution_count": 14,
   "metadata": {
    "collapsed": false,
    "jupyter": {
     "outputs_hidden": false
    },
    "pycharm": {
     "name": "#%%\n"
    }
   },
   "outputs": [],
   "source": [
    "def make_table_test(print_link):\n",
    "    print_response = requests.get(print_link['print_url'])\n",
    "    if print_response.ok:\n",
    "        print_soup = bs(print_response.text, 'lxml')\n",
    "        tables = print_soup.find_all('table')\n",
    "        rows = tables[2].select('table tr:nth-of-type(9) tr')\n",
    "        table_row = []\n",
    "        if len(rows) > 2:\n",
    "            for row in rows[1:]:\n",
    "                protocol_row = []\n",
    "                for value in row.select('td'):\n",
    "                    one_protocol = value.get_text(strip=True, separator=',').replace(u'\\xa0', u' ')\n",
    "                    protocol_row.append(one_protocol)\n",
    "                #table_row.append(','.join(protocol_row))\n",
    "                while len(protocol_row) < 4:\n",
    "                    protocol_row.append(' ')\n",
    "                for item in protocol_row:\n",
    "                    table_row.append(item)\n",
    "            return table_row\n",
    "        else:\n",
    "            for row in rows[1:]:\n",
    "                protocol_row = []\n",
    "                for value in row.select('td'):\n",
    "                    one_protocol = value.get_text(strip=True, separator=',').replace(u'\\xa0', u' ')\n",
    "                    protocol_row.append(one_protocol)\n",
    "                if not protocol_row[0] == 'Prekontrast':\n",
    "                    protocol_row.insert(0, 'Nativ')\n",
    "                while len(protocol_row) < 4:\n",
    "                    protocol_row.append(' ')\n",
    "            return protocol_row"
   ]
  },
  {
   "cell_type": "code",
   "execution_count": 15,
   "metadata": {
    "collapsed": false,
    "jupyter": {
     "outputs_hidden": false
    },
    "pycharm": {
     "name": "#%%\n"
    }
   },
   "outputs": [
    {
     "data": {
      "text/plain": "0"
     },
     "execution_count": 15,
     "metadata": {},
     "output_type": "execute_result"
    }
   ],
   "source": [
    "print_response = requests.get(print_links[7]['print_url'])\n",
    "print_soup = bs(print_response.text, 'lxml')\n",
    "tables = print_soup.find_all('table td table')\n",
    "len(tables)"
   ]
  },
  {
   "cell_type": "code",
   "execution_count": 485,
   "metadata": {
    "collapsed": false,
    "jupyter": {
     "outputs_hidden": false
    },
    "pycharm": {
     "name": "#%%\n"
    }
   },
   "outputs": [
    {
     "data": {
      "text/plain": [
       "['Nativ',\n",
       " 'Loc,Sag T1 TSE,Tra T2 4mm,Tra Flair  4mm,Tra SWI,Tra DWI resolve 4mm',\n",
       " 'Loc,Sag T1 3D mprage,Tra T2 Propeller 4mm,Tra Flair 4mm,Tra SWAN,Tra DWI 4mm',\n",
       " 'Loc,Sag T1 TSE,Tra T2 4mm,Tra Flair 4mm,Tra SWI/VenBold,Tra DWI 4mm',\n",
       " '',\n",
       " '',\n",
       " '',\n",
       " '',\n",
       " '',\n",
       " '',\n",
       " '',\n",
       " '']"
      ]
     },
     "execution_count": 485,
     "metadata": {},
     "output_type": "execute_result"
    }
   ],
   "source": [
    "make_table_test(print_links[2])"
   ]
  },
  {
   "cell_type": "code",
   "execution_count": 468,
   "metadata": {
    "collapsed": false,
    "jupyter": {
     "outputs_hidden": false
    },
    "pycharm": {
     "name": "#%%\n"
    }
   },
   "outputs": [
    {
     "data": {
      "text/plain": [
       "['Prekontrast',\n",
       " 'Loc,Sag T1 3D Space,Tra DWI',\n",
       " 'Loc,Sag T1 3D Cube,Tra DWI',\n",
       " 'Loc,Sag T1 3D BrainView,Tra DWI',\n",
       " 'IV kontrast',\n",
       " '',\n",
       " '',\n",
       " '',\n",
       " 'Postkontrast',\n",
       " 'Sag 3D Flair,Tra T2 TSE,Sag T1 3D Space K+',\n",
       " 'Sag 3D Flair,Tra T2 TSE,Sag T1 3D Cube K+',\n",
       " 'Sag 3D Flair,Tra T2 TSE,Sag T1 3D BrainView K+']"
      ]
     },
     "execution_count": 468,
     "metadata": {},
     "output_type": "execute_result"
    }
   ],
   "source": [
    "make_table_test(print_links[1])"
   ]
  },
  {
   "cell_type": "code",
   "execution_count": 456,
   "metadata": {
    "collapsed": false,
    "jupyter": {
     "outputs_hidden": false
    },
    "pycharm": {
     "name": "#%%\n"
    }
   },
   "outputs": [
    {
     "data": {
      "text/plain": [
       "['Prekontrast,Loc,Sag T1 3D Space,Tra DWI,Loc,Sag T1 3D Cube,Tra DWI,Loc,Sag T1 3D BrainView,Tra DWI',\n",
       " 'IV kontrast,,,',\n",
       " 'Postkontrast,Tra T2 TSE,Sag 3D Flair FS,Sag T1 3D Space K+,Tra T2 TSE,Sag 3D Flair FS,Sag T1 3D Cube K+,Tra T2 TSE,Sag 3D Flair FS,Sag T1 3D BrainView K+']"
      ]
     },
     "execution_count": 456,
     "metadata": {},
     "output_type": "execute_result"
    }
   ],
   "source": [
    "make_table(print_links[3])"
   ]
  },
  {
   "cell_type": "code",
   "execution_count": 16,
   "metadata": {
    "collapsed": false,
    "jupyter": {
     "outputs_hidden": false
    },
    "pycharm": {
     "name": "#%%\n"
    }
   },
   "outputs": [
    {
     "name": "stdout",
     "output_type": "stream",
     "text": [
      "MR KC1: Caput standard utredning (MRKC) https://ehandboken.ous-hf.no/Printing/PrintDocument?documentId=14633\n"
     ]
    },
    {
     "ename": "ConnectTimeout",
     "evalue": "HTTPSConnectionPool(host='ehandboken.ous-hf.no', port=443): Max retries exceeded with url: /Printing/PrintDocument?documentId=14633 (Caused by ConnectTimeoutError(<urllib3.connection.HTTPSConnection object at 0x7fd2d0a13e50>, 'Connection to ehandboken.ous-hf.no timed out. (connect timeout=None)'))",
     "output_type": "error",
     "traceback": [
      "\u001B[0;31m---------------------------------------------------------------------------\u001B[0m",
      "\u001B[0;31mTimeoutError\u001B[0m                              Traceback (most recent call last)",
      "File \u001B[0;32m~/anaconda3/envs/mri_protocols/lib/python3.10/site-packages/urllib3/connection.py:174\u001B[0m, in \u001B[0;36mHTTPConnection._new_conn\u001B[0;34m(self)\u001B[0m\n\u001B[1;32m    173\u001B[0m \u001B[38;5;28;01mtry\u001B[39;00m:\n\u001B[0;32m--> 174\u001B[0m     conn \u001B[38;5;241m=\u001B[39m \u001B[43mconnection\u001B[49m\u001B[38;5;241;43m.\u001B[39;49m\u001B[43mcreate_connection\u001B[49m\u001B[43m(\u001B[49m\n\u001B[1;32m    175\u001B[0m \u001B[43m        \u001B[49m\u001B[43m(\u001B[49m\u001B[38;5;28;43mself\u001B[39;49m\u001B[38;5;241;43m.\u001B[39;49m\u001B[43m_dns_host\u001B[49m\u001B[43m,\u001B[49m\u001B[43m \u001B[49m\u001B[38;5;28;43mself\u001B[39;49m\u001B[38;5;241;43m.\u001B[39;49m\u001B[43mport\u001B[49m\u001B[43m)\u001B[49m\u001B[43m,\u001B[49m\u001B[43m \u001B[49m\u001B[38;5;28;43mself\u001B[39;49m\u001B[38;5;241;43m.\u001B[39;49m\u001B[43mtimeout\u001B[49m\u001B[43m,\u001B[49m\u001B[43m \u001B[49m\u001B[38;5;241;43m*\u001B[39;49m\u001B[38;5;241;43m*\u001B[39;49m\u001B[43mextra_kw\u001B[49m\n\u001B[1;32m    176\u001B[0m \u001B[43m    \u001B[49m\u001B[43m)\u001B[49m\n\u001B[1;32m    178\u001B[0m \u001B[38;5;28;01mexcept\u001B[39;00m SocketTimeout:\n",
      "File \u001B[0;32m~/anaconda3/envs/mri_protocols/lib/python3.10/site-packages/urllib3/util/connection.py:95\u001B[0m, in \u001B[0;36mcreate_connection\u001B[0;34m(address, timeout, source_address, socket_options)\u001B[0m\n\u001B[1;32m     94\u001B[0m \u001B[38;5;28;01mif\u001B[39;00m err \u001B[38;5;129;01mis\u001B[39;00m \u001B[38;5;129;01mnot\u001B[39;00m \u001B[38;5;28;01mNone\u001B[39;00m:\n\u001B[0;32m---> 95\u001B[0m     \u001B[38;5;28;01mraise\u001B[39;00m err\n\u001B[1;32m     97\u001B[0m \u001B[38;5;28;01mraise\u001B[39;00m socket\u001B[38;5;241m.\u001B[39merror(\u001B[38;5;124m\"\u001B[39m\u001B[38;5;124mgetaddrinfo returns an empty list\u001B[39m\u001B[38;5;124m\"\u001B[39m)\n",
      "File \u001B[0;32m~/anaconda3/envs/mri_protocols/lib/python3.10/site-packages/urllib3/util/connection.py:85\u001B[0m, in \u001B[0;36mcreate_connection\u001B[0;34m(address, timeout, source_address, socket_options)\u001B[0m\n\u001B[1;32m     84\u001B[0m     sock\u001B[38;5;241m.\u001B[39mbind(source_address)\n\u001B[0;32m---> 85\u001B[0m \u001B[43msock\u001B[49m\u001B[38;5;241;43m.\u001B[39;49m\u001B[43mconnect\u001B[49m\u001B[43m(\u001B[49m\u001B[43msa\u001B[49m\u001B[43m)\u001B[49m\n\u001B[1;32m     86\u001B[0m \u001B[38;5;28;01mreturn\u001B[39;00m sock\n",
      "\u001B[0;31mTimeoutError\u001B[0m: [Errno 60] Operation timed out",
      "\nDuring handling of the above exception, another exception occurred:\n",
      "\u001B[0;31mConnectTimeoutError\u001B[0m                       Traceback (most recent call last)",
      "File \u001B[0;32m~/anaconda3/envs/mri_protocols/lib/python3.10/site-packages/urllib3/connectionpool.py:703\u001B[0m, in \u001B[0;36mHTTPConnectionPool.urlopen\u001B[0;34m(self, method, url, body, headers, retries, redirect, assert_same_host, timeout, pool_timeout, release_conn, chunked, body_pos, **response_kw)\u001B[0m\n\u001B[1;32m    702\u001B[0m \u001B[38;5;66;03m# Make the request on the httplib connection object.\u001B[39;00m\n\u001B[0;32m--> 703\u001B[0m httplib_response \u001B[38;5;241m=\u001B[39m \u001B[38;5;28;43mself\u001B[39;49m\u001B[38;5;241;43m.\u001B[39;49m\u001B[43m_make_request\u001B[49m\u001B[43m(\u001B[49m\n\u001B[1;32m    704\u001B[0m \u001B[43m    \u001B[49m\u001B[43mconn\u001B[49m\u001B[43m,\u001B[49m\n\u001B[1;32m    705\u001B[0m \u001B[43m    \u001B[49m\u001B[43mmethod\u001B[49m\u001B[43m,\u001B[49m\n\u001B[1;32m    706\u001B[0m \u001B[43m    \u001B[49m\u001B[43murl\u001B[49m\u001B[43m,\u001B[49m\n\u001B[1;32m    707\u001B[0m \u001B[43m    \u001B[49m\u001B[43mtimeout\u001B[49m\u001B[38;5;241;43m=\u001B[39;49m\u001B[43mtimeout_obj\u001B[49m\u001B[43m,\u001B[49m\n\u001B[1;32m    708\u001B[0m \u001B[43m    \u001B[49m\u001B[43mbody\u001B[49m\u001B[38;5;241;43m=\u001B[39;49m\u001B[43mbody\u001B[49m\u001B[43m,\u001B[49m\n\u001B[1;32m    709\u001B[0m \u001B[43m    \u001B[49m\u001B[43mheaders\u001B[49m\u001B[38;5;241;43m=\u001B[39;49m\u001B[43mheaders\u001B[49m\u001B[43m,\u001B[49m\n\u001B[1;32m    710\u001B[0m \u001B[43m    \u001B[49m\u001B[43mchunked\u001B[49m\u001B[38;5;241;43m=\u001B[39;49m\u001B[43mchunked\u001B[49m\u001B[43m,\u001B[49m\n\u001B[1;32m    711\u001B[0m \u001B[43m\u001B[49m\u001B[43m)\u001B[49m\n\u001B[1;32m    713\u001B[0m \u001B[38;5;66;03m# If we're going to release the connection in ``finally:``, then\u001B[39;00m\n\u001B[1;32m    714\u001B[0m \u001B[38;5;66;03m# the response doesn't need to know about the connection. Otherwise\u001B[39;00m\n\u001B[1;32m    715\u001B[0m \u001B[38;5;66;03m# it will also try to release it and we'll have a double-release\u001B[39;00m\n\u001B[1;32m    716\u001B[0m \u001B[38;5;66;03m# mess.\u001B[39;00m\n",
      "File \u001B[0;32m~/anaconda3/envs/mri_protocols/lib/python3.10/site-packages/urllib3/connectionpool.py:386\u001B[0m, in \u001B[0;36mHTTPConnectionPool._make_request\u001B[0;34m(self, conn, method, url, timeout, chunked, **httplib_request_kw)\u001B[0m\n\u001B[1;32m    385\u001B[0m \u001B[38;5;28;01mtry\u001B[39;00m:\n\u001B[0;32m--> 386\u001B[0m     \u001B[38;5;28;43mself\u001B[39;49m\u001B[38;5;241;43m.\u001B[39;49m\u001B[43m_validate_conn\u001B[49m\u001B[43m(\u001B[49m\u001B[43mconn\u001B[49m\u001B[43m)\u001B[49m\n\u001B[1;32m    387\u001B[0m \u001B[38;5;28;01mexcept\u001B[39;00m (SocketTimeout, BaseSSLError) \u001B[38;5;28;01mas\u001B[39;00m e:\n\u001B[1;32m    388\u001B[0m     \u001B[38;5;66;03m# Py2 raises this as a BaseSSLError, Py3 raises it as socket timeout.\u001B[39;00m\n",
      "File \u001B[0;32m~/anaconda3/envs/mri_protocols/lib/python3.10/site-packages/urllib3/connectionpool.py:1040\u001B[0m, in \u001B[0;36mHTTPSConnectionPool._validate_conn\u001B[0;34m(self, conn)\u001B[0m\n\u001B[1;32m   1039\u001B[0m \u001B[38;5;28;01mif\u001B[39;00m \u001B[38;5;129;01mnot\u001B[39;00m \u001B[38;5;28mgetattr\u001B[39m(conn, \u001B[38;5;124m\"\u001B[39m\u001B[38;5;124msock\u001B[39m\u001B[38;5;124m\"\u001B[39m, \u001B[38;5;28;01mNone\u001B[39;00m):  \u001B[38;5;66;03m# AppEngine might not have  `.sock`\u001B[39;00m\n\u001B[0;32m-> 1040\u001B[0m     \u001B[43mconn\u001B[49m\u001B[38;5;241;43m.\u001B[39;49m\u001B[43mconnect\u001B[49m\u001B[43m(\u001B[49m\u001B[43m)\u001B[49m\n\u001B[1;32m   1042\u001B[0m \u001B[38;5;28;01mif\u001B[39;00m \u001B[38;5;129;01mnot\u001B[39;00m conn\u001B[38;5;241m.\u001B[39mis_verified:\n",
      "File \u001B[0;32m~/anaconda3/envs/mri_protocols/lib/python3.10/site-packages/urllib3/connection.py:358\u001B[0m, in \u001B[0;36mHTTPSConnection.connect\u001B[0;34m(self)\u001B[0m\n\u001B[1;32m    356\u001B[0m \u001B[38;5;28;01mdef\u001B[39;00m \u001B[38;5;21mconnect\u001B[39m(\u001B[38;5;28mself\u001B[39m):\n\u001B[1;32m    357\u001B[0m     \u001B[38;5;66;03m# Add certificate verification\u001B[39;00m\n\u001B[0;32m--> 358\u001B[0m     conn \u001B[38;5;241m=\u001B[39m \u001B[38;5;28;43mself\u001B[39;49m\u001B[38;5;241;43m.\u001B[39;49m\u001B[43m_new_conn\u001B[49m\u001B[43m(\u001B[49m\u001B[43m)\u001B[49m\n\u001B[1;32m    359\u001B[0m     hostname \u001B[38;5;241m=\u001B[39m \u001B[38;5;28mself\u001B[39m\u001B[38;5;241m.\u001B[39mhost\n",
      "File \u001B[0;32m~/anaconda3/envs/mri_protocols/lib/python3.10/site-packages/urllib3/connection.py:179\u001B[0m, in \u001B[0;36mHTTPConnection._new_conn\u001B[0;34m(self)\u001B[0m\n\u001B[1;32m    178\u001B[0m \u001B[38;5;28;01mexcept\u001B[39;00m SocketTimeout:\n\u001B[0;32m--> 179\u001B[0m     \u001B[38;5;28;01mraise\u001B[39;00m ConnectTimeoutError(\n\u001B[1;32m    180\u001B[0m         \u001B[38;5;28mself\u001B[39m,\n\u001B[1;32m    181\u001B[0m         \u001B[38;5;124m\"\u001B[39m\u001B[38;5;124mConnection to \u001B[39m\u001B[38;5;132;01m%s\u001B[39;00m\u001B[38;5;124m timed out. (connect timeout=\u001B[39m\u001B[38;5;132;01m%s\u001B[39;00m\u001B[38;5;124m)\u001B[39m\u001B[38;5;124m\"\u001B[39m\n\u001B[1;32m    182\u001B[0m         \u001B[38;5;241m%\u001B[39m (\u001B[38;5;28mself\u001B[39m\u001B[38;5;241m.\u001B[39mhost, \u001B[38;5;28mself\u001B[39m\u001B[38;5;241m.\u001B[39mtimeout),\n\u001B[1;32m    183\u001B[0m     )\n\u001B[1;32m    185\u001B[0m \u001B[38;5;28;01mexcept\u001B[39;00m SocketError \u001B[38;5;28;01mas\u001B[39;00m e:\n",
      "\u001B[0;31mConnectTimeoutError\u001B[0m: (<urllib3.connection.HTTPSConnection object at 0x7fd2d0a13e50>, 'Connection to ehandboken.ous-hf.no timed out. (connect timeout=None)')",
      "\nDuring handling of the above exception, another exception occurred:\n",
      "\u001B[0;31mMaxRetryError\u001B[0m                             Traceback (most recent call last)",
      "File \u001B[0;32m~/anaconda3/envs/mri_protocols/lib/python3.10/site-packages/requests/adapters.py:440\u001B[0m, in \u001B[0;36mHTTPAdapter.send\u001B[0;34m(self, request, stream, timeout, verify, cert, proxies)\u001B[0m\n\u001B[1;32m    439\u001B[0m \u001B[38;5;28;01mif\u001B[39;00m \u001B[38;5;129;01mnot\u001B[39;00m chunked:\n\u001B[0;32m--> 440\u001B[0m     resp \u001B[38;5;241m=\u001B[39m \u001B[43mconn\u001B[49m\u001B[38;5;241;43m.\u001B[39;49m\u001B[43murlopen\u001B[49m\u001B[43m(\u001B[49m\n\u001B[1;32m    441\u001B[0m \u001B[43m        \u001B[49m\u001B[43mmethod\u001B[49m\u001B[38;5;241;43m=\u001B[39;49m\u001B[43mrequest\u001B[49m\u001B[38;5;241;43m.\u001B[39;49m\u001B[43mmethod\u001B[49m\u001B[43m,\u001B[49m\n\u001B[1;32m    442\u001B[0m \u001B[43m        \u001B[49m\u001B[43murl\u001B[49m\u001B[38;5;241;43m=\u001B[39;49m\u001B[43murl\u001B[49m\u001B[43m,\u001B[49m\n\u001B[1;32m    443\u001B[0m \u001B[43m        \u001B[49m\u001B[43mbody\u001B[49m\u001B[38;5;241;43m=\u001B[39;49m\u001B[43mrequest\u001B[49m\u001B[38;5;241;43m.\u001B[39;49m\u001B[43mbody\u001B[49m\u001B[43m,\u001B[49m\n\u001B[1;32m    444\u001B[0m \u001B[43m        \u001B[49m\u001B[43mheaders\u001B[49m\u001B[38;5;241;43m=\u001B[39;49m\u001B[43mrequest\u001B[49m\u001B[38;5;241;43m.\u001B[39;49m\u001B[43mheaders\u001B[49m\u001B[43m,\u001B[49m\n\u001B[1;32m    445\u001B[0m \u001B[43m        \u001B[49m\u001B[43mredirect\u001B[49m\u001B[38;5;241;43m=\u001B[39;49m\u001B[38;5;28;43;01mFalse\u001B[39;49;00m\u001B[43m,\u001B[49m\n\u001B[1;32m    446\u001B[0m \u001B[43m        \u001B[49m\u001B[43massert_same_host\u001B[49m\u001B[38;5;241;43m=\u001B[39;49m\u001B[38;5;28;43;01mFalse\u001B[39;49;00m\u001B[43m,\u001B[49m\n\u001B[1;32m    447\u001B[0m \u001B[43m        \u001B[49m\u001B[43mpreload_content\u001B[49m\u001B[38;5;241;43m=\u001B[39;49m\u001B[38;5;28;43;01mFalse\u001B[39;49;00m\u001B[43m,\u001B[49m\n\u001B[1;32m    448\u001B[0m \u001B[43m        \u001B[49m\u001B[43mdecode_content\u001B[49m\u001B[38;5;241;43m=\u001B[39;49m\u001B[38;5;28;43;01mFalse\u001B[39;49;00m\u001B[43m,\u001B[49m\n\u001B[1;32m    449\u001B[0m \u001B[43m        \u001B[49m\u001B[43mretries\u001B[49m\u001B[38;5;241;43m=\u001B[39;49m\u001B[38;5;28;43mself\u001B[39;49m\u001B[38;5;241;43m.\u001B[39;49m\u001B[43mmax_retries\u001B[49m\u001B[43m,\u001B[49m\n\u001B[1;32m    450\u001B[0m \u001B[43m        \u001B[49m\u001B[43mtimeout\u001B[49m\u001B[38;5;241;43m=\u001B[39;49m\u001B[43mtimeout\u001B[49m\n\u001B[1;32m    451\u001B[0m \u001B[43m    \u001B[49m\u001B[43m)\u001B[49m\n\u001B[1;32m    453\u001B[0m \u001B[38;5;66;03m# Send the request.\u001B[39;00m\n\u001B[1;32m    454\u001B[0m \u001B[38;5;28;01melse\u001B[39;00m:\n",
      "File \u001B[0;32m~/anaconda3/envs/mri_protocols/lib/python3.10/site-packages/urllib3/connectionpool.py:785\u001B[0m, in \u001B[0;36mHTTPConnectionPool.urlopen\u001B[0;34m(self, method, url, body, headers, retries, redirect, assert_same_host, timeout, pool_timeout, release_conn, chunked, body_pos, **response_kw)\u001B[0m\n\u001B[1;32m    783\u001B[0m     e \u001B[38;5;241m=\u001B[39m ProtocolError(\u001B[38;5;124m\"\u001B[39m\u001B[38;5;124mConnection aborted.\u001B[39m\u001B[38;5;124m\"\u001B[39m, e)\n\u001B[0;32m--> 785\u001B[0m retries \u001B[38;5;241m=\u001B[39m \u001B[43mretries\u001B[49m\u001B[38;5;241;43m.\u001B[39;49m\u001B[43mincrement\u001B[49m\u001B[43m(\u001B[49m\n\u001B[1;32m    786\u001B[0m \u001B[43m    \u001B[49m\u001B[43mmethod\u001B[49m\u001B[43m,\u001B[49m\u001B[43m \u001B[49m\u001B[43murl\u001B[49m\u001B[43m,\u001B[49m\u001B[43m \u001B[49m\u001B[43merror\u001B[49m\u001B[38;5;241;43m=\u001B[39;49m\u001B[43me\u001B[49m\u001B[43m,\u001B[49m\u001B[43m \u001B[49m\u001B[43m_pool\u001B[49m\u001B[38;5;241;43m=\u001B[39;49m\u001B[38;5;28;43mself\u001B[39;49m\u001B[43m,\u001B[49m\u001B[43m \u001B[49m\u001B[43m_stacktrace\u001B[49m\u001B[38;5;241;43m=\u001B[39;49m\u001B[43msys\u001B[49m\u001B[38;5;241;43m.\u001B[39;49m\u001B[43mexc_info\u001B[49m\u001B[43m(\u001B[49m\u001B[43m)\u001B[49m\u001B[43m[\u001B[49m\u001B[38;5;241;43m2\u001B[39;49m\u001B[43m]\u001B[49m\n\u001B[1;32m    787\u001B[0m \u001B[43m\u001B[49m\u001B[43m)\u001B[49m\n\u001B[1;32m    788\u001B[0m retries\u001B[38;5;241m.\u001B[39msleep()\n",
      "File \u001B[0;32m~/anaconda3/envs/mri_protocols/lib/python3.10/site-packages/urllib3/util/retry.py:592\u001B[0m, in \u001B[0;36mRetry.increment\u001B[0;34m(self, method, url, response, error, _pool, _stacktrace)\u001B[0m\n\u001B[1;32m    591\u001B[0m \u001B[38;5;28;01mif\u001B[39;00m new_retry\u001B[38;5;241m.\u001B[39mis_exhausted():\n\u001B[0;32m--> 592\u001B[0m     \u001B[38;5;28;01mraise\u001B[39;00m MaxRetryError(_pool, url, error \u001B[38;5;129;01mor\u001B[39;00m ResponseError(cause))\n\u001B[1;32m    594\u001B[0m log\u001B[38;5;241m.\u001B[39mdebug(\u001B[38;5;124m\"\u001B[39m\u001B[38;5;124mIncremented Retry for (url=\u001B[39m\u001B[38;5;124m'\u001B[39m\u001B[38;5;132;01m%s\u001B[39;00m\u001B[38;5;124m'\u001B[39m\u001B[38;5;124m): \u001B[39m\u001B[38;5;132;01m%r\u001B[39;00m\u001B[38;5;124m\"\u001B[39m, url, new_retry)\n",
      "\u001B[0;31mMaxRetryError\u001B[0m: HTTPSConnectionPool(host='ehandboken.ous-hf.no', port=443): Max retries exceeded with url: /Printing/PrintDocument?documentId=14633 (Caused by ConnectTimeoutError(<urllib3.connection.HTTPSConnection object at 0x7fd2d0a13e50>, 'Connection to ehandboken.ous-hf.no timed out. (connect timeout=None)'))",
      "\nDuring handling of the above exception, another exception occurred:\n",
      "\u001B[0;31mConnectTimeout\u001B[0m                            Traceback (most recent call last)",
      "Input \u001B[0;32mIn [16]\u001B[0m, in \u001B[0;36m<cell line: 2>\u001B[0;34m()\u001B[0m\n\u001B[1;32m     21\u001B[0m     \u001B[38;5;28;01mcontinue\u001B[39;00m\n\u001B[1;32m     22\u001B[0m \u001B[38;5;28;01melif\u001B[39;00m protocol[\u001B[38;5;124m'\u001B[39m\u001B[38;5;124mTitle\u001B[39m\u001B[38;5;124m'\u001B[39m]\u001B[38;5;241m.\u001B[39mstartswith(\u001B[38;5;124m'\u001B[39m\u001B[38;5;124mMR\u001B[39m\u001B[38;5;124m'\u001B[39m):\n\u001B[0;32m---> 23\u001B[0m     table_row \u001B[38;5;241m=\u001B[39m \u001B[43mmake_table_test\u001B[49m\u001B[43m(\u001B[49m\u001B[43mprotocol\u001B[49m\u001B[43m)\u001B[49m\n\u001B[1;32m     24\u001B[0m     \u001B[38;5;28;01mif\u001B[39;00m \u001B[38;5;124m'\u001B[39m\u001B[38;5;124mIV\u001B[39m\u001B[38;5;124m'\u001B[39m \u001B[38;5;129;01min\u001B[39;00m table_row[\u001B[38;5;241m0\u001B[39m] :\n\u001B[1;32m     25\u001B[0m         \u001B[38;5;28;01mfor\u001B[39;00m n \u001B[38;5;129;01min\u001B[39;00m \u001B[38;5;28mrange\u001B[39m(\u001B[38;5;241m4\u001B[39m):\n",
      "Input \u001B[0;32mIn [14]\u001B[0m, in \u001B[0;36mmake_table_test\u001B[0;34m(print_link)\u001B[0m\n\u001B[1;32m      1\u001B[0m \u001B[38;5;28;01mdef\u001B[39;00m \u001B[38;5;21mmake_table_test\u001B[39m(print_link):\n\u001B[0;32m----> 2\u001B[0m     print_response \u001B[38;5;241m=\u001B[39m \u001B[43mrequests\u001B[49m\u001B[38;5;241;43m.\u001B[39;49m\u001B[43mget\u001B[49m\u001B[43m(\u001B[49m\u001B[43mprint_link\u001B[49m\u001B[43m[\u001B[49m\u001B[38;5;124;43m'\u001B[39;49m\u001B[38;5;124;43mprint_url\u001B[39;49m\u001B[38;5;124;43m'\u001B[39;49m\u001B[43m]\u001B[49m\u001B[43m)\u001B[49m\n\u001B[1;32m      3\u001B[0m     \u001B[38;5;28;01mif\u001B[39;00m print_response\u001B[38;5;241m.\u001B[39mok:\n\u001B[1;32m      4\u001B[0m         print_soup \u001B[38;5;241m=\u001B[39m bs(print_response\u001B[38;5;241m.\u001B[39mtext, \u001B[38;5;124m'\u001B[39m\u001B[38;5;124mlxml\u001B[39m\u001B[38;5;124m'\u001B[39m)\n",
      "File \u001B[0;32m~/anaconda3/envs/mri_protocols/lib/python3.10/site-packages/requests/api.py:75\u001B[0m, in \u001B[0;36mget\u001B[0;34m(url, params, **kwargs)\u001B[0m\n\u001B[1;32m     64\u001B[0m \u001B[38;5;28;01mdef\u001B[39;00m \u001B[38;5;21mget\u001B[39m(url, params\u001B[38;5;241m=\u001B[39m\u001B[38;5;28;01mNone\u001B[39;00m, \u001B[38;5;241m*\u001B[39m\u001B[38;5;241m*\u001B[39mkwargs):\n\u001B[1;32m     65\u001B[0m     \u001B[38;5;124mr\u001B[39m\u001B[38;5;124;03m\"\"\"Sends a GET request.\u001B[39;00m\n\u001B[1;32m     66\u001B[0m \n\u001B[1;32m     67\u001B[0m \u001B[38;5;124;03m    :param url: URL for the new :class:`Request` object.\u001B[39;00m\n\u001B[0;32m   (...)\u001B[0m\n\u001B[1;32m     72\u001B[0m \u001B[38;5;124;03m    :rtype: requests.Response\u001B[39;00m\n\u001B[1;32m     73\u001B[0m \u001B[38;5;124;03m    \"\"\"\u001B[39;00m\n\u001B[0;32m---> 75\u001B[0m     \u001B[38;5;28;01mreturn\u001B[39;00m \u001B[43mrequest\u001B[49m\u001B[43m(\u001B[49m\u001B[38;5;124;43m'\u001B[39;49m\u001B[38;5;124;43mget\u001B[39;49m\u001B[38;5;124;43m'\u001B[39;49m\u001B[43m,\u001B[49m\u001B[43m \u001B[49m\u001B[43murl\u001B[49m\u001B[43m,\u001B[49m\u001B[43m \u001B[49m\u001B[43mparams\u001B[49m\u001B[38;5;241;43m=\u001B[39;49m\u001B[43mparams\u001B[49m\u001B[43m,\u001B[49m\u001B[43m \u001B[49m\u001B[38;5;241;43m*\u001B[39;49m\u001B[38;5;241;43m*\u001B[39;49m\u001B[43mkwargs\u001B[49m\u001B[43m)\u001B[49m\n",
      "File \u001B[0;32m~/anaconda3/envs/mri_protocols/lib/python3.10/site-packages/requests/api.py:61\u001B[0m, in \u001B[0;36mrequest\u001B[0;34m(method, url, **kwargs)\u001B[0m\n\u001B[1;32m     57\u001B[0m \u001B[38;5;66;03m# By using the 'with' statement we are sure the session is closed, thus we\u001B[39;00m\n\u001B[1;32m     58\u001B[0m \u001B[38;5;66;03m# avoid leaving sockets open which can trigger a ResourceWarning in some\u001B[39;00m\n\u001B[1;32m     59\u001B[0m \u001B[38;5;66;03m# cases, and look like a memory leak in others.\u001B[39;00m\n\u001B[1;32m     60\u001B[0m \u001B[38;5;28;01mwith\u001B[39;00m sessions\u001B[38;5;241m.\u001B[39mSession() \u001B[38;5;28;01mas\u001B[39;00m session:\n\u001B[0;32m---> 61\u001B[0m     \u001B[38;5;28;01mreturn\u001B[39;00m \u001B[43msession\u001B[49m\u001B[38;5;241;43m.\u001B[39;49m\u001B[43mrequest\u001B[49m\u001B[43m(\u001B[49m\u001B[43mmethod\u001B[49m\u001B[38;5;241;43m=\u001B[39;49m\u001B[43mmethod\u001B[49m\u001B[43m,\u001B[49m\u001B[43m \u001B[49m\u001B[43murl\u001B[49m\u001B[38;5;241;43m=\u001B[39;49m\u001B[43murl\u001B[49m\u001B[43m,\u001B[49m\u001B[43m \u001B[49m\u001B[38;5;241;43m*\u001B[39;49m\u001B[38;5;241;43m*\u001B[39;49m\u001B[43mkwargs\u001B[49m\u001B[43m)\u001B[49m\n",
      "File \u001B[0;32m~/anaconda3/envs/mri_protocols/lib/python3.10/site-packages/requests/sessions.py:529\u001B[0m, in \u001B[0;36mSession.request\u001B[0;34m(self, method, url, params, data, headers, cookies, files, auth, timeout, allow_redirects, proxies, hooks, stream, verify, cert, json)\u001B[0m\n\u001B[1;32m    524\u001B[0m send_kwargs \u001B[38;5;241m=\u001B[39m {\n\u001B[1;32m    525\u001B[0m     \u001B[38;5;124m'\u001B[39m\u001B[38;5;124mtimeout\u001B[39m\u001B[38;5;124m'\u001B[39m: timeout,\n\u001B[1;32m    526\u001B[0m     \u001B[38;5;124m'\u001B[39m\u001B[38;5;124mallow_redirects\u001B[39m\u001B[38;5;124m'\u001B[39m: allow_redirects,\n\u001B[1;32m    527\u001B[0m }\n\u001B[1;32m    528\u001B[0m send_kwargs\u001B[38;5;241m.\u001B[39mupdate(settings)\n\u001B[0;32m--> 529\u001B[0m resp \u001B[38;5;241m=\u001B[39m \u001B[38;5;28;43mself\u001B[39;49m\u001B[38;5;241;43m.\u001B[39;49m\u001B[43msend\u001B[49m\u001B[43m(\u001B[49m\u001B[43mprep\u001B[49m\u001B[43m,\u001B[49m\u001B[43m \u001B[49m\u001B[38;5;241;43m*\u001B[39;49m\u001B[38;5;241;43m*\u001B[39;49m\u001B[43msend_kwargs\u001B[49m\u001B[43m)\u001B[49m\n\u001B[1;32m    531\u001B[0m \u001B[38;5;28;01mreturn\u001B[39;00m resp\n",
      "File \u001B[0;32m~/anaconda3/envs/mri_protocols/lib/python3.10/site-packages/requests/sessions.py:645\u001B[0m, in \u001B[0;36mSession.send\u001B[0;34m(self, request, **kwargs)\u001B[0m\n\u001B[1;32m    642\u001B[0m start \u001B[38;5;241m=\u001B[39m preferred_clock()\n\u001B[1;32m    644\u001B[0m \u001B[38;5;66;03m# Send the request\u001B[39;00m\n\u001B[0;32m--> 645\u001B[0m r \u001B[38;5;241m=\u001B[39m \u001B[43madapter\u001B[49m\u001B[38;5;241;43m.\u001B[39;49m\u001B[43msend\u001B[49m\u001B[43m(\u001B[49m\u001B[43mrequest\u001B[49m\u001B[43m,\u001B[49m\u001B[43m \u001B[49m\u001B[38;5;241;43m*\u001B[39;49m\u001B[38;5;241;43m*\u001B[39;49m\u001B[43mkwargs\u001B[49m\u001B[43m)\u001B[49m\n\u001B[1;32m    647\u001B[0m \u001B[38;5;66;03m# Total elapsed time of the request (approximately)\u001B[39;00m\n\u001B[1;32m    648\u001B[0m elapsed \u001B[38;5;241m=\u001B[39m preferred_clock() \u001B[38;5;241m-\u001B[39m start\n",
      "File \u001B[0;32m~/anaconda3/envs/mri_protocols/lib/python3.10/site-packages/requests/adapters.py:507\u001B[0m, in \u001B[0;36mHTTPAdapter.send\u001B[0;34m(self, request, stream, timeout, verify, cert, proxies)\u001B[0m\n\u001B[1;32m    504\u001B[0m \u001B[38;5;28;01mif\u001B[39;00m \u001B[38;5;28misinstance\u001B[39m(e\u001B[38;5;241m.\u001B[39mreason, ConnectTimeoutError):\n\u001B[1;32m    505\u001B[0m     \u001B[38;5;66;03m# TODO: Remove this in 3.0.0: see #2811\u001B[39;00m\n\u001B[1;32m    506\u001B[0m     \u001B[38;5;28;01mif\u001B[39;00m \u001B[38;5;129;01mnot\u001B[39;00m \u001B[38;5;28misinstance\u001B[39m(e\u001B[38;5;241m.\u001B[39mreason, NewConnectionError):\n\u001B[0;32m--> 507\u001B[0m         \u001B[38;5;28;01mraise\u001B[39;00m ConnectTimeout(e, request\u001B[38;5;241m=\u001B[39mrequest)\n\u001B[1;32m    509\u001B[0m \u001B[38;5;28;01mif\u001B[39;00m \u001B[38;5;28misinstance\u001B[39m(e\u001B[38;5;241m.\u001B[39mreason, ResponseError):\n\u001B[1;32m    510\u001B[0m     \u001B[38;5;28;01mraise\u001B[39;00m RetryError(e, request\u001B[38;5;241m=\u001B[39mrequest)\n",
      "\u001B[0;31mConnectTimeout\u001B[0m: HTTPSConnectionPool(host='ehandboken.ous-hf.no', port=443): Max retries exceeded with url: /Printing/PrintDocument?documentId=14633 (Caused by ConnectTimeoutError(<urllib3.connection.HTTPSConnection object at 0x7fd2d0a13e50>, 'Connection to ehandboken.ous-hf.no timed out. (connect timeout=None)'))"
     ]
    }
   ],
   "source": [
    "table_data = []\n",
    "for protocol in print_links:\n",
    "        print(protocol['Title'], protocol['print_url'])\n",
    "        if 'ANG' in protocol['Title']:\n",
    "            continue\n",
    "        elif 'KVAR' in protocol['Title']:\n",
    "            continue\n",
    "        elif 'NMR3' in protocol['Title']:\n",
    "            continue\n",
    "        elif 'BKCF1' in protocol['Title']:\n",
    "            continue\n",
    "        elif 'CTOT1' in protocol['Title']:\n",
    "            continue\n",
    "        elif 'CTOT3' in protocol['Title']:\n",
    "            continue\n",
    "        elif 'CTOT5' in protocol['Title']:\n",
    "            continue\n",
    "        elif 'BORB5' in protocol['Title']:\n",
    "            continue\n",
    "        elif 'BORB7' in protocol['Title']:\n",
    "            continue\n",
    "        elif protocol['Title'].startswith('MR'):\n",
    "            table_row = make_table_test(protocol)\n",
    "            if 'IV' in table_row[0] :\n",
    "                for n in range(4):\n",
    "                    table_row.insert(0, '')\n",
    "            table_row.insert(0, protocol['Title'])\n",
    "            print(table_row)\n",
    "            table_data.append(table_row)"
   ]
  },
  {
   "cell_type": "code",
   "execution_count": 563,
   "metadata": {
    "collapsed": false,
    "jupyter": {
     "outputs_hidden": false
    },
    "pycharm": {
     "name": "#%%\n"
    }
   },
   "outputs": [],
   "source": [
    "pd.DataFrame(table_data).to_csv('protokoller.csv')"
   ]
  },
  {
   "cell_type": "code",
   "execution_count": 415,
   "metadata": {
    "collapsed": false,
    "jupyter": {
     "outputs_hidden": false
    },
    "pycharm": {
     "name": "#%%\n"
    }
   },
   "outputs": [
    {
     "name": "stdout",
     "output_type": "stream",
     "text": [
      "https://ehandboken.ous-hf.no/Printing/PrintDocument?documentId=14633\n",
      "https://ehandboken.ous-hf.no/Printing/PrintDocument?documentId=14629\n",
      "https://ehandboken.ous-hf.no/Printing/PrintDocument?documentId=14706\n",
      "https://ehandboken.ous-hf.no/Printing/PrintDocument?documentId=14708\n",
      "https://ehandboken.ous-hf.no/Printing/PrintDocument?documentId=109137\n"
     ]
    }
   ],
   "source": [
    "for protocol in print_links[:5]:\n",
    "    print(protocol['print_url'])"
   ]
  },
  {
   "cell_type": "code",
   "execution_count": 248,
   "metadata": {
    "collapsed": false,
    "jupyter": {
     "outputs_hidden": false
    },
    "pycharm": {
     "name": "#%%\n"
    }
   },
   "outputs": [
    {
     "data": {
      "text/plain": [
       "['Sag T1 3D mprage,Tra DWI,Sag 3D Flair FS,Tra T2 TSE',\n",
       " 'Sag 3D T1 mprage,Tra DWI,Sag 3D Flair FS,Tra T2 Propeller',\n",
       " 'Sag T1 3D  TFE,Tra DWI,Sag 3D Flair FS,Tra T2 TSE']"
      ]
     },
     "execution_count": 248,
     "metadata": {},
     "output_type": "execute_result"
    }
   ],
   "source": [
    "make_table_data(tables)"
   ]
  },
  {
   "cell_type": "code",
   "execution_count": 242,
   "metadata": {
    "collapsed": false,
    "jupyter": {
     "outputs_hidden": false
    },
    "pycharm": {
     "name": "#%%\n"
    }
   },
   "outputs": [
    {
     "name": "stdout",
     "output_type": "stream",
     "text": [
      "ha\n"
     ]
    }
   ],
   "source": [
    "name = 'hallo'\n",
    "print(name[:2])"
   ]
  },
  {
   "cell_type": "code",
   "execution_count": 239,
   "metadata": {
    "collapsed": false,
    "jupyter": {
     "outputs_hidden": false
    },
    "pycharm": {
     "name": "#%%\n"
    }
   },
   "outputs": [
    {
     "data": {
      "text/plain": [
       "['Sag T1 3D  TFE,Tra DWI,Sag 3D Flair FS,Tra T2 TSE']"
      ]
     },
     "execution_count": 239,
     "metadata": {},
     "output_type": "execute_result"
    }
   ],
   "source": [
    "data"
   ]
  },
  {
   "cell_type": "code",
   "execution_count": 208,
   "metadata": {
    "collapsed": false,
    "jupyter": {
     "outputs_hidden": false
    },
    "pycharm": {
     "name": "#%%\n"
    }
   },
   "outputs": [
    {
     "ename": "KeyboardInterrupt",
     "evalue": "",
     "output_type": "error",
     "traceback": [
      "\u001B[0;31m---------------------------------------------------------------------------\u001B[0m",
      "\u001B[0;31mKeyboardInterrupt\u001B[0m                         Traceback (most recent call last)",
      "Input \u001B[0;32mIn [208]\u001B[0m, in \u001B[0;36m<cell line: 2>\u001B[0;34m()\u001B[0m\n\u001B[1;32m      1\u001B[0m result \u001B[38;5;241m=\u001B[39m []\n\u001B[1;32m      2\u001B[0m \u001B[38;5;28;01mfor\u001B[39;00m link \u001B[38;5;129;01min\u001B[39;00m print_links:\n\u001B[0;32m----> 3\u001B[0m     one_table \u001B[38;5;241m=\u001B[39m \u001B[43mpd\u001B[49m\u001B[38;5;241;43m.\u001B[39;49m\u001B[43mread_html\u001B[49m\u001B[43m(\u001B[49m\u001B[43mlink\u001B[49m\u001B[43m[\u001B[49m\u001B[38;5;124;43m'\u001B[39;49m\u001B[38;5;124;43mprint_url\u001B[39;49m\u001B[38;5;124;43m'\u001B[39;49m\u001B[43m]\u001B[49m\u001B[43m,\u001B[49m\u001B[43m \u001B[49m\u001B[43mheader\u001B[49m\u001B[38;5;241;43m=\u001B[39;49m\u001B[38;5;241;43m0\u001B[39;49m\u001B[43m)\u001B[49m[\u001B[38;5;241m5\u001B[39m]\n\u001B[1;32m      4\u001B[0m     result\u001B[38;5;241m.\u001B[39mappend(one_table)\n\u001B[1;32m      5\u001B[0m all_protocols \u001B[38;5;241m=\u001B[39m pd\u001B[38;5;241m.\u001B[39mconcat(result)\n",
      "File \u001B[0;32m~/anaconda3/envs/mri_protocols/lib/python3.10/site-packages/pandas/util/_decorators.py:311\u001B[0m, in \u001B[0;36mdeprecate_nonkeyword_arguments.<locals>.decorate.<locals>.wrapper\u001B[0;34m(*args, **kwargs)\u001B[0m\n\u001B[1;32m    305\u001B[0m \u001B[38;5;28;01mif\u001B[39;00m \u001B[38;5;28mlen\u001B[39m(args) \u001B[38;5;241m>\u001B[39m num_allow_args:\n\u001B[1;32m    306\u001B[0m     warnings\u001B[38;5;241m.\u001B[39mwarn(\n\u001B[1;32m    307\u001B[0m         msg\u001B[38;5;241m.\u001B[39mformat(arguments\u001B[38;5;241m=\u001B[39marguments),\n\u001B[1;32m    308\u001B[0m         \u001B[38;5;167;01mFutureWarning\u001B[39;00m,\n\u001B[1;32m    309\u001B[0m         stacklevel\u001B[38;5;241m=\u001B[39mstacklevel,\n\u001B[1;32m    310\u001B[0m     )\n\u001B[0;32m--> 311\u001B[0m \u001B[38;5;28;01mreturn\u001B[39;00m \u001B[43mfunc\u001B[49m\u001B[43m(\u001B[49m\u001B[38;5;241;43m*\u001B[39;49m\u001B[43margs\u001B[49m\u001B[43m,\u001B[49m\u001B[43m \u001B[49m\u001B[38;5;241;43m*\u001B[39;49m\u001B[38;5;241;43m*\u001B[39;49m\u001B[43mkwargs\u001B[49m\u001B[43m)\u001B[49m\n",
      "File \u001B[0;32m~/anaconda3/envs/mri_protocols/lib/python3.10/site-packages/pandas/io/html.py:1113\u001B[0m, in \u001B[0;36mread_html\u001B[0;34m(io, match, flavor, header, index_col, skiprows, attrs, parse_dates, thousands, encoding, decimal, converters, na_values, keep_default_na, displayed_only)\u001B[0m\n\u001B[1;32m   1109\u001B[0m validate_header_arg(header)\n\u001B[1;32m   1111\u001B[0m io \u001B[38;5;241m=\u001B[39m stringify_path(io)\n\u001B[0;32m-> 1113\u001B[0m \u001B[38;5;28;01mreturn\u001B[39;00m \u001B[43m_parse\u001B[49m\u001B[43m(\u001B[49m\n\u001B[1;32m   1114\u001B[0m \u001B[43m    \u001B[49m\u001B[43mflavor\u001B[49m\u001B[38;5;241;43m=\u001B[39;49m\u001B[43mflavor\u001B[49m\u001B[43m,\u001B[49m\n\u001B[1;32m   1115\u001B[0m \u001B[43m    \u001B[49m\u001B[43mio\u001B[49m\u001B[38;5;241;43m=\u001B[39;49m\u001B[43mio\u001B[49m\u001B[43m,\u001B[49m\n\u001B[1;32m   1116\u001B[0m \u001B[43m    \u001B[49m\u001B[43mmatch\u001B[49m\u001B[38;5;241;43m=\u001B[39;49m\u001B[43mmatch\u001B[49m\u001B[43m,\u001B[49m\n\u001B[1;32m   1117\u001B[0m \u001B[43m    \u001B[49m\u001B[43mheader\u001B[49m\u001B[38;5;241;43m=\u001B[39;49m\u001B[43mheader\u001B[49m\u001B[43m,\u001B[49m\n\u001B[1;32m   1118\u001B[0m \u001B[43m    \u001B[49m\u001B[43mindex_col\u001B[49m\u001B[38;5;241;43m=\u001B[39;49m\u001B[43mindex_col\u001B[49m\u001B[43m,\u001B[49m\n\u001B[1;32m   1119\u001B[0m \u001B[43m    \u001B[49m\u001B[43mskiprows\u001B[49m\u001B[38;5;241;43m=\u001B[39;49m\u001B[43mskiprows\u001B[49m\u001B[43m,\u001B[49m\n\u001B[1;32m   1120\u001B[0m \u001B[43m    \u001B[49m\u001B[43mparse_dates\u001B[49m\u001B[38;5;241;43m=\u001B[39;49m\u001B[43mparse_dates\u001B[49m\u001B[43m,\u001B[49m\n\u001B[1;32m   1121\u001B[0m \u001B[43m    \u001B[49m\u001B[43mthousands\u001B[49m\u001B[38;5;241;43m=\u001B[39;49m\u001B[43mthousands\u001B[49m\u001B[43m,\u001B[49m\n\u001B[1;32m   1122\u001B[0m \u001B[43m    \u001B[49m\u001B[43mattrs\u001B[49m\u001B[38;5;241;43m=\u001B[39;49m\u001B[43mattrs\u001B[49m\u001B[43m,\u001B[49m\n\u001B[1;32m   1123\u001B[0m \u001B[43m    \u001B[49m\u001B[43mencoding\u001B[49m\u001B[38;5;241;43m=\u001B[39;49m\u001B[43mencoding\u001B[49m\u001B[43m,\u001B[49m\n\u001B[1;32m   1124\u001B[0m \u001B[43m    \u001B[49m\u001B[43mdecimal\u001B[49m\u001B[38;5;241;43m=\u001B[39;49m\u001B[43mdecimal\u001B[49m\u001B[43m,\u001B[49m\n\u001B[1;32m   1125\u001B[0m \u001B[43m    \u001B[49m\u001B[43mconverters\u001B[49m\u001B[38;5;241;43m=\u001B[39;49m\u001B[43mconverters\u001B[49m\u001B[43m,\u001B[49m\n\u001B[1;32m   1126\u001B[0m \u001B[43m    \u001B[49m\u001B[43mna_values\u001B[49m\u001B[38;5;241;43m=\u001B[39;49m\u001B[43mna_values\u001B[49m\u001B[43m,\u001B[49m\n\u001B[1;32m   1127\u001B[0m \u001B[43m    \u001B[49m\u001B[43mkeep_default_na\u001B[49m\u001B[38;5;241;43m=\u001B[39;49m\u001B[43mkeep_default_na\u001B[49m\u001B[43m,\u001B[49m\n\u001B[1;32m   1128\u001B[0m \u001B[43m    \u001B[49m\u001B[43mdisplayed_only\u001B[49m\u001B[38;5;241;43m=\u001B[39;49m\u001B[43mdisplayed_only\u001B[49m\u001B[43m,\u001B[49m\n\u001B[1;32m   1129\u001B[0m \u001B[43m\u001B[49m\u001B[43m)\u001B[49m\n",
      "File \u001B[0;32m~/anaconda3/envs/mri_protocols/lib/python3.10/site-packages/pandas/io/html.py:919\u001B[0m, in \u001B[0;36m_parse\u001B[0;34m(flavor, io, match, attrs, encoding, displayed_only, **kwargs)\u001B[0m\n\u001B[1;32m    916\u001B[0m p \u001B[38;5;241m=\u001B[39m parser(io, compiled_match, attrs, encoding, displayed_only)\n\u001B[1;32m    918\u001B[0m \u001B[38;5;28;01mtry\u001B[39;00m:\n\u001B[0;32m--> 919\u001B[0m     tables \u001B[38;5;241m=\u001B[39m \u001B[43mp\u001B[49m\u001B[38;5;241;43m.\u001B[39;49m\u001B[43mparse_tables\u001B[49m\u001B[43m(\u001B[49m\u001B[43m)\u001B[49m\n\u001B[1;32m    920\u001B[0m \u001B[38;5;28;01mexcept\u001B[39;00m \u001B[38;5;167;01mValueError\u001B[39;00m \u001B[38;5;28;01mas\u001B[39;00m caught:\n\u001B[1;32m    921\u001B[0m     \u001B[38;5;66;03m# if `io` is an io-like object, check if it's seekable\u001B[39;00m\n\u001B[1;32m    922\u001B[0m     \u001B[38;5;66;03m# and try to rewind it before trying the next parser\u001B[39;00m\n\u001B[1;32m    923\u001B[0m     \u001B[38;5;28;01mif\u001B[39;00m \u001B[38;5;28mhasattr\u001B[39m(io, \u001B[38;5;124m\"\u001B[39m\u001B[38;5;124mseekable\u001B[39m\u001B[38;5;124m\"\u001B[39m) \u001B[38;5;129;01mand\u001B[39;00m io\u001B[38;5;241m.\u001B[39mseekable():\n",
      "File \u001B[0;32m~/anaconda3/envs/mri_protocols/lib/python3.10/site-packages/pandas/io/html.py:239\u001B[0m, in \u001B[0;36m_HtmlFrameParser.parse_tables\u001B[0;34m(self)\u001B[0m\n\u001B[1;32m    231\u001B[0m \u001B[38;5;28;01mdef\u001B[39;00m \u001B[38;5;21mparse_tables\u001B[39m(\u001B[38;5;28mself\u001B[39m):\n\u001B[1;32m    232\u001B[0m     \u001B[38;5;124;03m\"\"\"\u001B[39;00m\n\u001B[1;32m    233\u001B[0m \u001B[38;5;124;03m    Parse and return all tables from the DOM.\u001B[39;00m\n\u001B[1;32m    234\u001B[0m \n\u001B[0;32m   (...)\u001B[0m\n\u001B[1;32m    237\u001B[0m \u001B[38;5;124;03m    list of parsed (header, body, footer) tuples from tables.\u001B[39;00m\n\u001B[1;32m    238\u001B[0m \u001B[38;5;124;03m    \"\"\"\u001B[39;00m\n\u001B[0;32m--> 239\u001B[0m     tables \u001B[38;5;241m=\u001B[39m \u001B[38;5;28mself\u001B[39m\u001B[38;5;241m.\u001B[39m_parse_tables(\u001B[38;5;28;43mself\u001B[39;49m\u001B[38;5;241;43m.\u001B[39;49m\u001B[43m_build_doc\u001B[49m\u001B[43m(\u001B[49m\u001B[43m)\u001B[49m, \u001B[38;5;28mself\u001B[39m\u001B[38;5;241m.\u001B[39mmatch, \u001B[38;5;28mself\u001B[39m\u001B[38;5;241m.\u001B[39mattrs)\n\u001B[1;32m    240\u001B[0m     \u001B[38;5;28;01mreturn\u001B[39;00m (\u001B[38;5;28mself\u001B[39m\u001B[38;5;241m.\u001B[39m_parse_thead_tbody_tfoot(table) \u001B[38;5;28;01mfor\u001B[39;00m table \u001B[38;5;129;01min\u001B[39;00m tables)\n",
      "File \u001B[0;32m~/anaconda3/envs/mri_protocols/lib/python3.10/site-packages/pandas/io/html.py:739\u001B[0m, in \u001B[0;36m_LxmlFrameParser._build_doc\u001B[0;34m(self)\u001B[0m\n\u001B[1;32m    737\u001B[0m \u001B[38;5;28;01mtry\u001B[39;00m:\n\u001B[1;32m    738\u001B[0m     \u001B[38;5;28;01mif\u001B[39;00m is_url(\u001B[38;5;28mself\u001B[39m\u001B[38;5;241m.\u001B[39mio):\n\u001B[0;32m--> 739\u001B[0m         \u001B[38;5;28;01mwith\u001B[39;00m \u001B[43murlopen\u001B[49m\u001B[43m(\u001B[49m\u001B[38;5;28;43mself\u001B[39;49m\u001B[38;5;241;43m.\u001B[39;49m\u001B[43mio\u001B[49m\u001B[43m)\u001B[49m \u001B[38;5;28;01mas\u001B[39;00m f:\n\u001B[1;32m    740\u001B[0m             r \u001B[38;5;241m=\u001B[39m parse(f, parser\u001B[38;5;241m=\u001B[39mparser)\n\u001B[1;32m    741\u001B[0m     \u001B[38;5;28;01melse\u001B[39;00m:\n\u001B[1;32m    742\u001B[0m         \u001B[38;5;66;03m# try to parse the input in the simplest way\u001B[39;00m\n",
      "File \u001B[0;32m~/anaconda3/envs/mri_protocols/lib/python3.10/site-packages/pandas/io/common.py:239\u001B[0m, in \u001B[0;36murlopen\u001B[0;34m(*args, **kwargs)\u001B[0m\n\u001B[1;32m    233\u001B[0m \u001B[38;5;124;03m\"\"\"\u001B[39;00m\n\u001B[1;32m    234\u001B[0m \u001B[38;5;124;03mLazy-import wrapper for stdlib urlopen, as that imports a big chunk of\u001B[39;00m\n\u001B[1;32m    235\u001B[0m \u001B[38;5;124;03mthe stdlib.\u001B[39;00m\n\u001B[1;32m    236\u001B[0m \u001B[38;5;124;03m\"\"\"\u001B[39;00m\n\u001B[1;32m    237\u001B[0m \u001B[38;5;28;01mimport\u001B[39;00m \u001B[38;5;21;01murllib\u001B[39;00m\u001B[38;5;21;01m.\u001B[39;00m\u001B[38;5;21;01mrequest\u001B[39;00m\n\u001B[0;32m--> 239\u001B[0m \u001B[38;5;28;01mreturn\u001B[39;00m \u001B[43murllib\u001B[49m\u001B[38;5;241;43m.\u001B[39;49m\u001B[43mrequest\u001B[49m\u001B[38;5;241;43m.\u001B[39;49m\u001B[43murlopen\u001B[49m\u001B[43m(\u001B[49m\u001B[38;5;241;43m*\u001B[39;49m\u001B[43margs\u001B[49m\u001B[43m,\u001B[49m\u001B[43m \u001B[49m\u001B[38;5;241;43m*\u001B[39;49m\u001B[38;5;241;43m*\u001B[39;49m\u001B[43mkwargs\u001B[49m\u001B[43m)\u001B[49m\n",
      "File \u001B[0;32m~/anaconda3/envs/mri_protocols/lib/python3.10/urllib/request.py:216\u001B[0m, in \u001B[0;36murlopen\u001B[0;34m(url, data, timeout, cafile, capath, cadefault, context)\u001B[0m\n\u001B[1;32m    214\u001B[0m \u001B[38;5;28;01melse\u001B[39;00m:\n\u001B[1;32m    215\u001B[0m     opener \u001B[38;5;241m=\u001B[39m _opener\n\u001B[0;32m--> 216\u001B[0m \u001B[38;5;28;01mreturn\u001B[39;00m \u001B[43mopener\u001B[49m\u001B[38;5;241;43m.\u001B[39;49m\u001B[43mopen\u001B[49m\u001B[43m(\u001B[49m\u001B[43murl\u001B[49m\u001B[43m,\u001B[49m\u001B[43m \u001B[49m\u001B[43mdata\u001B[49m\u001B[43m,\u001B[49m\u001B[43m \u001B[49m\u001B[43mtimeout\u001B[49m\u001B[43m)\u001B[49m\n",
      "File \u001B[0;32m~/anaconda3/envs/mri_protocols/lib/python3.10/urllib/request.py:519\u001B[0m, in \u001B[0;36mOpenerDirector.open\u001B[0;34m(self, fullurl, data, timeout)\u001B[0m\n\u001B[1;32m    516\u001B[0m     req \u001B[38;5;241m=\u001B[39m meth(req)\n\u001B[1;32m    518\u001B[0m sys\u001B[38;5;241m.\u001B[39maudit(\u001B[38;5;124m'\u001B[39m\u001B[38;5;124murllib.Request\u001B[39m\u001B[38;5;124m'\u001B[39m, req\u001B[38;5;241m.\u001B[39mfull_url, req\u001B[38;5;241m.\u001B[39mdata, req\u001B[38;5;241m.\u001B[39mheaders, req\u001B[38;5;241m.\u001B[39mget_method())\n\u001B[0;32m--> 519\u001B[0m response \u001B[38;5;241m=\u001B[39m \u001B[38;5;28;43mself\u001B[39;49m\u001B[38;5;241;43m.\u001B[39;49m\u001B[43m_open\u001B[49m\u001B[43m(\u001B[49m\u001B[43mreq\u001B[49m\u001B[43m,\u001B[49m\u001B[43m \u001B[49m\u001B[43mdata\u001B[49m\u001B[43m)\u001B[49m\n\u001B[1;32m    521\u001B[0m \u001B[38;5;66;03m# post-process response\u001B[39;00m\n\u001B[1;32m    522\u001B[0m meth_name \u001B[38;5;241m=\u001B[39m protocol\u001B[38;5;241m+\u001B[39m\u001B[38;5;124m\"\u001B[39m\u001B[38;5;124m_response\u001B[39m\u001B[38;5;124m\"\u001B[39m\n",
      "File \u001B[0;32m~/anaconda3/envs/mri_protocols/lib/python3.10/urllib/request.py:536\u001B[0m, in \u001B[0;36mOpenerDirector._open\u001B[0;34m(self, req, data)\u001B[0m\n\u001B[1;32m    533\u001B[0m     \u001B[38;5;28;01mreturn\u001B[39;00m result\n\u001B[1;32m    535\u001B[0m protocol \u001B[38;5;241m=\u001B[39m req\u001B[38;5;241m.\u001B[39mtype\n\u001B[0;32m--> 536\u001B[0m result \u001B[38;5;241m=\u001B[39m \u001B[38;5;28;43mself\u001B[39;49m\u001B[38;5;241;43m.\u001B[39;49m\u001B[43m_call_chain\u001B[49m\u001B[43m(\u001B[49m\u001B[38;5;28;43mself\u001B[39;49m\u001B[38;5;241;43m.\u001B[39;49m\u001B[43mhandle_open\u001B[49m\u001B[43m,\u001B[49m\u001B[43m \u001B[49m\u001B[43mprotocol\u001B[49m\u001B[43m,\u001B[49m\u001B[43m \u001B[49m\u001B[43mprotocol\u001B[49m\u001B[43m \u001B[49m\u001B[38;5;241;43m+\u001B[39;49m\n\u001B[1;32m    537\u001B[0m \u001B[43m                          \u001B[49m\u001B[38;5;124;43m'\u001B[39;49m\u001B[38;5;124;43m_open\u001B[39;49m\u001B[38;5;124;43m'\u001B[39;49m\u001B[43m,\u001B[49m\u001B[43m \u001B[49m\u001B[43mreq\u001B[49m\u001B[43m)\u001B[49m\n\u001B[1;32m    538\u001B[0m \u001B[38;5;28;01mif\u001B[39;00m result:\n\u001B[1;32m    539\u001B[0m     \u001B[38;5;28;01mreturn\u001B[39;00m result\n",
      "File \u001B[0;32m~/anaconda3/envs/mri_protocols/lib/python3.10/urllib/request.py:496\u001B[0m, in \u001B[0;36mOpenerDirector._call_chain\u001B[0;34m(self, chain, kind, meth_name, *args)\u001B[0m\n\u001B[1;32m    494\u001B[0m \u001B[38;5;28;01mfor\u001B[39;00m handler \u001B[38;5;129;01min\u001B[39;00m handlers:\n\u001B[1;32m    495\u001B[0m     func \u001B[38;5;241m=\u001B[39m \u001B[38;5;28mgetattr\u001B[39m(handler, meth_name)\n\u001B[0;32m--> 496\u001B[0m     result \u001B[38;5;241m=\u001B[39m \u001B[43mfunc\u001B[49m\u001B[43m(\u001B[49m\u001B[38;5;241;43m*\u001B[39;49m\u001B[43margs\u001B[49m\u001B[43m)\u001B[49m\n\u001B[1;32m    497\u001B[0m     \u001B[38;5;28;01mif\u001B[39;00m result \u001B[38;5;129;01mis\u001B[39;00m \u001B[38;5;129;01mnot\u001B[39;00m \u001B[38;5;28;01mNone\u001B[39;00m:\n\u001B[1;32m    498\u001B[0m         \u001B[38;5;28;01mreturn\u001B[39;00m result\n",
      "File \u001B[0;32m~/anaconda3/envs/mri_protocols/lib/python3.10/urllib/request.py:1391\u001B[0m, in \u001B[0;36mHTTPSHandler.https_open\u001B[0;34m(self, req)\u001B[0m\n\u001B[1;32m   1390\u001B[0m \u001B[38;5;28;01mdef\u001B[39;00m \u001B[38;5;21mhttps_open\u001B[39m(\u001B[38;5;28mself\u001B[39m, req):\n\u001B[0;32m-> 1391\u001B[0m     \u001B[38;5;28;01mreturn\u001B[39;00m \u001B[38;5;28;43mself\u001B[39;49m\u001B[38;5;241;43m.\u001B[39;49m\u001B[43mdo_open\u001B[49m\u001B[43m(\u001B[49m\u001B[43mhttp\u001B[49m\u001B[38;5;241;43m.\u001B[39;49m\u001B[43mclient\u001B[49m\u001B[38;5;241;43m.\u001B[39;49m\u001B[43mHTTPSConnection\u001B[49m\u001B[43m,\u001B[49m\u001B[43m \u001B[49m\u001B[43mreq\u001B[49m\u001B[43m,\u001B[49m\n\u001B[1;32m   1392\u001B[0m \u001B[43m        \u001B[49m\u001B[43mcontext\u001B[49m\u001B[38;5;241;43m=\u001B[39;49m\u001B[38;5;28;43mself\u001B[39;49m\u001B[38;5;241;43m.\u001B[39;49m\u001B[43m_context\u001B[49m\u001B[43m,\u001B[49m\u001B[43m \u001B[49m\u001B[43mcheck_hostname\u001B[49m\u001B[38;5;241;43m=\u001B[39;49m\u001B[38;5;28;43mself\u001B[39;49m\u001B[38;5;241;43m.\u001B[39;49m\u001B[43m_check_hostname\u001B[49m\u001B[43m)\u001B[49m\n",
      "File \u001B[0;32m~/anaconda3/envs/mri_protocols/lib/python3.10/urllib/request.py:1352\u001B[0m, in \u001B[0;36mAbstractHTTPHandler.do_open\u001B[0;34m(self, http_class, req, **http_conn_args)\u001B[0m\n\u001B[1;32m   1350\u001B[0m     \u001B[38;5;28;01mexcept\u001B[39;00m \u001B[38;5;167;01mOSError\u001B[39;00m \u001B[38;5;28;01mas\u001B[39;00m err: \u001B[38;5;66;03m# timeout error\u001B[39;00m\n\u001B[1;32m   1351\u001B[0m         \u001B[38;5;28;01mraise\u001B[39;00m URLError(err)\n\u001B[0;32m-> 1352\u001B[0m     r \u001B[38;5;241m=\u001B[39m \u001B[43mh\u001B[49m\u001B[38;5;241;43m.\u001B[39;49m\u001B[43mgetresponse\u001B[49m\u001B[43m(\u001B[49m\u001B[43m)\u001B[49m\n\u001B[1;32m   1353\u001B[0m \u001B[38;5;28;01mexcept\u001B[39;00m:\n\u001B[1;32m   1354\u001B[0m     h\u001B[38;5;241m.\u001B[39mclose()\n",
      "File \u001B[0;32m~/anaconda3/envs/mri_protocols/lib/python3.10/http/client.py:1368\u001B[0m, in \u001B[0;36mHTTPConnection.getresponse\u001B[0;34m(self)\u001B[0m\n\u001B[1;32m   1366\u001B[0m \u001B[38;5;28;01mtry\u001B[39;00m:\n\u001B[1;32m   1367\u001B[0m     \u001B[38;5;28;01mtry\u001B[39;00m:\n\u001B[0;32m-> 1368\u001B[0m         \u001B[43mresponse\u001B[49m\u001B[38;5;241;43m.\u001B[39;49m\u001B[43mbegin\u001B[49m\u001B[43m(\u001B[49m\u001B[43m)\u001B[49m\n\u001B[1;32m   1369\u001B[0m     \u001B[38;5;28;01mexcept\u001B[39;00m \u001B[38;5;167;01mConnectionError\u001B[39;00m:\n\u001B[1;32m   1370\u001B[0m         \u001B[38;5;28mself\u001B[39m\u001B[38;5;241m.\u001B[39mclose()\n",
      "File \u001B[0;32m~/anaconda3/envs/mri_protocols/lib/python3.10/http/client.py:317\u001B[0m, in \u001B[0;36mHTTPResponse.begin\u001B[0;34m(self)\u001B[0m\n\u001B[1;32m    315\u001B[0m \u001B[38;5;66;03m# read until we get a non-100 response\u001B[39;00m\n\u001B[1;32m    316\u001B[0m \u001B[38;5;28;01mwhile\u001B[39;00m \u001B[38;5;28;01mTrue\u001B[39;00m:\n\u001B[0;32m--> 317\u001B[0m     version, status, reason \u001B[38;5;241m=\u001B[39m \u001B[38;5;28;43mself\u001B[39;49m\u001B[38;5;241;43m.\u001B[39;49m\u001B[43m_read_status\u001B[49m\u001B[43m(\u001B[49m\u001B[43m)\u001B[49m\n\u001B[1;32m    318\u001B[0m     \u001B[38;5;28;01mif\u001B[39;00m status \u001B[38;5;241m!=\u001B[39m CONTINUE:\n\u001B[1;32m    319\u001B[0m         \u001B[38;5;28;01mbreak\u001B[39;00m\n",
      "File \u001B[0;32m~/anaconda3/envs/mri_protocols/lib/python3.10/http/client.py:278\u001B[0m, in \u001B[0;36mHTTPResponse._read_status\u001B[0;34m(self)\u001B[0m\n\u001B[1;32m    277\u001B[0m \u001B[38;5;28;01mdef\u001B[39;00m \u001B[38;5;21m_read_status\u001B[39m(\u001B[38;5;28mself\u001B[39m):\n\u001B[0;32m--> 278\u001B[0m     line \u001B[38;5;241m=\u001B[39m \u001B[38;5;28mstr\u001B[39m(\u001B[38;5;28;43mself\u001B[39;49m\u001B[38;5;241;43m.\u001B[39;49m\u001B[43mfp\u001B[49m\u001B[38;5;241;43m.\u001B[39;49m\u001B[43mreadline\u001B[49m\u001B[43m(\u001B[49m\u001B[43m_MAXLINE\u001B[49m\u001B[43m \u001B[49m\u001B[38;5;241;43m+\u001B[39;49m\u001B[43m \u001B[49m\u001B[38;5;241;43m1\u001B[39;49m\u001B[43m)\u001B[49m, \u001B[38;5;124m\"\u001B[39m\u001B[38;5;124miso-8859-1\u001B[39m\u001B[38;5;124m\"\u001B[39m)\n\u001B[1;32m    279\u001B[0m     \u001B[38;5;28;01mif\u001B[39;00m \u001B[38;5;28mlen\u001B[39m(line) \u001B[38;5;241m>\u001B[39m _MAXLINE:\n\u001B[1;32m    280\u001B[0m         \u001B[38;5;28;01mraise\u001B[39;00m LineTooLong(\u001B[38;5;124m\"\u001B[39m\u001B[38;5;124mstatus line\u001B[39m\u001B[38;5;124m\"\u001B[39m)\n",
      "File \u001B[0;32m~/anaconda3/envs/mri_protocols/lib/python3.10/socket.py:705\u001B[0m, in \u001B[0;36mSocketIO.readinto\u001B[0;34m(self, b)\u001B[0m\n\u001B[1;32m    703\u001B[0m \u001B[38;5;28;01mwhile\u001B[39;00m \u001B[38;5;28;01mTrue\u001B[39;00m:\n\u001B[1;32m    704\u001B[0m     \u001B[38;5;28;01mtry\u001B[39;00m:\n\u001B[0;32m--> 705\u001B[0m         \u001B[38;5;28;01mreturn\u001B[39;00m \u001B[38;5;28;43mself\u001B[39;49m\u001B[38;5;241;43m.\u001B[39;49m\u001B[43m_sock\u001B[49m\u001B[38;5;241;43m.\u001B[39;49m\u001B[43mrecv_into\u001B[49m\u001B[43m(\u001B[49m\u001B[43mb\u001B[49m\u001B[43m)\u001B[49m\n\u001B[1;32m    706\u001B[0m     \u001B[38;5;28;01mexcept\u001B[39;00m timeout:\n\u001B[1;32m    707\u001B[0m         \u001B[38;5;28mself\u001B[39m\u001B[38;5;241m.\u001B[39m_timeout_occurred \u001B[38;5;241m=\u001B[39m \u001B[38;5;28;01mTrue\u001B[39;00m\n",
      "File \u001B[0;32m~/anaconda3/envs/mri_protocols/lib/python3.10/ssl.py:1273\u001B[0m, in \u001B[0;36mSSLSocket.recv_into\u001B[0;34m(self, buffer, nbytes, flags)\u001B[0m\n\u001B[1;32m   1269\u001B[0m     \u001B[38;5;28;01mif\u001B[39;00m flags \u001B[38;5;241m!=\u001B[39m \u001B[38;5;241m0\u001B[39m:\n\u001B[1;32m   1270\u001B[0m         \u001B[38;5;28;01mraise\u001B[39;00m \u001B[38;5;167;01mValueError\u001B[39;00m(\n\u001B[1;32m   1271\u001B[0m           \u001B[38;5;124m\"\u001B[39m\u001B[38;5;124mnon-zero flags not allowed in calls to recv_into() on \u001B[39m\u001B[38;5;132;01m%s\u001B[39;00m\u001B[38;5;124m\"\u001B[39m \u001B[38;5;241m%\u001B[39m\n\u001B[1;32m   1272\u001B[0m           \u001B[38;5;28mself\u001B[39m\u001B[38;5;241m.\u001B[39m\u001B[38;5;18m__class__\u001B[39m)\n\u001B[0;32m-> 1273\u001B[0m     \u001B[38;5;28;01mreturn\u001B[39;00m \u001B[38;5;28;43mself\u001B[39;49m\u001B[38;5;241;43m.\u001B[39;49m\u001B[43mread\u001B[49m\u001B[43m(\u001B[49m\u001B[43mnbytes\u001B[49m\u001B[43m,\u001B[49m\u001B[43m \u001B[49m\u001B[43mbuffer\u001B[49m\u001B[43m)\u001B[49m\n\u001B[1;32m   1274\u001B[0m \u001B[38;5;28;01melse\u001B[39;00m:\n\u001B[1;32m   1275\u001B[0m     \u001B[38;5;28;01mreturn\u001B[39;00m \u001B[38;5;28msuper\u001B[39m()\u001B[38;5;241m.\u001B[39mrecv_into(buffer, nbytes, flags)\n",
      "File \u001B[0;32m~/anaconda3/envs/mri_protocols/lib/python3.10/ssl.py:1129\u001B[0m, in \u001B[0;36mSSLSocket.read\u001B[0;34m(self, len, buffer)\u001B[0m\n\u001B[1;32m   1127\u001B[0m \u001B[38;5;28;01mtry\u001B[39;00m:\n\u001B[1;32m   1128\u001B[0m     \u001B[38;5;28;01mif\u001B[39;00m buffer \u001B[38;5;129;01mis\u001B[39;00m \u001B[38;5;129;01mnot\u001B[39;00m \u001B[38;5;28;01mNone\u001B[39;00m:\n\u001B[0;32m-> 1129\u001B[0m         \u001B[38;5;28;01mreturn\u001B[39;00m \u001B[38;5;28;43mself\u001B[39;49m\u001B[38;5;241;43m.\u001B[39;49m\u001B[43m_sslobj\u001B[49m\u001B[38;5;241;43m.\u001B[39;49m\u001B[43mread\u001B[49m\u001B[43m(\u001B[49m\u001B[38;5;28;43mlen\u001B[39;49m\u001B[43m,\u001B[49m\u001B[43m \u001B[49m\u001B[43mbuffer\u001B[49m\u001B[43m)\u001B[49m\n\u001B[1;32m   1130\u001B[0m     \u001B[38;5;28;01melse\u001B[39;00m:\n\u001B[1;32m   1131\u001B[0m         \u001B[38;5;28;01mreturn\u001B[39;00m \u001B[38;5;28mself\u001B[39m\u001B[38;5;241m.\u001B[39m_sslobj\u001B[38;5;241m.\u001B[39mread(\u001B[38;5;28mlen\u001B[39m)\n",
      "\u001B[0;31mKeyboardInterrupt\u001B[0m: "
     ]
    }
   ],
   "source": [
    "result = []\n",
    "for link in print_links:\n",
    "    one_table = pd.read_html(link['print_url'], header=0)[5]\n",
    "    result.append(one_table)\n",
    "all_protocols = pd.concat(result)"
   ]
  },
  {
   "cell_type": "code",
   "execution_count": null,
   "metadata": {
    "collapsed": false,
    "jupyter": {
     "outputs_hidden": false
    },
    "pycharm": {
     "name": "#%%\n"
    }
   },
   "outputs": [],
   "source": [
    "all_protocols"
   ]
  }
 ],
 "metadata": {
  "kernelspec": {
   "display_name": "Python 3 (ipykernel)",
   "language": "python",
   "name": "python3"
  },
  "language_info": {
   "codemirror_mode": {
    "name": "ipython",
    "version": 3
   },
   "file_extension": ".py",
   "mimetype": "text/x-python",
   "name": "python",
   "nbconvert_exporter": "python",
   "pygments_lexer": "ipython3",
   "version": "3.10.0"
  }
 },
 "nbformat": 4,
 "nbformat_minor": 4
}